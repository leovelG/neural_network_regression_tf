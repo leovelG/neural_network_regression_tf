{
  "cells": [
    {
      "cell_type": "markdown",
      "metadata": {
        "id": "v2I_yqbM59vy"
      },
      "source": [
        "#Introduction to Regression with Neural Networks in TensorFlow \n",
        "There are many definitions for a regression problem but in our case, we're goin to simplify it: predicting a numerical variable based on some other combination of variables, even shorter... predicting a number"
      ]
    },
    {
      "cell_type": "code",
      "execution_count": null,
      "metadata": {
        "colab": {
          "base_uri": "https://localhost:8080/"
        },
        "id": "aIHdpRgO6jRe",
        "outputId": "b143357f-92e5-40ff-cf4d-125feb35ddc7"
      },
      "outputs": [
        {
          "output_type": "stream",
          "name": "stdout",
          "text": [
            "2.8.0\n"
          ]
        }
      ],
      "source": [
        "# Import TensorFlow\n",
        "import tensorflow as tf \n",
        "print(tf.__version__)"
      ]
    },
    {
      "cell_type": "markdown",
      "metadata": {
        "id": "nZQgr3Fy6uiA"
      },
      "source": [
        "### Creating data to view and fit "
      ]
    },
    {
      "cell_type": "code",
      "execution_count": null,
      "metadata": {
        "colab": {
          "base_uri": "https://localhost:8080/",
          "height": 286
        },
        "id": "iRvtY0LQ63c3",
        "outputId": "d1538e26-e0eb-4303-ab95-1806ff083158"
      },
      "outputs": [
        {
          "output_type": "execute_result",
          "data": {
            "text/plain": [
              "<matplotlib.collections.PathCollection at 0x7ff960793490>"
            ]
          },
          "metadata": {},
          "execution_count": 2
        },
        {
          "output_type": "display_data",
          "data": {
            "text/plain": [
              "<Figure size 432x288 with 1 Axes>"
            ],
            "image/png": "[encoded data removed]"
          },
          "metadata": {
            "needs_background": "light"
          }
        }
      ],
      "source": [
        "import numpy as np \n",
        "import matplotlib.pyplot as plt \n",
        "\n",
        "#Create features \n",
        "x= np.array([-7.0, -4.0, -1.0, 2.0, 5.0, 8.0, 11.0, 14.0])\n",
        "\n",
        "#Create labels \n",
        "y = np.array([3.0, 6.0, 9.0, 12.0, 15.0, 18.0, 21.0, 24.0])\n",
        "\n",
        "#Visualization \n",
        "plt.scatter(x,y)"
      ]
    },
    {
      "cell_type": "markdown",
      "metadata": {
        "id": "1jpwJ6CJ7dae"
      },
      "source": [
        "###Input and variables\n"
      ]
    },
    {
      "cell_type": "code",
      "execution_count": null,
      "metadata": {
        "colab": {
          "base_uri": "https://localhost:8080/"
        },
        "id": "3P4uEowF750Z",
        "outputId": "7b77b03c-2ee9-49eb-c9dd-74f06ffd5c8a"
      },
      "outputs": [
        {
          "output_type": "execute_result",
          "data": {
            "text/plain": [
              "(<tf.Tensor: shape=(3,), dtype=string, numpy=array([b'bedroom', b'bathroom', b'garage'], dtype=object)>,\n",
              " <tf.Tensor: shape=(1,), dtype=int32, numpy=array([939700], dtype=int32)>)"
            ]
          },
          "metadata": {},
          "execution_count": 4
        }
      ],
      "source": [
        "#Create a demo tensor fo our housing price prediction problem \n",
        "house_info = tf.constant([\"bedroom\", \"bathroom\", \"garage\"])\n",
        "house_price = tf.constant([939700])\n",
        "house_info, house_price "
      ]
    },
    {
      "cell_type": "code",
      "execution_count": null,
      "metadata": {
        "colab": {
          "base_uri": "https://localhost:8080/",
          "height": 200
        },
        "id": "DdKYLcXy8gp8",
        "outputId": "5cc0c13b-2e9f-41de-f810-ca6029b023ae"
      },
      "outputs": [
        {
          "output_type": "error",
          "ename": "NameError",
          "evalue": "ignored",
          "traceback": [
            "\u001b[0;31m---------------------------------------------------------------------------\u001b[0m",
            "\u001b[0;31mNameError\u001b[0m                                 Traceback (most recent call last)",
            "\u001b[0;32m<ipython-input-5-d007efb25bda>\u001b[0m in \u001b[0;36m<module>\u001b[0;34m()\u001b[0m\n\u001b[1;32m      1\u001b[0m \u001b[0minput_shape\u001b[0m \u001b[0;34m=\u001b[0m \u001b[0mx\u001b[0m\u001b[0;34m.\u001b[0m\u001b[0mshape\u001b[0m\u001b[0;34m\u001b[0m\u001b[0;34m\u001b[0m\u001b[0m\n\u001b[1;32m      2\u001b[0m \u001b[0moutput_shape\u001b[0m\u001b[0;34m=\u001b[0m \u001b[0my\u001b[0m\u001b[0;34m.\u001b[0m\u001b[0mshape\u001b[0m\u001b[0;34m\u001b[0m\u001b[0;34m\u001b[0m\u001b[0m\n\u001b[0;32m----> 3\u001b[0;31m \u001b[0minput_shape\u001b[0m\u001b[0;34m,\u001b[0m \u001b[0moutput\u001b[0m\u001b[0;34m.\u001b[0m\u001b[0mshape\u001b[0m\u001b[0;34m\u001b[0m\u001b[0;34m\u001b[0m\u001b[0m\n\u001b[0m",
            "\u001b[0;31mNameError\u001b[0m: name 'output' is not defined"
          ]
        }
      ],
      "source": [
        "input_shape = x.shape\n",
        "output_shape= y.shape\n",
        "input_shape, output.shape"
      ]
    },
    {
      "cell_type": "code",
      "execution_count": null,
      "metadata": {
        "id": "vqThci7R8vuq",
        "colab": {
          "base_uri": "https://localhost:8080/"
        },
        "outputId": "496439c3-a524-4934-8ae2-1b0301c151e5"
      },
      "outputs": [
        {
          "output_type": "execute_result",
          "data": {
            "text/plain": [
              "(<tf.Tensor: shape=(8,), dtype=float32, numpy=array([-7., -4., -1.,  2.,  5.,  8., 11., 14.], dtype=float32)>,\n",
              " <tf.Tensor: shape=(8,), dtype=float32, numpy=array([ 3.,  6.,  9., 12., 15., 18., 21., 24.], dtype=float32)>)"
            ]
          },
          "metadata": {},
          "execution_count": 3
        }
      ],
      "source": [
        "X = tf.cast(tf.constant(x), dtype= tf.float32 )\n",
        "y = tf.cast(tf.constant(y), dtype= tf.float32 )\n",
        "X, y"
      ]
    },
    {
      "cell_type": "code",
      "source": [
        "input_shape = X[0].shape\n",
        "output_shape = y[0].shape\n",
        "input_shape,    output_shape"
      ],
      "metadata": {
        "colab": {
          "base_uri": "https://localhost:8080/"
        },
        "id": "acujMZRJ6xnQ",
        "outputId": "5f54c802-9ed5-46f1-c825-b52762950b17"
      },
      "execution_count": null,
      "outputs": [
        {
          "output_type": "execute_result",
          "data": {
            "text/plain": [
              "(TensorShape([]), TensorShape([]))"
            ]
          },
          "metadata": {},
          "execution_count": 4
        }
      ]
    },
    {
      "cell_type": "markdown",
      "source": [
        "## Steps in modelling with TensorFlow\n",
        "1. **Creating a mode** - define the input and output layers, as well as the hidden layers of a deep learning model \n",
        "2. **Compiling a model** - define the loss funcition( in other word, the function which tells our model how grong it is) and the optimizer (tells our model how to improve the patterns it's learning) and evaluation metrics (what we can use to interpret the performance of our model). \n",
        "3. **Fitting a model** - letting the model try to find patterns between X&Y (features and labels) \n",
        "\n"
      ],
      "metadata": {
        "id": "JmQwMRpX7FFy"
      }
    },
    {
      "cell_type": "code",
      "source": [
        "# Set random seed \n",
        "tf.random.set_seed(42)\n",
        "\n",
        "# 1 Create a model using the Sequential API \n",
        "model = tf.keras.Sequential([ \n",
        "  tf.keras.layers.Dense(2, input_shape=(1,))                                                          \n",
        "])\n",
        "\n",
        "# 2 Compile the model\n",
        "model.compile(loss=tf.keras.losses.mae, #MAE IS FOR MEAN ABSOLUTE ERROR\n",
        "              optimizer=tf.keras.optimizers.Adam(lr=1), #SGD means Stochastic Gradient Descent\n",
        "              metrics=[\"mae\"])\n",
        "# 3 Fit the model \n",
        "model.fit(X, y, epochs=15)"
      ],
      "metadata": {
        "id": "l964GTVX8E3b",
        "colab": {
          "base_uri": "https://localhost:8080/"
        },
        "outputId": "cd5ef4db-59e3-46f8-cdbf-7b397fbb6583"
      },
      "execution_count": null,
      "outputs": [
        {
          "output_type": "stream",
          "name": "stdout",
          "text": [
            "Epoch 1/15\n"
          ]
        },
        {
          "output_type": "stream",
          "name": "stderr",
          "text": [
            "/usr/local/lib/python3.7/dist-packages/keras/optimizer_v2/adam.py:105: UserWarning: The `lr` argument is deprecated, use `learning_rate` instead.\n",
            "  super(Adam, self).__init__(name, **kwargs)\n"
          ]
        },
        {
          "output_type": "stream",
          "name": "stdout",
          "text": [
            "1/1 [==============================] - 1s 684ms/step - loss: 12.9775 - mae: 12.9775\n",
            "Epoch 2/15\n",
            "1/1 [==============================] - 0s 11ms/step - loss: 8.4775 - mae: 8.4775\n",
            "Epoch 3/15\n",
            "1/1 [==============================] - 0s 8ms/step - loss: 7.6260 - mae: 7.6260\n",
            "Epoch 4/15\n",
            "1/1 [==============================] - 0s 10ms/step - loss: 8.4697 - mae: 8.4697\n",
            "Epoch 5/15\n",
            "1/1 [==============================] - 0s 15ms/step - loss: 7.0923 - mae: 7.0923\n",
            "Epoch 6/15\n",
            "1/1 [==============================] - 0s 8ms/step - loss: 4.8254 - mae: 4.8254\n",
            "Epoch 7/15\n",
            "1/1 [==============================] - 0s 10ms/step - loss: 4.1928 - mae: 4.1928\n",
            "Epoch 8/15\n",
            "1/1 [==============================] - 0s 8ms/step - loss: 4.3578 - mae: 4.3578\n",
            "Epoch 9/15\n",
            "1/1 [==============================] - 0s 6ms/step - loss: 3.7759 - mae: 3.7759\n",
            "Epoch 10/15\n",
            "1/1 [==============================] - 0s 9ms/step - loss: 2.6085 - mae: 2.6085\n",
            "Epoch 11/15\n",
            "1/1 [==============================] - 0s 9ms/step - loss: 2.2508 - mae: 2.2508\n",
            "Epoch 12/15\n",
            "1/1 [==============================] - 0s 7ms/step - loss: 1.4351 - mae: 1.4351\n",
            "Epoch 13/15\n",
            "1/1 [==============================] - 0s 7ms/step - loss: 1.8289 - mae: 1.8289\n",
            "Epoch 14/15\n",
            "1/1 [==============================] - 0s 6ms/step - loss: 2.2680 - mae: 2.2680\n",
            "Epoch 15/15\n",
            "1/1 [==============================] - 0s 7ms/step - loss: 2.5679 - mae: 2.5679\n"
          ]
        },
        {
          "output_type": "execute_result",
          "data": {
            "text/plain": [
              "<keras.callbacks.History at 0x7ff95c5e10d0>"
            ]
          },
          "metadata": {},
          "execution_count": 5
        }
      ]
    },
    {
      "cell_type": "code",
      "source": [
        "#Try and make a prediction using our model\n",
        "y_pred = model.predict([17.0])\n",
        "y_pred"
      ],
      "metadata": {
        "colab": {
          "base_uri": "https://localhost:8080/"
        },
        "id": "ZwtrZnxJJsM7",
        "outputId": "3e72488d-6125-4123-9bdf-054081c466a6"
      },
      "execution_count": null,
      "outputs": [
        {
          "output_type": "execute_result",
          "data": {
            "text/plain": [
              "array([[12.716021]], dtype=float32)"
            ]
          },
          "metadata": {},
          "execution_count": 20
        }
      ]
    },
    {
      "cell_type": "code",
      "source": [
        "y_pred + 11"
      ],
      "metadata": {
        "colab": {
          "base_uri": "https://localhost:8080/"
        },
        "id": "XTdmw-AlKLO-",
        "outputId": "11a12a20-377f-4904-c0fb-65729a83b2e3"
      },
      "execution_count": null,
      "outputs": [
        {
          "output_type": "execute_result",
          "data": {
            "text/plain": [
              "array([[23.71602]], dtype=float32)"
            ]
          },
          "metadata": {},
          "execution_count": 21
        }
      ]
    },
    {
      "cell_type": "markdown",
      "source": [
        "##Improving a model \n",
        "We can improve our model, by altering the steps we took to create a model. \n",
        "1. **Creating a model** - here we might add more layers, increase the number of hidden units(all called neurons) within each of the hidden layers, change the activation function of each layer. \n",
        "2. **Compile the model** - Here we might change the optimization function or perhaps the **learning rate** of the optimization function. \n",
        "3. **Fitting a model**- Here we might fit a model for more **epochs** (leave it training for longer or on more data (give the model more examples to learn from) "
      ],
      "metadata": {
        "id": "CQyzFIJsKm3f"
      }
    },
    {
      "cell_type": "code",
      "source": [
        "# Let's rebuild our model \n",
        "# 1. Create the model \n",
        "model = tf.keras.Sequential([\n",
        "  tf.keras.layers.Dense(50, input_shape = (1,)),\n",
        "  tf.keras.layers.Dense(1)                    \n",
        "])\n",
        "\n",
        "# 2. Compile the model \n",
        "model.compile(loss = tf.keras.losses.mae,\n",
        "              optimizer = tf.keras.optimizers.Adam(lr=0.01),\n",
        "              metrics=[\"mae\"])\n",
        "#3. Fit the model (With a longer time for training)\n",
        "model.fit(X,y, epochs=100)"
      ],
      "metadata": {
        "colab": {
          "base_uri": "https://localhost:8080/"
        },
        "id": "HUbHhN3DKzQF",
        "outputId": "24866b3b-e25b-4661-9a24-514e7ee9ee03"
      },
      "execution_count": null,
      "outputs": [
        {
          "output_type": "stream",
          "name": "stdout",
          "text": [
            "Epoch 1/100\n"
          ]
        },
        {
          "output_type": "stream",
          "name": "stderr",
          "text": [
            "/usr/local/lib/python3.7/dist-packages/keras/optimizer_v2/adam.py:105: UserWarning: The `lr` argument is deprecated, use `learning_rate` instead.\n",
            "  super(Adam, self).__init__(name, **kwargs)\n"
          ]
        },
        {
          "output_type": "stream",
          "name": "stdout",
          "text": [
            "1/1 [==============================] - 0s 395ms/step - loss: 14.6466 - mae: 14.6466\n",
            "Epoch 2/100\n",
            "1/1 [==============================] - 0s 11ms/step - loss: 13.9532 - mae: 13.9532\n",
            "Epoch 3/100\n",
            "1/1 [==============================] - 0s 10ms/step - loss: 13.2603 - mae: 13.2603\n",
            "Epoch 4/100\n",
            "1/1 [==============================] - 0s 9ms/step - loss: 12.5659 - mae: 12.5659\n",
            "Epoch 5/100\n",
            "1/1 [==============================] - 0s 9ms/step - loss: 11.8675 - mae: 11.8675\n",
            "Epoch 6/100\n",
            "1/1 [==============================] - 0s 6ms/step - loss: 11.1621 - mae: 11.1621\n",
            "Epoch 7/100\n",
            "1/1 [==============================] - 0s 8ms/step - loss: 10.4475 - mae: 10.4475\n",
            "Epoch 8/100\n",
            "1/1 [==============================] - 0s 7ms/step - loss: 9.7214 - mae: 9.7214\n",
            "Epoch 9/100\n",
            "1/1 [==============================] - 0s 9ms/step - loss: 8.9817 - mae: 8.9817\n",
            "Epoch 10/100\n",
            "1/1 [==============================] - 0s 7ms/step - loss: 8.2262 - mae: 8.2262\n",
            "Epoch 11/100\n",
            "1/1 [==============================] - 0s 7ms/step - loss: 7.4526 - mae: 7.4526\n",
            "Epoch 12/100\n",
            "1/1 [==============================] - 0s 9ms/step - loss: 6.6585 - mae: 6.6585\n",
            "Epoch 13/100\n",
            "1/1 [==============================] - 0s 10ms/step - loss: 6.6244 - mae: 6.6244\n",
            "Epoch 14/100\n",
            "1/1 [==============================] - 0s 10ms/step - loss: 6.9777 - mae: 6.9777\n",
            "Epoch 15/100\n",
            "1/1 [==============================] - 0s 6ms/step - loss: 7.2653 - mae: 7.2653\n",
            "Epoch 16/100\n",
            "1/1 [==============================] - 0s 10ms/step - loss: 7.4820 - mae: 7.4820\n",
            "Epoch 17/100\n",
            "1/1 [==============================] - 0s 7ms/step - loss: 7.4879 - mae: 7.4879\n",
            "Epoch 18/100\n",
            "1/1 [==============================] - 0s 10ms/step - loss: 7.3301 - mae: 7.3301\n",
            "Epoch 19/100\n",
            "1/1 [==============================] - 0s 6ms/step - loss: 7.0454 - mae: 7.0454\n",
            "Epoch 20/100\n",
            "1/1 [==============================] - 0s 7ms/step - loss: 6.7251 - mae: 6.7251\n",
            "Epoch 21/100\n",
            "1/1 [==============================] - 0s 7ms/step - loss: 6.4643 - mae: 6.4643\n",
            "Epoch 22/100\n",
            "1/1 [==============================] - 0s 9ms/step - loss: 6.1900 - mae: 6.1900\n",
            "Epoch 23/100\n",
            "1/1 [==============================] - 0s 8ms/step - loss: 5.9246 - mae: 5.9246\n",
            "Epoch 24/100\n",
            "1/1 [==============================] - 0s 9ms/step - loss: 5.8782 - mae: 5.8782\n",
            "Epoch 25/100\n",
            "1/1 [==============================] - 0s 6ms/step - loss: 5.8276 - mae: 5.8276\n",
            "Epoch 26/100\n",
            "1/1 [==============================] - 0s 8ms/step - loss: 5.9724 - mae: 5.9724\n",
            "Epoch 27/100\n",
            "1/1 [==============================] - 0s 8ms/step - loss: 6.0130 - mae: 6.0130\n",
            "Epoch 28/100\n",
            "1/1 [==============================] - 0s 10ms/step - loss: 5.9583 - mae: 5.9583\n",
            "Epoch 29/100\n",
            "1/1 [==============================] - 0s 7ms/step - loss: 5.8190 - mae: 5.8190\n",
            "Epoch 30/100\n",
            "1/1 [==============================] - 0s 7ms/step - loss: 5.6030 - mae: 5.6030\n",
            "Epoch 31/100\n",
            "1/1 [==============================] - 0s 8ms/step - loss: 5.3433 - mae: 5.3433\n",
            "Epoch 32/100\n",
            "1/1 [==============================] - 0s 8ms/step - loss: 5.2352 - mae: 5.2352\n",
            "Epoch 33/100\n",
            "1/1 [==============================] - 0s 17ms/step - loss: 5.1239 - mae: 5.1239\n",
            "Epoch 34/100\n",
            "1/1 [==============================] - 0s 12ms/step - loss: 5.0746 - mae: 5.0746\n",
            "Epoch 35/100\n",
            "1/1 [==============================] - 0s 11ms/step - loss: 5.0523 - mae: 5.0523\n",
            "Epoch 36/100\n",
            "1/1 [==============================] - 0s 11ms/step - loss: 4.9871 - mae: 4.9871\n",
            "Epoch 37/100\n",
            "1/1 [==============================] - 0s 13ms/step - loss: 4.8824 - mae: 4.8824\n",
            "Epoch 38/100\n",
            "1/1 [==============================] - 0s 7ms/step - loss: 4.7409 - mae: 4.7409\n",
            "Epoch 39/100\n",
            "1/1 [==============================] - 0s 8ms/step - loss: 4.5658 - mae: 4.5658\n",
            "Epoch 40/100\n",
            "1/1 [==============================] - 0s 16ms/step - loss: 4.4020 - mae: 4.4020\n",
            "Epoch 41/100\n",
            "1/1 [==============================] - 0s 15ms/step - loss: 4.3009 - mae: 4.3009\n",
            "Epoch 42/100\n",
            "1/1 [==============================] - 0s 12ms/step - loss: 4.1923 - mae: 4.1923\n",
            "Epoch 43/100\n",
            "1/1 [==============================] - 0s 10ms/step - loss: 4.0760 - mae: 4.0760\n",
            "Epoch 44/100\n",
            "1/1 [==============================] - 0s 13ms/step - loss: 4.0086 - mae: 4.0086\n",
            "Epoch 45/100\n",
            "1/1 [==============================] - 0s 12ms/step - loss: 3.8364 - mae: 3.8364\n",
            "Epoch 46/100\n",
            "1/1 [==============================] - 0s 11ms/step - loss: 3.6514 - mae: 3.6514\n",
            "Epoch 47/100\n",
            "1/1 [==============================] - 0s 18ms/step - loss: 3.4858 - mae: 3.4858\n",
            "Epoch 48/100\n",
            "1/1 [==============================] - 0s 10ms/step - loss: 3.3568 - mae: 3.3568\n",
            "Epoch 49/100\n",
            "1/1 [==============================] - 0s 12ms/step - loss: 3.2428 - mae: 3.2428\n",
            "Epoch 50/100\n",
            "1/1 [==============================] - 0s 12ms/step - loss: 3.0760 - mae: 3.0760\n",
            "Epoch 51/100\n",
            "1/1 [==============================] - 0s 12ms/step - loss: 2.8591 - mae: 2.8591\n",
            "Epoch 52/100\n",
            "1/1 [==============================] - 0s 14ms/step - loss: 2.6501 - mae: 2.6501\n",
            "Epoch 53/100\n",
            "1/1 [==============================] - 0s 22ms/step - loss: 2.4760 - mae: 2.4760\n",
            "Epoch 54/100\n",
            "1/1 [==============================] - 0s 12ms/step - loss: 2.3457 - mae: 2.3457\n",
            "Epoch 55/100\n",
            "1/1 [==============================] - 0s 13ms/step - loss: 2.1065 - mae: 2.1065\n",
            "Epoch 56/100\n",
            "1/1 [==============================] - 0s 12ms/step - loss: 1.8523 - mae: 1.8523\n",
            "Epoch 57/100\n",
            "1/1 [==============================] - 0s 9ms/step - loss: 1.7208 - mae: 1.7208\n",
            "Epoch 58/100\n",
            "1/1 [==============================] - 0s 12ms/step - loss: 1.5507 - mae: 1.5507\n",
            "Epoch 59/100\n",
            "1/1 [==============================] - 0s 13ms/step - loss: 1.2700 - mae: 1.2700\n",
            "Epoch 60/100\n",
            "1/1 [==============================] - 0s 12ms/step - loss: 0.9323 - mae: 0.9323\n",
            "Epoch 61/100\n",
            "1/1 [==============================] - 0s 11ms/step - loss: 0.8599 - mae: 0.8599\n",
            "Epoch 62/100\n",
            "1/1 [==============================] - 0s 13ms/step - loss: 0.6865 - mae: 0.6865\n",
            "Epoch 63/100\n",
            "1/1 [==============================] - 0s 18ms/step - loss: 0.3405 - mae: 0.3405\n",
            "Epoch 64/100\n",
            "1/1 [==============================] - 0s 11ms/step - loss: 0.1659 - mae: 0.1659\n",
            "Epoch 65/100\n",
            "1/1 [==============================] - 0s 11ms/step - loss: 0.4224 - mae: 0.4224\n",
            "Epoch 66/100\n",
            "1/1 [==============================] - 0s 14ms/step - loss: 0.4802 - mae: 0.4802\n",
            "Epoch 67/100\n",
            "1/1 [==============================] - 0s 13ms/step - loss: 0.6473 - mae: 0.6473\n",
            "Epoch 68/100\n",
            "1/1 [==============================] - 0s 8ms/step - loss: 0.6601 - mae: 0.6601\n",
            "Epoch 69/100\n",
            "1/1 [==============================] - 0s 9ms/step - loss: 0.7372 - mae: 0.7372\n",
            "Epoch 70/100\n",
            "1/1 [==============================] - 0s 6ms/step - loss: 0.7022 - mae: 0.7022\n",
            "Epoch 71/100\n",
            "1/1 [==============================] - 0s 6ms/step - loss: 0.6318 - mae: 0.6318\n",
            "Epoch 72/100\n",
            "1/1 [==============================] - 0s 6ms/step - loss: 0.6151 - mae: 0.6151\n",
            "Epoch 73/100\n",
            "1/1 [==============================] - 0s 6ms/step - loss: 0.4329 - mae: 0.4329\n",
            "Epoch 74/100\n",
            "1/1 [==============================] - 0s 6ms/step - loss: 0.4277 - mae: 0.4277\n",
            "Epoch 75/100\n",
            "1/1 [==============================] - 0s 6ms/step - loss: 0.3097 - mae: 0.3097\n",
            "Epoch 76/100\n",
            "1/1 [==============================] - 0s 6ms/step - loss: 0.0356 - mae: 0.0356\n",
            "Epoch 77/100\n",
            "1/1 [==============================] - 0s 7ms/step - loss: 0.4880 - mae: 0.4880\n",
            "Epoch 78/100\n",
            "1/1 [==============================] - 0s 8ms/step - loss: 0.6479 - mae: 0.6479\n",
            "Epoch 79/100\n",
            "1/1 [==============================] - 0s 7ms/step - loss: 0.6174 - mae: 0.6174\n",
            "Epoch 80/100\n",
            "1/1 [==============================] - 0s 8ms/step - loss: 0.4529 - mae: 0.4529\n",
            "Epoch 81/100\n",
            "1/1 [==============================] - 0s 9ms/step - loss: 0.6294 - mae: 0.6294\n",
            "Epoch 82/100\n",
            "1/1 [==============================] - 0s 7ms/step - loss: 0.7850 - mae: 0.7850\n",
            "Epoch 83/100\n",
            "1/1 [==============================] - 0s 12ms/step - loss: 0.6653 - mae: 0.6653\n",
            "Epoch 84/100\n",
            "1/1 [==============================] - 0s 8ms/step - loss: 0.3935 - mae: 0.3935\n",
            "Epoch 85/100\n",
            "1/1 [==============================] - 0s 7ms/step - loss: 0.5590 - mae: 0.5590\n",
            "Epoch 86/100\n",
            "1/1 [==============================] - 0s 7ms/step - loss: 0.6263 - mae: 0.6263\n",
            "Epoch 87/100\n",
            "1/1 [==============================] - 0s 11ms/step - loss: 0.5316 - mae: 0.5316\n",
            "Epoch 88/100\n",
            "1/1 [==============================] - 0s 10ms/step - loss: 0.2161 - mae: 0.2161\n",
            "Epoch 89/100\n",
            "1/1 [==============================] - 0s 7ms/step - loss: 0.3441 - mae: 0.3441\n",
            "Epoch 90/100\n",
            "1/1 [==============================] - 0s 21ms/step - loss: 0.5325 - mae: 0.5325\n",
            "Epoch 91/100\n",
            "1/1 [==============================] - 0s 13ms/step - loss: 0.4389 - mae: 0.4389\n",
            "Epoch 92/100\n",
            "1/1 [==============================] - 0s 17ms/step - loss: 0.2560 - mae: 0.2560\n",
            "Epoch 93/100\n",
            "1/1 [==============================] - 0s 14ms/step - loss: 0.5795 - mae: 0.5795\n",
            "Epoch 94/100\n",
            "1/1 [==============================] - 0s 11ms/step - loss: 0.7585 - mae: 0.7585\n",
            "Epoch 95/100\n",
            "1/1 [==============================] - 0s 11ms/step - loss: 0.6773 - mae: 0.6773\n",
            "Epoch 96/100\n",
            "1/1 [==============================] - 0s 13ms/step - loss: 0.3691 - mae: 0.3691\n",
            "Epoch 97/100\n",
            "1/1 [==============================] - 0s 15ms/step - loss: 0.3135 - mae: 0.3135\n",
            "Epoch 98/100\n",
            "1/1 [==============================] - 0s 14ms/step - loss: 0.5528 - mae: 0.5528\n",
            "Epoch 99/100\n",
            "1/1 [==============================] - 0s 16ms/step - loss: 0.5451 - mae: 0.5451\n",
            "Epoch 100/100\n",
            "1/1 [==============================] - 0s 10ms/step - loss: 0.2902 - mae: 0.2902\n"
          ]
        },
        {
          "output_type": "execute_result",
          "data": {
            "text/plain": [
              "<keras.callbacks.History at 0x7ff95abbf590>"
            ]
          },
          "metadata": {},
          "execution_count": 6
        }
      ]
    },
    {
      "cell_type": "code",
      "source": [
        "#Remind ourselves of the data \n",
        "X, y"
      ],
      "metadata": {
        "colab": {
          "base_uri": "https://localhost:8080/"
        },
        "id": "Zc_-dF7yPsRz",
        "outputId": "fb8ff3f0-b56e-42a8-d187-2a5534e8b272"
      },
      "execution_count": null,
      "outputs": [
        {
          "output_type": "execute_result",
          "data": {
            "text/plain": [
              "(<tf.Tensor: shape=(8,), dtype=float32, numpy=array([-7., -4., -1.,  2.,  5.,  8., 11., 14.], dtype=float32)>,\n",
              " <tf.Tensor: shape=(8,), dtype=float32, numpy=array([ 3.,  6.,  9., 12., 15., 18., 21., 24.], dtype=float32)>)"
            ]
          },
          "metadata": {},
          "execution_count": 5
        }
      ]
    },
    {
      "cell_type": "code",
      "source": [
        "#Let's see if the module prediction has improved \n",
        "y_predict = model.predict([35.0])\n",
        "y_predict\n"
      ],
      "metadata": {
        "colab": {
          "base_uri": "https://localhost:8080/"
        },
        "id": "xgYyxRxCQMg1",
        "outputId": "a3fef973-7c5f-40c3-f828-34b1fbb12121"
      },
      "execution_count": null,
      "outputs": [
        {
          "output_type": "execute_result",
          "data": {
            "text/plain": [
              "array([[44.00906]], dtype=float32)"
            ]
          },
          "metadata": {},
          "execution_count": 64
        }
      ]
    },
    {
      "cell_type": "markdown",
      "source": [
        "##Evaluating a model \n",
        "In practice, a typical workflow you'll go through when building a neural network is:\n",
        "Build a model--> fit it --> evaluate it -->tweak a model --> fit it --> evalute it --> fit it ...\n"
      ],
      "metadata": {
        "id": "1SEAu48HQVPv"
      }
    },
    {
      "cell_type": "markdown",
      "source": [
        "When it comes to evaluation... thera are 3 words you should memorize: \n",
        "> Visualize, Visualize and visualize \n",
        "It's a good idea to visualize: \n",
        "* The data - what data are we working with? What does it look like ? \n",
        "* The model itself - What does our model look like ? \n",
        "* The training of a model - how does the model perform while it learns ?\n",
        "* The predictions of the model - how the model predictions perform against the original labels"
      ],
      "metadata": {
        "id": "cN9MsZPRUFkS"
      }
    },
    {
      "cell_type": "code",
      "source": [
        "# Make a bigger dataset \n",
        "X = tf.range(-100, 100, 4)\n",
        "X"
      ],
      "metadata": {
        "colab": {
          "base_uri": "https://localhost:8080/"
        },
        "id": "VJIoBPcbTRZ9",
        "outputId": "84f2893b-9f22-4130-fe5a-4fb6ae5988df"
      },
      "execution_count": null,
      "outputs": [
        {
          "output_type": "execute_result",
          "data": {
            "text/plain": [
              "<tf.Tensor: shape=(50,), dtype=int32, numpy=\n",
              "array([-100,  -96,  -92,  -88,  -84,  -80,  -76,  -72,  -68,  -64,  -60,\n",
              "        -56,  -52,  -48,  -44,  -40,  -36,  -32,  -28,  -24,  -20,  -16,\n",
              "        -12,   -8,   -4,    0,    4,    8,   12,   16,   20,   24,   28,\n",
              "         32,   36,   40,   44,   48,   52,   56,   60,   64,   68,   72,\n",
              "         76,   80,   84,   88,   92,   96], dtype=int32)>"
            ]
          },
          "metadata": {},
          "execution_count": 7
        }
      ]
    },
    {
      "cell_type": "code",
      "source": [
        "y = X + 10\n",
        "y"
      ],
      "metadata": {
        "colab": {
          "base_uri": "https://localhost:8080/"
        },
        "id": "-6esQxGGU8-S",
        "outputId": "f1c2bea3-f31f-4796-abdb-129035e3fd79"
      },
      "execution_count": null,
      "outputs": [
        {
          "output_type": "execute_result",
          "data": {
            "text/plain": [
              "<tf.Tensor: shape=(50,), dtype=int32, numpy=\n",
              "array([-90, -86, -82, -78, -74, -70, -66, -62, -58, -54, -50, -46, -42,\n",
              "       -38, -34, -30, -26, -22, -18, -14, -10,  -6,  -2,   2,   6,  10,\n",
              "        14,  18,  22,  26,  30,  34,  38,  42,  46,  50,  54,  58,  62,\n",
              "        66,  70,  74,  78,  82,  86,  90,  94,  98, 102, 106], dtype=int32)>"
            ]
          },
          "metadata": {},
          "execution_count": 8
        }
      ]
    },
    {
      "cell_type": "code",
      "source": [
        "#Visualize the data \n",
        "import matplotlib.pyplot as plt \n",
        "\n",
        "plt.scatter(X, y)"
      ],
      "metadata": {
        "colab": {
          "base_uri": "https://localhost:8080/",
          "height": 282
        },
        "id": "9JFs7FN-VDKN",
        "outputId": "82f60331-c344-4934-9c89-3ee38fc63740"
      },
      "execution_count": null,
      "outputs": [
        {
          "output_type": "execute_result",
          "data": {
            "text/plain": [
              "<matplotlib.collections.PathCollection at 0x7ff95c31c190>"
            ]
          },
          "metadata": {},
          "execution_count": 9
        },
        {
          "output_type": "display_data",
          "data": {
            "text/plain": [
              "<Figure size 432x288 with 1 Axes>"
            ],
            "image/png": "[encoded data removed]"
          },
          "metadata": {
            "needs_background": "light"
          }
        }
      ]
    },
    {
      "cell_type": "markdown",
      "source": [
        "## The three sets (80% train set) and (20 % test set) \n",
        "* Training set -the model learns from this data whis is typically 70-80% of the total data you have available. \n",
        "* Validation set- the model gets tuned on this data, which is typically 10-15 % of the data available\n",
        "* Test set - the model gets evaluated on this data to test what it has learned, this set is typically 10-15% "
      ],
      "metadata": {
        "id": "TZpKjqeDVO_1"
      }
    },
    {
      "cell_type": "code",
      "source": [
        "# Check the length of the data we have \n",
        "len(X)"
      ],
      "metadata": {
        "colab": {
          "base_uri": "https://localhost:8080/"
        },
        "id": "gQv1WezyWF1U",
        "outputId": "f5abefa1-a557-49df-ef7d-706d22a2817f"
      },
      "execution_count": null,
      "outputs": [
        {
          "output_type": "execute_result",
          "data": {
            "text/plain": [
              "50"
            ]
          },
          "metadata": {},
          "execution_count": 10
        }
      ]
    },
    {
      "cell_type": "code",
      "source": [
        "# Split the data into train and test sets \n",
        "X_train = X[:40] #First 40\n",
        "X_test = X[40:] #Last 10 \n",
        "\n",
        "y_train = y[:40] #First 40\n",
        "y_test = y[40:] #Last 10 \n",
        "\n"
      ],
      "metadata": {
        "id": "tK0CRqXtXODG"
      },
      "execution_count": null,
      "outputs": []
    },
    {
      "cell_type": "markdown",
      "source": [
        "### Visualize the data \n",
        "Now we've got our data in training and test sets... let's visualize it again "
      ],
      "metadata": {
        "id": "rZqdqvhFXzPx"
      }
    },
    {
      "cell_type": "code",
      "source": [
        "plt.figure(figsize=(10, 7))\n",
        "# Plot training data in blue \n",
        "plt.scatter (X_train, y_train, c=\"b\", label = \"Training data\")\n",
        "# Plot test data in green \n",
        "plt.scatter (X_test, y_test, c=\"g\", label = \"Testing data\")\n",
        "# Show legend \n",
        "plt.legend();"
      ],
      "metadata": {
        "colab": {
          "base_uri": "https://localhost:8080/",
          "height": 428
        },
        "id": "_pxnYqKJYIDQ",
        "outputId": "41da0cfb-4679-4a94-dbb0-bf82a5df2f22"
      },
      "execution_count": null,
      "outputs": [
        {
          "output_type": "display_data",
          "data": {
            "text/plain": [
              "<Figure size 720x504 with 1 Axes>"
            ],
            "image/png": "[encoded data removed]"
          },
          "metadata": {
            "needs_background": "light"
          }
        }
      ]
    },
    {
      "cell_type": "code",
      "source": [
        "# Let's have a look how to build a neural network for our data\n",
        " \n",
        " #1. Create a model\n",
        "model = tf.keras.Sequential([\n",
        "   tf.keras.layers.Dense(1, input_shape = (1,), name=\"input_layer\"),\n",
        "   tf.keras.layers.Dense(1, name=\"output_layer\")                           \n",
        " ])\n",
        "\n",
        " #2. Compile the model \n",
        "model.compile(loss = tf.keras.losses.mae, \n",
        "               optimizer = tf.keras.optimizers.Adam(learning_rate=0.1),\n",
        "               metrics=[\"mae\"])\n",
        "# 3. Fit the modle \n",
        "model.fit(X_train, y_train, epochs=100, verbose=0) \n",
        "\n",
        " "
      ],
      "metadata": {
        "id": "MsnELrQYYtAt",
        "colab": {
          "base_uri": "https://localhost:8080/"
        },
        "outputId": "51a5c3e1-4573-4551-a586-a2ba2ba5b8f3"
      },
      "execution_count": null,
      "outputs": [
        {
          "output_type": "execute_result",
          "data": {
            "text/plain": [
              "<keras.callbacks.History at 0x7ff951cc6f10>"
            ]
          },
          "metadata": {},
          "execution_count": 42
        }
      ]
    },
    {
      "cell_type": "markdown",
      "source": [
        "* Total params - total number of parameters in the model. \n",
        "* Trainable parameters - these are the parameters (patterns) the model can update as it trains)\n",
        "* None-trainable params - These parameters arent't updated during training (this is typical when you bring parameters from other models during transfer learning)"
      ],
      "metadata": {
        "id": "N3OuojQow5sB"
      }
    },
    {
      "cell_type": "code",
      "source": [
        ""
      ],
      "metadata": {
        "id": "itpZ8IYSyBIj"
      },
      "execution_count": null,
      "outputs": []
    },
    {
      "cell_type": "markdown",
      "source": [
        "##Visualizing the model "
      ],
      "metadata": {
        "id": "zj9kP5SEvUTJ"
      }
    },
    {
      "cell_type": "code",
      "source": [
        "from tensorflow.keras.utils import plot_model\n",
        "\n",
        "plot_model(model=model, show_shapes=True)"
      ],
      "metadata": {
        "id": "sWc0ESTavYN1",
        "colab": {
          "base_uri": "https://localhost:8080/",
          "height": 312
        },
        "outputId": "02ac87e6-624d-4841-d978-9fdc28a5e828"
      },
      "execution_count": null,
      "outputs": [
        {
          "output_type": "execute_result",
          "data": {
            "text/plain": [
              "<IPython.core.display.Image object>"
            ],
            "image/png": "[encoded data removed]"
          },
          "metadata": {},
          "execution_count": 23
        }
      ]
    },
    {
      "cell_type": "markdown",
      "source": [
        "### Visualizing our models predictions \n",
        "To visuaize predictions, it's a good idea to plot them against the ground truth labels. \n",
        "Often you'll see this in the fomr of y_test or t_true versys y_pred (ground truth versus your model) \n"
      ],
      "metadata": {
        "id": "ktMBgn-EtvhL"
      }
    },
    {
      "cell_type": "code",
      "source": [
        "#Make some predictions\n",
        "y_pred = model.predict(X_test)\n",
        "y_pred"
      ],
      "metadata": {
        "colab": {
          "base_uri": "https://localhost:8080/"
        },
        "id": "XS1LblnuvIEd",
        "outputId": "13b1331e-839b-47cf-b8b2-ba157d537244"
      },
      "execution_count": null,
      "outputs": [
        {
          "output_type": "execute_result",
          "data": {
            "text/plain": [
              "array([[ 71.21384 ],\n",
              "       [ 75.28578 ],\n",
              "       [ 79.35774 ],\n",
              "       [ 83.42969 ],\n",
              "       [ 87.50165 ],\n",
              "       [ 91.57359 ],\n",
              "       [ 95.64554 ],\n",
              "       [ 99.7175  ],\n",
              "       [103.789444],\n",
              "       [107.86139 ]], dtype=float32)"
            ]
          },
          "metadata": {},
          "execution_count": 44
        }
      ]
    },
    {
      "cell_type": "code",
      "source": [
        "y_test"
      ],
      "metadata": {
        "colab": {
          "base_uri": "https://localhost:8080/"
        },
        "id": "jaakQX4Kv-ti",
        "outputId": "eb649a53-e454-488e-eb23-d3b4b287e987"
      },
      "execution_count": null,
      "outputs": [
        {
          "output_type": "execute_result",
          "data": {
            "text/plain": [
              "<tf.Tensor: shape=(10,), dtype=int32, numpy=array([ 70,  74,  78,  82,  86,  90,  94,  98, 102, 106], dtype=int32)>"
            ]
          },
          "metadata": {},
          "execution_count": 26
        }
      ]
    },
    {
      "cell_type": "markdown",
      "source": [
        "**Note:** If you feel like you're going to reuse some kinf of functuionality in future, it's a good idea to turn it into a function "
      ],
      "metadata": {
        "id": "f_vHV6XcwWmu"
      }
    },
    {
      "cell_type": "code",
      "source": [
        "# Let's create a ploting function\n",
        "def plot_predictions(train_data = X_train,\n",
        "                     train_labels=y_train,\n",
        "                     test_data=X_test,\n",
        "                     test_labels=y_test,\n",
        "                     predictions=y_pred):\n",
        "  \"\"\"\n",
        "  Plots training data, test data and compares predictions to ground trouth\n",
        "  \"\"\"\n",
        "  plt.figure(figsize=(10, 7))\n",
        "  \n",
        "  # Plot training data in blue \n",
        "  plt.scatter (train_data, train_labels, c=\"b\", label = \"Training data\")\n",
        "  # Plot test data in green \n",
        "  plt.scatter (test_data, test_labels, c=\"g\", label = \"Testing data\")\n",
        "  # Plot model's predictions in red\n",
        "  plt.scatter (test_data, predictions, c=\"r\", label=\"Predictions\")\n",
        "  # Show legend \n",
        "  plt.legend();    \n"
      ],
      "metadata": {
        "id": "8NrW_JsIwIUP"
      },
      "execution_count": null,
      "outputs": []
    },
    {
      "cell_type": "code",
      "source": [
        "plot_predictions()"
      ],
      "metadata": {
        "colab": {
          "base_uri": "https://localhost:8080/",
          "height": 428
        },
        "id": "-qipcT2yyBwH",
        "outputId": "994a7b5d-89d0-42d0-bfc4-89c0b7286c9b"
      },
      "execution_count": null,
      "outputs": [
        {
          "output_type": "display_data",
          "data": {
            "text/plain": [
              "<Figure size 720x504 with 1 Axes>"
            ],
            "image/png": "[encoded data removed]"
          },
          "metadata": {
            "needs_background": "light"
          }
        }
      ]
    },
    {
      "cell_type": "markdown",
      "source": [
        "### Evaluating our model's predictions with regression evaluation metrics\n",
        "Depending on the problem you're working on, there will be different evaluation metrics to evaluate your model's preformance.\n",
        "\n",
        "Since we're working on a regression two of the main metrics: \n",
        "* MAE - mean absolute error, \"on average, how wrong is each of my model's predictions\" \n",
        "* MSE - mean square error, \"square the average errors\"\n",
        "* Huber - Combination of MSE and MAE less sensitive to outliers than MSE."
      ],
      "metadata": {
        "id": "FjBbqh9IyQow"
      }
    },
    {
      "cell_type": "code",
      "source": [
        "#Evaluate the model on the test\n",
        "model.evaluate(X_test, y_test)"
      ],
      "metadata": {
        "colab": {
          "base_uri": "https://localhost:8080/"
        },
        "id": "m8wGBG9vzMid",
        "outputId": "05eef191-b1fc-4220-b9e4-8aa258790f95"
      },
      "execution_count": null,
      "outputs": [
        {
          "output_type": "stream",
          "name": "stdout",
          "text": [
            "1/1 [==============================] - 0s 162ms/step - loss: 1.5376 - mae: 1.5376\n"
          ]
        },
        {
          "output_type": "execute_result",
          "data": {
            "text/plain": [
              "[1.5376160144805908, 1.5376160144805908]"
            ]
          },
          "metadata": {},
          "execution_count": 49
        }
      ]
    },
    {
      "cell_type": "code",
      "source": [
        "# Calculate the mean absolute error \n",
        "mae=tf.metrics.mean_absolute_error(y_true=y_test,\n",
        "                               y_pred=y_pred)\n",
        "\n",
        "#Calculate the mean square error \n",
        "msa = tf.metrics.mean_squared_error(y_true=y_test,\n",
        "                               y_pred=y_pred)\n",
        "mae,msa"
      ],
      "metadata": {
        "colab": {
          "base_uri": "https://localhost:8080/"
        },
        "id": "PdJE6H3r1U2I",
        "outputId": "fec2330e-17ba-4549-86d8-c1bed3f0fda4"
      },
      "execution_count": null,
      "outputs": [
        {
          "output_type": "execute_result",
          "data": {
            "text/plain": [
              "(<tf.Tensor: shape=(), dtype=float32, numpy=1.537616>,\n",
              " <tf.Tensor: shape=(), dtype=float32, numpy=2.4069724>)"
            ]
          },
          "metadata": {},
          "execution_count": 66
        }
      ]
    },
    {
      "cell_type": "code",
      "source": [
        "#Make some functions to reuse MAE and MSE \n",
        "def mae(y_true, y_pred):\n",
        "  return tf.metrics.mean_absolute_error(y_true=y_true,\n",
        "                                        y_pred=tf.squeeze(y_pred))\n",
        "def mse(y_true, y_pred):\n",
        "  return tf.metrics.mean_squared_error(y_true=y_true,\n",
        "                                        y_pred=tf.squeeze(y_pred))"
      ],
      "metadata": {
        "id": "EmE4b0_F4JPu"
      },
      "execution_count": null,
      "outputs": []
    },
    {
      "cell_type": "code",
      "source": [
        "#We have to remember the shape of  the tensors in order to obtain the results expected\n",
        "y_pred=tf.squeeze(y_pred)\n",
        "y_pred"
      ],
      "metadata": {
        "colab": {
          "base_uri": "https://localhost:8080/"
        },
        "id": "C0z_mxF21Gqb",
        "outputId": "cdc040f7-ad00-4e82-dda9-8dcc82808160"
      },
      "execution_count": null,
      "outputs": [
        {
          "output_type": "execute_result",
          "data": {
            "text/plain": [
              "<tf.Tensor: shape=(10,), dtype=float32, numpy=\n",
              "array([ 71.21384 ,  75.28578 ,  79.35774 ,  83.42969 ,  87.50165 ,\n",
              "        91.57359 ,  95.64554 ,  99.7175  , 103.789444, 107.86139 ],\n",
              "      dtype=float32)>"
            ]
          },
          "metadata": {},
          "execution_count": 59
        }
      ]
    },
    {
      "cell_type": "code",
      "source": [
        "y_test"
      ],
      "metadata": {
        "colab": {
          "base_uri": "https://localhost:8080/"
        },
        "id": "j7A00lUF1SH5",
        "outputId": "63790c45-52ad-4647-ddf1-b9d0ad5f0164"
      },
      "execution_count": null,
      "outputs": [
        {
          "output_type": "execute_result",
          "data": {
            "text/plain": [
              "<tf.Tensor: shape=(10,), dtype=int32, numpy=array([ 70,  74,  78,  82,  86,  90,  94,  98, 102, 106], dtype=int32)>"
            ]
          },
          "metadata": {},
          "execution_count": 60
        }
      ]
    },
    {
      "cell_type": "markdown",
      "source": [
        "###Running experiments to improve our model \n",
        "\n",
        "To do this we need to \n",
        "\n",
        "1. Get more data - get more examplels for your model to train on (more opportunities to learn patterns or relationships between features and labels) \n",
        "2. Make your model larger (using a more complex model) this might come in the form of more layers or more hidden units in each layer. \n",
        "3. Train for longer - give your model more of a chance to find patterns in the data\n",
        "\n",
        "Let's do 3 modelling experiments: \n",
        "\n",
        "1. 'model_1' - same as the original model, 1 layer trained for 100 epochs. \n",
        "2. \"model_2' - 2 layers, trained for 100 epochs \n",
        "3. \"model_3\" - 2 layers, trained for 500 epochs"
      ],
      "metadata": {
        "id": "POt7J2ec1UQg"
      }
    },
    {
      "cell_type": "code",
      "source": [
        "#  Create model_1\n",
        "#Set random seed\n",
        "tf.random.set_seed()\n",
        "#1. Create a model\n",
        "model_1 = tf.keras.Sequential([\n",
        "   tf.keras.layers.Dense(1, input_shape = (1,))                          \n",
        " ])\n",
        "\n",
        " #2. Compile the model \n",
        "model_1.compile(loss = tf.keras.losses.mae, \n",
        "               optimizer = tf.keras.optimizers.SGD(),\n",
        "               metrics=[\"mae\"])\n",
        "# 3. Fit the modle \n",
        "model_1.fit(X_train, y_train, epochs=100) "
      ],
      "metadata": {
        "colab": {
          "base_uri": "https://localhost:8080/"
        },
        "id": "YVYYAHAf6IH3",
        "outputId": "55607357-172c-4c2e-f74c-00845ca0f240"
      },
      "execution_count": null,
      "outputs": [
        {
          "output_type": "stream",
          "name": "stdout",
          "text": [
            "Epoch 1/100\n",
            "2/2 [==============================] - 0s 5ms/step - loss: 15.9024 - mae: 15.9024\n",
            "Epoch 2/100\n",
            "2/2 [==============================] - 0s 5ms/step - loss: 11.2837 - mae: 11.2837\n",
            "Epoch 3/100\n",
            "2/2 [==============================] - 0s 4ms/step - loss: 11.1074 - mae: 11.1074\n",
            "Epoch 4/100\n",
            "2/2 [==============================] - 0s 8ms/step - loss: 9.2991 - mae: 9.2991\n",
            "Epoch 5/100\n",
            "2/2 [==============================] - 0s 4ms/step - loss: 10.1677 - mae: 10.1677\n",
            "Epoch 6/100\n",
            "2/2 [==============================] - 0s 5ms/step - loss: 9.4303 - mae: 9.4303\n",
            "Epoch 7/100\n",
            "2/2 [==============================] - 0s 8ms/step - loss: 8.5704 - mae: 8.5704\n",
            "Epoch 8/100\n",
            "2/2 [==============================] - 0s 6ms/step - loss: 9.0442 - mae: 9.0442\n",
            "Epoch 9/100\n",
            "2/2 [==============================] - 0s 5ms/step - loss: 18.7517 - mae: 18.7517\n",
            "Epoch 10/100\n",
            "2/2 [==============================] - 0s 8ms/step - loss: 10.1142 - mae: 10.1142\n",
            "Epoch 11/100\n",
            "2/2 [==============================] - 0s 6ms/step - loss: 8.3980 - mae: 8.3980\n",
            "Epoch 12/100\n",
            "2/2 [==============================] - 0s 5ms/step - loss: 10.6639 - mae: 10.6639\n",
            "Epoch 13/100\n",
            "2/2 [==============================] - 0s 8ms/step - loss: 9.7977 - mae: 9.7977\n",
            "Epoch 14/100\n",
            "2/2 [==============================] - 0s 6ms/step - loss: 16.0103 - mae: 16.0103\n",
            "Epoch 15/100\n",
            "2/2 [==============================] - 0s 8ms/step - loss: 11.4068 - mae: 11.4068\n",
            "Epoch 16/100\n",
            "2/2 [==============================] - 0s 5ms/step - loss: 8.5393 - mae: 8.5393\n",
            "Epoch 17/100\n",
            "2/2 [==============================] - 0s 6ms/step - loss: 13.6348 - mae: 13.6348\n",
            "Epoch 18/100\n",
            "2/2 [==============================] - 0s 6ms/step - loss: 11.4629 - mae: 11.4629\n",
            "Epoch 19/100\n",
            "2/2 [==============================] - 0s 7ms/step - loss: 17.9148 - mae: 17.9148\n",
            "Epoch 20/100\n",
            "2/2 [==============================] - 0s 4ms/step - loss: 15.0494 - mae: 15.0494\n",
            "Epoch 21/100\n",
            "2/2 [==============================] - 0s 4ms/step - loss: 11.0216 - mae: 11.0216\n",
            "Epoch 22/100\n",
            "2/2 [==============================] - 0s 8ms/step - loss: 8.1558 - mae: 8.1558\n",
            "Epoch 23/100\n",
            "2/2 [==============================] - 0s 5ms/step - loss: 9.5138 - mae: 9.5138\n",
            "Epoch 24/100\n",
            "2/2 [==============================] - 0s 4ms/step - loss: 7.6617 - mae: 7.6617\n",
            "Epoch 25/100\n",
            "2/2 [==============================] - 0s 12ms/step - loss: 13.1859 - mae: 13.1859\n",
            "Epoch 26/100\n",
            "2/2 [==============================] - 0s 5ms/step - loss: 16.4211 - mae: 16.4211\n",
            "Epoch 27/100\n",
            "2/2 [==============================] - 0s 7ms/step - loss: 13.1660 - mae: 13.1660\n",
            "Epoch 28/100\n",
            "2/2 [==============================] - 0s 5ms/step - loss: 14.2559 - mae: 14.2559\n",
            "Epoch 29/100\n",
            "2/2 [==============================] - 0s 4ms/step - loss: 10.0670 - mae: 10.0670\n",
            "Epoch 30/100\n",
            "2/2 [==============================] - 0s 9ms/step - loss: 16.3409 - mae: 16.3409\n",
            "Epoch 31/100\n",
            "2/2 [==============================] - 0s 6ms/step - loss: 23.6444 - mae: 23.6444\n",
            "Epoch 32/100\n",
            "2/2 [==============================] - 0s 5ms/step - loss: 7.6215 - mae: 7.6215\n",
            "Epoch 33/100\n",
            "2/2 [==============================] - 0s 5ms/step - loss: 9.3221 - mae: 9.3221\n",
            "Epoch 34/100\n",
            "2/2 [==============================] - 0s 5ms/step - loss: 13.7313 - mae: 13.7313\n",
            "Epoch 35/100\n",
            "2/2 [==============================] - 0s 5ms/step - loss: 11.1276 - mae: 11.1276\n",
            "Epoch 36/100\n",
            "2/2 [==============================] - 0s 4ms/step - loss: 13.3222 - mae: 13.3222\n",
            "Epoch 37/100\n",
            "2/2 [==============================] - 0s 9ms/step - loss: 9.4763 - mae: 9.4763\n",
            "Epoch 38/100\n",
            "2/2 [==============================] - 0s 8ms/step - loss: 10.1381 - mae: 10.1381\n",
            "Epoch 39/100\n",
            "2/2 [==============================] - 0s 5ms/step - loss: 10.1793 - mae: 10.1793\n",
            "Epoch 40/100\n",
            "2/2 [==============================] - 0s 5ms/step - loss: 10.9137 - mae: 10.9137\n",
            "Epoch 41/100\n",
            "2/2 [==============================] - 0s 6ms/step - loss: 7.9063 - mae: 7.9063\n",
            "Epoch 42/100\n",
            "2/2 [==============================] - 0s 6ms/step - loss: 10.0914 - mae: 10.0914\n",
            "Epoch 43/100\n",
            "2/2 [==============================] - 0s 8ms/step - loss: 8.7006 - mae: 8.7006\n",
            "Epoch 44/100\n",
            "2/2 [==============================] - 0s 9ms/step - loss: 12.2047 - mae: 12.2047\n",
            "Epoch 45/100\n",
            "2/2 [==============================] - 0s 4ms/step - loss: 13.7970 - mae: 13.7970\n",
            "Epoch 46/100\n",
            "2/2 [==============================] - 0s 5ms/step - loss: 8.4687 - mae: 8.4687\n",
            "Epoch 47/100\n",
            "2/2 [==============================] - 0s 8ms/step - loss: 9.1330 - mae: 9.1330\n",
            "Epoch 48/100\n",
            "2/2 [==============================] - 0s 7ms/step - loss: 10.6190 - mae: 10.6190\n",
            "Epoch 49/100\n",
            "2/2 [==============================] - 0s 6ms/step - loss: 7.7503 - mae: 7.7503\n",
            "Epoch 50/100\n",
            "2/2 [==============================] - 0s 5ms/step - loss: 9.5407 - mae: 9.5407\n",
            "Epoch 51/100\n",
            "2/2 [==============================] - 0s 5ms/step - loss: 9.1584 - mae: 9.1584\n",
            "Epoch 52/100\n",
            "2/2 [==============================] - 0s 5ms/step - loss: 16.3630 - mae: 16.3630\n",
            "Epoch 53/100\n",
            "2/2 [==============================] - 0s 7ms/step - loss: 14.1299 - mae: 14.1299\n",
            "Epoch 54/100\n",
            "2/2 [==============================] - 0s 5ms/step - loss: 21.1247 - mae: 21.1247\n",
            "Epoch 55/100\n",
            "2/2 [==============================] - 0s 7ms/step - loss: 16.3961 - mae: 16.3961\n",
            "Epoch 56/100\n",
            "2/2 [==============================] - 0s 6ms/step - loss: 9.9806 - mae: 9.9806\n",
            "Epoch 57/100\n",
            "2/2 [==============================] - 0s 5ms/step - loss: 9.9606 - mae: 9.9606\n",
            "Epoch 58/100\n",
            "2/2 [==============================] - 0s 7ms/step - loss: 9.2209 - mae: 9.2209\n",
            "Epoch 59/100\n",
            "2/2 [==============================] - 0s 4ms/step - loss: 8.4239 - mae: 8.4239\n",
            "Epoch 60/100\n",
            "2/2 [==============================] - 0s 4ms/step - loss: 9.4869 - mae: 9.4869\n",
            "Epoch 61/100\n",
            "2/2 [==============================] - 0s 4ms/step - loss: 11.4355 - mae: 11.4355\n",
            "Epoch 62/100\n",
            "2/2 [==============================] - 0s 5ms/step - loss: 11.6887 - mae: 11.6887\n",
            "Epoch 63/100\n",
            "2/2 [==============================] - 0s 6ms/step - loss: 7.0838 - mae: 7.0838\n",
            "Epoch 64/100\n",
            "2/2 [==============================] - 0s 4ms/step - loss: 16.9675 - mae: 16.9675\n",
            "Epoch 65/100\n",
            "2/2 [==============================] - 0s 4ms/step - loss: 12.4599 - mae: 12.4599\n",
            "Epoch 66/100\n",
            "2/2 [==============================] - 0s 5ms/step - loss: 13.0184 - mae: 13.0184\n",
            "Epoch 67/100\n",
            "2/2 [==============================] - 0s 4ms/step - loss: 8.0600 - mae: 8.0600\n",
            "Epoch 68/100\n",
            "2/2 [==============================] - 0s 4ms/step - loss: 10.1888 - mae: 10.1888\n",
            "Epoch 69/100\n",
            "2/2 [==============================] - 0s 7ms/step - loss: 12.3633 - mae: 12.3633\n",
            "Epoch 70/100\n",
            "2/2 [==============================] - 0s 6ms/step - loss: 9.0516 - mae: 9.0516\n",
            "Epoch 71/100\n",
            "2/2 [==============================] - 0s 4ms/step - loss: 10.0378 - mae: 10.0378\n",
            "Epoch 72/100\n",
            "2/2 [==============================] - 0s 4ms/step - loss: 10.0516 - mae: 10.0516\n",
            "Epoch 73/100\n",
            "2/2 [==============================] - 0s 7ms/step - loss: 12.6151 - mae: 12.6151\n",
            "Epoch 74/100\n",
            "2/2 [==============================] - 0s 4ms/step - loss: 10.3819 - mae: 10.3819\n",
            "Epoch 75/100\n",
            "2/2 [==============================] - 0s 4ms/step - loss: 9.7229 - mae: 9.7229\n",
            "Epoch 76/100\n",
            "2/2 [==============================] - 0s 10ms/step - loss: 11.2252 - mae: 11.2252\n",
            "Epoch 77/100\n",
            "2/2 [==============================] - 0s 5ms/step - loss: 8.3642 - mae: 8.3642\n",
            "Epoch 78/100\n",
            "2/2 [==============================] - 0s 7ms/step - loss: 9.1274 - mae: 9.1274\n",
            "Epoch 79/100\n",
            "2/2 [==============================] - 0s 4ms/step - loss: 19.5039 - mae: 19.5039\n",
            "Epoch 80/100\n",
            "2/2 [==============================] - 0s 4ms/step - loss: 14.8945 - mae: 14.8945\n",
            "Epoch 81/100\n",
            "2/2 [==============================] - 0s 4ms/step - loss: 9.0034 - mae: 9.0034\n",
            "Epoch 82/100\n",
            "2/2 [==============================] - 0s 4ms/step - loss: 13.0206 - mae: 13.0206\n",
            "Epoch 83/100\n",
            "2/2 [==============================] - 0s 4ms/step - loss: 7.9299 - mae: 7.9299\n",
            "Epoch 84/100\n",
            "2/2 [==============================] - 0s 5ms/step - loss: 7.6872 - mae: 7.6872\n",
            "Epoch 85/100\n",
            "2/2 [==============================] - 0s 4ms/step - loss: 10.0328 - mae: 10.0328\n",
            "Epoch 86/100\n",
            "2/2 [==============================] - 0s 10ms/step - loss: 9.2433 - mae: 9.2433\n",
            "Epoch 87/100\n",
            "2/2 [==============================] - 0s 5ms/step - loss: 12.0209 - mae: 12.0209\n",
            "Epoch 88/100\n",
            "2/2 [==============================] - 0s 17ms/step - loss: 10.6389 - mae: 10.6389\n",
            "Epoch 89/100\n",
            "2/2 [==============================] - 0s 6ms/step - loss: 7.2667 - mae: 7.2667\n",
            "Epoch 90/100\n",
            "2/2 [==============================] - 0s 19ms/step - loss: 12.7786 - mae: 12.7786\n",
            "Epoch 91/100\n",
            "2/2 [==============================] - 0s 5ms/step - loss: 7.3481 - mae: 7.3481\n",
            "Epoch 92/100\n",
            "2/2 [==============================] - 0s 8ms/step - loss: 7.7175 - mae: 7.7175\n",
            "Epoch 93/100\n",
            "2/2 [==============================] - 0s 7ms/step - loss: 7.1263 - mae: 7.1263\n",
            "Epoch 94/100\n",
            "2/2 [==============================] - 0s 5ms/step - loss: 12.6190 - mae: 12.6190\n",
            "Epoch 95/100\n",
            "2/2 [==============================] - 0s 7ms/step - loss: 10.0912 - mae: 10.0912\n",
            "Epoch 96/100\n",
            "2/2 [==============================] - 0s 7ms/step - loss: 9.3558 - mae: 9.3558\n",
            "Epoch 97/100\n",
            "2/2 [==============================] - 0s 5ms/step - loss: 12.6834 - mae: 12.6834\n",
            "Epoch 98/100\n",
            "2/2 [==============================] - 0s 4ms/step - loss: 8.6762 - mae: 8.6762\n",
            "Epoch 99/100\n",
            "2/2 [==============================] - 0s 4ms/step - loss: 9.4693 - mae: 9.4693\n",
            "Epoch 100/100\n",
            "2/2 [==============================] - 0s 4ms/step - loss: 8.7067 - mae: 8.7067\n"
          ]
        },
        {
          "output_type": "execute_result",
          "data": {
            "text/plain": [
              "<keras.callbacks.History at 0x7ff9e18b5910>"
            ]
          },
          "metadata": {},
          "execution_count": 73
        }
      ]
    },
    {
      "cell_type": "code",
      "source": [
        "#Make and plot predictions for model_1 \n",
        "y_preds_1 = model_1.predict(X_test)\n",
        "plot_predictions(predictions=y_preds_1)"
      ],
      "metadata": {
        "colab": {
          "base_uri": "https://localhost:8080/",
          "height": 428
        },
        "id": "mKndUD5E7C4W",
        "outputId": "ff68e9bf-24ab-49d4-a94d-385868e03f6a"
      },
      "execution_count": null,
      "outputs": [
        {
          "output_type": "display_data",
          "data": {
            "text/plain": [
              "<Figure size 720x504 with 1 Axes>"
            ],
            "image/png": "[encoded data removed]"
          },
          "metadata": {
            "needs_background": "light"
          }
        }
      ]
    },
    {
      "cell_type": "code",
      "source": [
        "#Calculate model_1 evaluation metrics \n",
        "mae_1 = mae(y_test, y_preds_1)\n",
        "mse_1 = mse(y_test, y_preds_1)\n",
        "mae_1, mse_1"
      ],
      "metadata": {
        "colab": {
          "base_uri": "https://localhost:8080/"
        },
        "id": "Miv4JlA67Yrw",
        "outputId": "3d19a0a1-82ca-4521-8eff-b5f2e5f3abc6"
      },
      "execution_count": null,
      "outputs": [
        {
          "output_type": "execute_result",
          "data": {
            "text/plain": [
              "(<tf.Tensor: shape=(), dtype=float32, numpy=18.745327>,\n",
              " <tf.Tensor: shape=(), dtype=float32, numpy=353.57336>)"
            ]
          },
          "metadata": {},
          "execution_count": 76
        }
      ]
    },
    {
      "cell_type": "code",
      "source": [
        "X_train, y_train "
      ],
      "metadata": {
        "colab": {
          "base_uri": "https://localhost:8080/"
        },
        "id": "ioLI8I7V43Rn",
        "outputId": "c5e49d43-d0e4-4e98-aac4-493fe1cad02a"
      },
      "execution_count": null,
      "outputs": [
        {
          "output_type": "execute_result",
          "data": {
            "text/plain": [
              "(<tf.Tensor: shape=(40,), dtype=int32, numpy=\n",
              " array([-100,  -96,  -92,  -88,  -84,  -80,  -76,  -72,  -68,  -64,  -60,\n",
              "         -56,  -52,  -48,  -44,  -40,  -36,  -32,  -28,  -24,  -20,  -16,\n",
              "         -12,   -8,   -4,    0,    4,    8,   12,   16,   20,   24,   28,\n",
              "          32,   36,   40,   44,   48,   52,   56], dtype=int32)>,\n",
              " <tf.Tensor: shape=(40,), dtype=int32, numpy=\n",
              " array([-90, -86, -82, -78, -74, -70, -66, -62, -58, -54, -50, -46, -42,\n",
              "        -38, -34, -30, -26, -22, -18, -14, -10,  -6,  -2,   2,   6,  10,\n",
              "         14,  18,  22,  26,  30,  34,  38,  42,  46,  50,  54,  58,  62,\n",
              "         66], dtype=int32)>)"
            ]
          },
          "metadata": {},
          "execution_count": 70
        }
      ]
    },
    {
      "cell_type": "code",
      "source": [
        "#  Create model_2\n",
        "#1. Create a model\n",
        "model_2 = tf.keras.Sequential([\n",
        "   tf.keras.layers.Dense(2, input_shape = (1,)),\n",
        "   tf.keras.layers.Dense(1)                          \n",
        " ])\n",
        "\n",
        " #2. Compile the model \n",
        "model_2.compile(loss = tf.keras.losses.mae, \n",
        "               optimizer = tf.keras.optimizers.SGD(),\n",
        "               metrics=[\"mae\"])\n",
        "# 3. Fit the modle \n",
        "model_2.fit(X_train, y_train, epochs=100)"
      ],
      "metadata": {
        "colab": {
          "base_uri": "https://localhost:8080/"
        },
        "id": "eP54d4w35kuL",
        "outputId": "2dfcdc5c-89ee-4840-94eb-c021ccdefae5"
      },
      "execution_count": null,
      "outputs": [
        {
          "output_type": "stream",
          "name": "stdout",
          "text": [
            "Epoch 1/100\n",
            "2/2 [==============================] - 0s 7ms/step - loss: 23.3094 - mae: 23.3094\n",
            "Epoch 2/100\n",
            "2/2 [==============================] - 0s 11ms/step - loss: 19.0412 - mae: 19.0412\n",
            "Epoch 3/100\n",
            "2/2 [==============================] - 0s 7ms/step - loss: 13.7974 - mae: 13.7974\n",
            "Epoch 4/100\n",
            "2/2 [==============================] - 0s 8ms/step - loss: 17.4564 - mae: 17.4564\n",
            "Epoch 5/100\n",
            "2/2 [==============================] - 0s 5ms/step - loss: 12.0705 - mae: 12.0705\n",
            "Epoch 6/100\n",
            "2/2 [==============================] - 0s 6ms/step - loss: 9.8414 - mae: 9.8414\n",
            "Epoch 7/100\n",
            "2/2 [==============================] - 0s 5ms/step - loss: 10.7142 - mae: 10.7142\n",
            "Epoch 8/100\n",
            "2/2 [==============================] - 0s 6ms/step - loss: 10.8784 - mae: 10.8784\n",
            "Epoch 9/100\n",
            "2/2 [==============================] - 0s 8ms/step - loss: 38.1185 - mae: 38.1185\n",
            "Epoch 10/100\n",
            "2/2 [==============================] - 0s 6ms/step - loss: 25.6860 - mae: 25.6860\n",
            "Epoch 11/100\n",
            "2/2 [==============================] - 0s 5ms/step - loss: 10.2379 - mae: 10.2379\n",
            "Epoch 12/100\n",
            "2/2 [==============================] - 0s 6ms/step - loss: 25.1786 - mae: 25.1786\n",
            "Epoch 13/100\n",
            "2/2 [==============================] - 0s 9ms/step - loss: 17.0512 - mae: 17.0512\n",
            "Epoch 14/100\n",
            "2/2 [==============================] - 0s 13ms/step - loss: 26.0364 - mae: 26.0364\n",
            "Epoch 15/100\n",
            "2/2 [==============================] - 0s 7ms/step - loss: 18.0869 - mae: 18.0869\n",
            "Epoch 16/100\n",
            "2/2 [==============================] - 0s 5ms/step - loss: 7.8570 - mae: 7.8570\n",
            "Epoch 17/100\n",
            "2/2 [==============================] - 0s 5ms/step - loss: 22.1997 - mae: 22.1997\n",
            "Epoch 18/100\n",
            "2/2 [==============================] - 0s 4ms/step - loss: 10.8171 - mae: 10.8171\n",
            "Epoch 19/100\n",
            "2/2 [==============================] - 0s 9ms/step - loss: 10.7050 - mae: 10.7050\n",
            "Epoch 20/100\n",
            "2/2 [==============================] - 0s 6ms/step - loss: 12.0274 - mae: 12.0274\n",
            "Epoch 21/100\n",
            "2/2 [==============================] - 0s 9ms/step - loss: 20.1193 - mae: 20.1193\n",
            "Epoch 22/100\n",
            "2/2 [==============================] - 0s 6ms/step - loss: 13.7676 - mae: 13.7676\n",
            "Epoch 23/100\n",
            "2/2 [==============================] - 0s 5ms/step - loss: 9.5245 - mae: 9.5245\n",
            "Epoch 24/100\n",
            "2/2 [==============================] - 0s 9ms/step - loss: 11.8802 - mae: 11.8802\n",
            "Epoch 25/100\n",
            "2/2 [==============================] - 0s 3ms/step - loss: 16.1816 - mae: 16.1816\n",
            "Epoch 26/100\n",
            "2/2 [==============================] - 0s 8ms/step - loss: 16.3737 - mae: 16.3737\n",
            "Epoch 27/100\n",
            "2/2 [==============================] - 0s 7ms/step - loss: 11.5757 - mae: 11.5757\n",
            "Epoch 28/100\n",
            "2/2 [==============================] - 0s 8ms/step - loss: 29.9373 - mae: 29.9373\n",
            "Epoch 29/100\n",
            "2/2 [==============================] - 0s 6ms/step - loss: 9.2483 - mae: 9.2483\n",
            "Epoch 30/100\n",
            "2/2 [==============================] - 0s 10ms/step - loss: 30.4955 - mae: 30.4955\n",
            "Epoch 31/100\n",
            "2/2 [==============================] - 0s 7ms/step - loss: 55.4303 - mae: 55.4303\n",
            "Epoch 32/100\n",
            "2/2 [==============================] - 0s 5ms/step - loss: 9.7166 - mae: 9.7166\n",
            "Epoch 33/100\n",
            "2/2 [==============================] - 0s 7ms/step - loss: 12.3339 - mae: 12.3339\n",
            "Epoch 34/100\n",
            "2/2 [==============================] - 0s 5ms/step - loss: 24.6597 - mae: 24.6597\n",
            "Epoch 35/100\n",
            "2/2 [==============================] - 0s 7ms/step - loss: 11.9205 - mae: 11.9205\n",
            "Epoch 36/100\n",
            "2/2 [==============================] - 0s 7ms/step - loss: 22.1158 - mae: 22.1158\n",
            "Epoch 37/100\n",
            "2/2 [==============================] - 0s 7ms/step - loss: 17.5350 - mae: 17.5350\n",
            "Epoch 38/100\n",
            "2/2 [==============================] - 0s 7ms/step - loss: 10.7165 - mae: 10.7165\n",
            "Epoch 39/100\n",
            "2/2 [==============================] - 0s 7ms/step - loss: 11.2343 - mae: 11.2343\n",
            "Epoch 40/100\n",
            "2/2 [==============================] - 0s 7ms/step - loss: 18.1994 - mae: 18.1994\n",
            "Epoch 41/100\n",
            "2/2 [==============================] - 0s 5ms/step - loss: 10.4813 - mae: 10.4813\n",
            "Epoch 42/100\n",
            "2/2 [==============================] - 0s 7ms/step - loss: 7.8373 - mae: 7.8373\n",
            "Epoch 43/100\n",
            "2/2 [==============================] - 0s 5ms/step - loss: 14.1996 - mae: 14.1996\n",
            "Epoch 44/100\n",
            "2/2 [==============================] - 0s 5ms/step - loss: 24.9500 - mae: 24.9500\n",
            "Epoch 45/100\n",
            "2/2 [==============================] - 0s 6ms/step - loss: 10.9467 - mae: 10.9467\n",
            "Epoch 46/100\n",
            "2/2 [==============================] - 0s 5ms/step - loss: 13.0432 - mae: 13.0432\n",
            "Epoch 47/100\n",
            "2/2 [==============================] - 0s 5ms/step - loss: 10.4343 - mae: 10.4343\n",
            "Epoch 48/100\n",
            "2/2 [==============================] - 0s 6ms/step - loss: 17.1522 - mae: 17.1522\n",
            "Epoch 49/100\n",
            "2/2 [==============================] - 0s 6ms/step - loss: 9.6229 - mae: 9.6229\n",
            "Epoch 50/100\n",
            "2/2 [==============================] - 0s 7ms/step - loss: 13.9101 - mae: 13.9101\n",
            "Epoch 51/100\n",
            "2/2 [==============================] - 0s 5ms/step - loss: 11.6287 - mae: 11.6287\n",
            "Epoch 52/100\n",
            "2/2 [==============================] - 0s 7ms/step - loss: 30.7975 - mae: 30.7975\n",
            "Epoch 53/100\n",
            "2/2 [==============================] - 0s 5ms/step - loss: 14.4591 - mae: 14.4591\n",
            "Epoch 54/100\n",
            "2/2 [==============================] - 0s 5ms/step - loss: 24.1587 - mae: 24.1587\n",
            "Epoch 55/100\n",
            "2/2 [==============================] - 0s 8ms/step - loss: 23.3974 - mae: 23.3974\n",
            "Epoch 56/100\n",
            "2/2 [==============================] - 0s 4ms/step - loss: 10.9456 - mae: 10.9456\n",
            "Epoch 57/100\n",
            "2/2 [==============================] - 0s 4ms/step - loss: 12.8305 - mae: 12.8305\n",
            "Epoch 58/100\n",
            "2/2 [==============================] - 0s 4ms/step - loss: 9.6468 - mae: 9.6468\n",
            "Epoch 59/100\n",
            "2/2 [==============================] - 0s 6ms/step - loss: 12.9966 - mae: 12.9966\n",
            "Epoch 60/100\n",
            "2/2 [==============================] - 0s 6ms/step - loss: 10.6842 - mae: 10.6842\n",
            "Epoch 61/100\n",
            "2/2 [==============================] - 0s 4ms/step - loss: 17.4560 - mae: 17.4560\n",
            "Epoch 62/100\n",
            "2/2 [==============================] - 0s 5ms/step - loss: 10.6007 - mae: 10.6007\n",
            "Epoch 63/100\n",
            "2/2 [==============================] - 0s 4ms/step - loss: 10.4852 - mae: 10.4852\n",
            "Epoch 64/100\n",
            "2/2 [==============================] - 0s 4ms/step - loss: 24.8447 - mae: 24.8447\n",
            "Epoch 65/100\n",
            "2/2 [==============================] - 0s 7ms/step - loss: 10.6722 - mae: 10.6722\n",
            "Epoch 66/100\n",
            "2/2 [==============================] - 0s 8ms/step - loss: 21.7819 - mae: 21.7819\n",
            "Epoch 67/100\n",
            "2/2 [==============================] - 0s 4ms/step - loss: 10.7106 - mae: 10.7106\n",
            "Epoch 68/100\n",
            "2/2 [==============================] - 0s 6ms/step - loss: 10.6367 - mae: 10.6367\n",
            "Epoch 69/100\n",
            "2/2 [==============================] - 0s 7ms/step - loss: 22.6980 - mae: 22.6980\n",
            "Epoch 70/100\n",
            "2/2 [==============================] - 0s 5ms/step - loss: 9.3282 - mae: 9.3282\n",
            "Epoch 71/100\n",
            "2/2 [==============================] - 0s 4ms/step - loss: 15.4308 - mae: 15.4308\n",
            "Epoch 72/100\n",
            "2/2 [==============================] - 0s 6ms/step - loss: 6.7395 - mae: 6.7395\n",
            "Epoch 73/100\n",
            "2/2 [==============================] - 0s 5ms/step - loss: 11.6879 - mae: 11.6879\n",
            "Epoch 74/100\n",
            "2/2 [==============================] - 0s 8ms/step - loss: 24.0534 - mae: 24.0534\n",
            "Epoch 75/100\n",
            "2/2 [==============================] - 0s 4ms/step - loss: 9.5900 - mae: 9.5900\n",
            "Epoch 76/100\n",
            "2/2 [==============================] - 0s 5ms/step - loss: 12.4384 - mae: 12.4384\n",
            "Epoch 77/100\n",
            "2/2 [==============================] - 0s 6ms/step - loss: 16.6598 - mae: 16.6598\n",
            "Epoch 78/100\n",
            "2/2 [==============================] - 0s 5ms/step - loss: 9.0597 - mae: 9.0597\n",
            "Epoch 79/100\n",
            "2/2 [==============================] - 0s 5ms/step - loss: 23.9843 - mae: 23.9843\n",
            "Epoch 80/100\n",
            "2/2 [==============================] - 0s 6ms/step - loss: 26.7664 - mae: 26.7664\n",
            "Epoch 81/100\n",
            "2/2 [==============================] - 0s 7ms/step - loss: 11.6777 - mae: 11.6777\n",
            "Epoch 82/100\n",
            "2/2 [==============================] - 0s 6ms/step - loss: 12.0156 - mae: 12.0156\n",
            "Epoch 83/100\n",
            "2/2 [==============================] - 0s 7ms/step - loss: 17.4114 - mae: 17.4114\n",
            "Epoch 84/100\n",
            "2/2 [==============================] - 0s 6ms/step - loss: 7.2584 - mae: 7.2584\n",
            "Epoch 85/100\n",
            "2/2 [==============================] - 0s 9ms/step - loss: 14.9561 - mae: 14.9561\n",
            "Epoch 86/100\n",
            "2/2 [==============================] - 0s 5ms/step - loss: 15.2787 - mae: 15.2787\n",
            "Epoch 87/100\n",
            "2/2 [==============================] - 0s 5ms/step - loss: 19.0947 - mae: 19.0947\n",
            "Epoch 88/100\n",
            "2/2 [==============================] - 0s 6ms/step - loss: 29.8580 - mae: 29.8580\n",
            "Epoch 89/100\n",
            "2/2 [==============================] - 0s 6ms/step - loss: 10.1766 - mae: 10.1766\n",
            "Epoch 90/100\n",
            "2/2 [==============================] - 0s 4ms/step - loss: 21.5542 - mae: 21.5542\n",
            "Epoch 91/100\n",
            "2/2 [==============================] - 0s 6ms/step - loss: 10.5764 - mae: 10.5764\n",
            "Epoch 92/100\n",
            "2/2 [==============================] - 0s 6ms/step - loss: 18.4256 - mae: 18.4256\n",
            "Epoch 93/100\n",
            "2/2 [==============================] - 0s 5ms/step - loss: 7.4138 - mae: 7.4138\n",
            "Epoch 94/100\n",
            "2/2 [==============================] - 0s 6ms/step - loss: 17.7643 - mae: 17.7643\n",
            "Epoch 95/100\n",
            "2/2 [==============================] - 0s 7ms/step - loss: 11.1229 - mae: 11.1229\n",
            "Epoch 96/100\n",
            "2/2 [==============================] - 0s 6ms/step - loss: 19.4616 - mae: 19.4616\n",
            "Epoch 97/100\n",
            "2/2 [==============================] - 0s 7ms/step - loss: 12.4974 - mae: 12.4974\n",
            "Epoch 98/100\n",
            "2/2 [==============================] - 0s 6ms/step - loss: 10.2919 - mae: 10.2919\n",
            "Epoch 99/100\n",
            "2/2 [==============================] - 0s 9ms/step - loss: 13.8320 - mae: 13.8320\n",
            "Epoch 100/100\n",
            "2/2 [==============================] - 0s 7ms/step - loss: 20.1378 - mae: 20.1378\n"
          ]
        },
        {
          "output_type": "execute_result",
          "data": {
            "text/plain": [
              "<keras.callbacks.History at 0x7ff9e1710dd0>"
            ]
          },
          "metadata": {},
          "execution_count": 79
        }
      ]
    },
    {
      "cell_type": "code",
      "source": [
        "#Make and plot predictions for model_ \n",
        "y_preds_2 = model_2.predict(X_test)\n",
        "plot_predictions(predictions=y_preds_2)"
      ],
      "metadata": {
        "colab": {
          "base_uri": "https://localhost:8080/",
          "height": 428
        },
        "id": "9QBdMLGR8cAZ",
        "outputId": "c5bada9c-2a7b-467f-bf65-2f4427f2b974"
      },
      "execution_count": null,
      "outputs": [
        {
          "output_type": "display_data",
          "data": {
            "text/plain": [
              "<Figure size 720x504 with 1 Axes>"
            ],
            "image/png": "[encoded data removed]"
          },
          "metadata": {
            "needs_background": "light"
          }
        }
      ]
    },
    {
      "cell_type": "code",
      "source": [
        "#Calculate model_1 evaluation metrics \n",
        "mae_2 = mae(y_test, y_preds_2)\n",
        "mse_2 = mse(y_test, y_preds_2)\n",
        "mae_2, mse_2"
      ],
      "metadata": {
        "colab": {
          "base_uri": "https://localhost:8080/"
        },
        "id": "eYmXQdFz8osu",
        "outputId": "a98c3cb3-1f81-48cc-ddd2-f4c9b6b9f6b8"
      },
      "execution_count": null,
      "outputs": [
        {
          "output_type": "execute_result",
          "data": {
            "text/plain": [
              "(<tf.Tensor: shape=(), dtype=float32, numpy=2.9790444>,\n",
              " <tf.Tensor: shape=(), dtype=float32, numpy=11.618595>)"
            ]
          },
          "metadata": {},
          "execution_count": 81
        }
      ]
    },
    {
      "cell_type": "code",
      "source": [
        "#  Create model_3\n",
        "#1. Create a model\n",
        "model_3 = tf.keras.Sequential([\n",
        "   tf.keras.layers.Dense(2, input_shape = (1,)),\n",
        "   tf.keras.layers.Dense(1)                          \n",
        " ])\n",
        "\n",
        " #2. Compile the model \n",
        "model_3.compile(loss = tf.keras.losses.mae, \n",
        "               optimizer = tf.keras.optimizers.SGD(),\n",
        "               metrics=[\"mae\"])\n",
        "# 3. Fit the modle \n",
        "model_3.fit(X_train, y_train, epochs=500)"
      ],
      "metadata": {
        "colab": {
          "base_uri": "https://localhost:8080/"
        },
        "id": "C5Djc4bf86dS",
        "outputId": "e7b3062e-62aa-4d66-bdf4-905239e531b1"
      },
      "execution_count": null,
      "outputs": [
        {
          "output_type": "stream",
          "name": "stdout",
          "text": [
            "Epoch 1/500\n",
            "2/2 [==============================] - 0s 7ms/step - loss: 16.5300 - mae: 16.5300\n",
            "Epoch 2/500\n",
            "2/2 [==============================] - 0s 5ms/step - loss: 14.6196 - mae: 14.6196\n",
            "Epoch 3/500\n",
            "2/2 [==============================] - 0s 6ms/step - loss: 22.5454 - mae: 22.5454\n",
            "Epoch 4/500\n",
            "2/2 [==============================] - 0s 7ms/step - loss: 23.5027 - mae: 23.5027\n",
            "Epoch 5/500\n",
            "2/2 [==============================] - 0s 4ms/step - loss: 12.5315 - mae: 12.5315\n",
            "Epoch 6/500\n",
            "2/2 [==============================] - 0s 6ms/step - loss: 10.1597 - mae: 10.1597\n",
            "Epoch 7/500\n",
            "2/2 [==============================] - 0s 5ms/step - loss: 11.0473 - mae: 11.0473\n",
            "Epoch 8/500\n",
            "2/2 [==============================] - 0s 5ms/step - loss: 10.9839 - mae: 10.9839\n",
            "Epoch 9/500\n",
            "2/2 [==============================] - 0s 6ms/step - loss: 39.5443 - mae: 39.5443\n",
            "Epoch 10/500\n",
            "2/2 [==============================] - 0s 7ms/step - loss: 27.0568 - mae: 27.0568\n",
            "Epoch 11/500\n",
            "2/2 [==============================] - 0s 5ms/step - loss: 11.0143 - mae: 11.0143\n",
            "Epoch 12/500\n",
            "2/2 [==============================] - 0s 6ms/step - loss: 24.3981 - mae: 24.3981\n",
            "Epoch 13/500\n",
            "2/2 [==============================] - 0s 4ms/step - loss: 19.1915 - mae: 19.1915\n",
            "Epoch 14/500\n",
            "2/2 [==============================] - 0s 4ms/step - loss: 23.3919 - mae: 23.3919\n",
            "Epoch 15/500\n",
            "2/2 [==============================] - 0s 12ms/step - loss: 15.2090 - mae: 15.2090\n",
            "Epoch 16/500\n",
            "2/2 [==============================] - 0s 5ms/step - loss: 11.3287 - mae: 11.3287\n",
            "Epoch 17/500\n",
            "2/2 [==============================] - 0s 5ms/step - loss: 23.1304 - mae: 23.1304\n",
            "Epoch 18/500\n",
            "2/2 [==============================] - 0s 5ms/step - loss: 11.7490 - mae: 11.7490\n",
            "Epoch 19/500\n",
            "2/2 [==============================] - 0s 5ms/step - loss: 16.4266 - mae: 16.4266\n",
            "Epoch 20/500\n",
            "2/2 [==============================] - 0s 5ms/step - loss: 8.2359 - mae: 8.2359\n",
            "Epoch 21/500\n",
            "2/2 [==============================] - 0s 7ms/step - loss: 14.4339 - mae: 14.4339\n",
            "Epoch 22/500\n",
            "2/2 [==============================] - 0s 7ms/step - loss: 12.8525 - mae: 12.8525\n",
            "Epoch 23/500\n",
            "2/2 [==============================] - 0s 5ms/step - loss: 15.4834 - mae: 15.4834\n",
            "Epoch 24/500\n",
            "2/2 [==============================] - 0s 5ms/step - loss: 15.2744 - mae: 15.2744\n",
            "Epoch 25/500\n",
            "2/2 [==============================] - 0s 8ms/step - loss: 14.3406 - mae: 14.3406\n",
            "Epoch 26/500\n",
            "2/2 [==============================] - 0s 8ms/step - loss: 19.3539 - mae: 19.3539\n",
            "Epoch 27/500\n",
            "2/2 [==============================] - 0s 5ms/step - loss: 11.4370 - mae: 11.4370\n",
            "Epoch 28/500\n",
            "2/2 [==============================] - 0s 9ms/step - loss: 29.0653 - mae: 29.0653\n",
            "Epoch 29/500\n",
            "2/2 [==============================] - 0s 5ms/step - loss: 9.2419 - mae: 9.2419\n",
            "Epoch 30/500\n",
            "2/2 [==============================] - 0s 5ms/step - loss: 29.8111 - mae: 29.8111\n",
            "Epoch 31/500\n",
            "2/2 [==============================] - 0s 4ms/step - loss: 54.0886 - mae: 54.0886\n",
            "Epoch 32/500\n",
            "2/2 [==============================] - 0s 6ms/step - loss: 9.5545 - mae: 9.5545\n",
            "Epoch 33/500\n",
            "2/2 [==============================] - 0s 6ms/step - loss: 12.1456 - mae: 12.1456\n",
            "Epoch 34/500\n",
            "2/2 [==============================] - 0s 4ms/step - loss: 23.8723 - mae: 23.8723\n",
            "Epoch 35/500\n",
            "2/2 [==============================] - 0s 4ms/step - loss: 12.6192 - mae: 12.6192\n",
            "Epoch 36/500\n",
            "2/2 [==============================] - 0s 4ms/step - loss: 21.5403 - mae: 21.5403\n",
            "Epoch 37/500\n",
            "2/2 [==============================] - 0s 4ms/step - loss: 11.3594 - mae: 11.3594\n",
            "Epoch 38/500\n",
            "2/2 [==============================] - 0s 4ms/step - loss: 13.4408 - mae: 13.4408\n",
            "Epoch 39/500\n",
            "2/2 [==============================] - 0s 10ms/step - loss: 10.7730 - mae: 10.7730\n",
            "Epoch 40/500\n",
            "2/2 [==============================] - 0s 4ms/step - loss: 16.5745 - mae: 16.5745\n",
            "Epoch 41/500\n",
            "2/2 [==============================] - 0s 5ms/step - loss: 10.9539 - mae: 10.9539\n",
            "Epoch 42/500\n",
            "2/2 [==============================] - 0s 5ms/step - loss: 9.2850 - mae: 9.2850\n",
            "Epoch 43/500\n",
            "2/2 [==============================] - 0s 7ms/step - loss: 9.5825 - mae: 9.5825\n",
            "Epoch 44/500\n",
            "2/2 [==============================] - 0s 7ms/step - loss: 27.9798 - mae: 27.9798\n",
            "Epoch 45/500\n",
            "2/2 [==============================] - 0s 5ms/step - loss: 11.2716 - mae: 11.2716\n",
            "Epoch 46/500\n",
            "2/2 [==============================] - 0s 4ms/step - loss: 14.0567 - mae: 14.0567\n",
            "Epoch 47/500\n",
            "2/2 [==============================] - 0s 5ms/step - loss: 13.5009 - mae: 13.5009\n",
            "Epoch 48/500\n",
            "2/2 [==============================] - 0s 11ms/step - loss: 17.3372 - mae: 17.3372\n",
            "Epoch 49/500\n",
            "2/2 [==============================] - 0s 4ms/step - loss: 9.5065 - mae: 9.5065\n",
            "Epoch 50/500\n",
            "2/2 [==============================] - 0s 5ms/step - loss: 13.6967 - mae: 13.6967\n",
            "Epoch 51/500\n",
            "2/2 [==============================] - 0s 5ms/step - loss: 11.5513 - mae: 11.5513\n",
            "Epoch 52/500\n",
            "2/2 [==============================] - 0s 8ms/step - loss: 30.2323 - mae: 30.2323\n",
            "Epoch 53/500\n",
            "2/2 [==============================] - 0s 5ms/step - loss: 13.7297 - mae: 13.7297\n",
            "Epoch 54/500\n",
            "2/2 [==============================] - 0s 6ms/step - loss: 26.4500 - mae: 26.4500\n",
            "Epoch 55/500\n",
            "2/2 [==============================] - 0s 13ms/step - loss: 26.0398 - mae: 26.0398\n",
            "Epoch 56/500\n",
            "2/2 [==============================] - 0s 10ms/step - loss: 11.2323 - mae: 11.2323\n",
            "Epoch 57/500\n",
            "2/2 [==============================] - 0s 6ms/step - loss: 13.2142 - mae: 13.2142\n",
            "Epoch 58/500\n",
            "2/2 [==============================] - 0s 7ms/step - loss: 9.8649 - mae: 9.8649\n",
            "Epoch 59/500\n",
            "2/2 [==============================] - 0s 5ms/step - loss: 13.4136 - mae: 13.4136\n",
            "Epoch 60/500\n",
            "2/2 [==============================] - 0s 5ms/step - loss: 10.9326 - mae: 10.9326\n",
            "Epoch 61/500\n",
            "2/2 [==============================] - 0s 7ms/step - loss: 13.5634 - mae: 13.5634\n",
            "Epoch 62/500\n",
            "2/2 [==============================] - 0s 5ms/step - loss: 17.9062 - mae: 17.9062\n",
            "Epoch 63/500\n",
            "2/2 [==============================] - 0s 5ms/step - loss: 8.7338 - mae: 8.7338\n",
            "Epoch 64/500\n",
            "2/2 [==============================] - 0s 8ms/step - loss: 16.1576 - mae: 16.1576\n",
            "Epoch 65/500\n",
            "2/2 [==============================] - 0s 4ms/step - loss: 10.7446 - mae: 10.7446\n",
            "Epoch 66/500\n",
            "2/2 [==============================] - 0s 5ms/step - loss: 22.2274 - mae: 22.2274\n",
            "Epoch 67/500\n",
            "2/2 [==============================] - 0s 6ms/step - loss: 10.2706 - mae: 10.2706\n",
            "Epoch 68/500\n",
            "2/2 [==============================] - 0s 5ms/step - loss: 13.4914 - mae: 13.4914\n",
            "Epoch 69/500\n",
            "2/2 [==============================] - 0s 6ms/step - loss: 11.4419 - mae: 11.4419\n",
            "Epoch 70/500\n",
            "2/2 [==============================] - 0s 5ms/step - loss: 13.6293 - mae: 13.6293\n",
            "Epoch 71/500\n",
            "2/2 [==============================] - 0s 4ms/step - loss: 15.6592 - mae: 15.6592\n",
            "Epoch 72/500\n",
            "2/2 [==============================] - 0s 6ms/step - loss: 11.8628 - mae: 11.8628\n",
            "Epoch 73/500\n",
            "2/2 [==============================] - 0s 5ms/step - loss: 16.6582 - mae: 16.6582\n",
            "Epoch 74/500\n",
            "2/2 [==============================] - 0s 6ms/step - loss: 24.2233 - mae: 24.2233\n",
            "Epoch 75/500\n",
            "2/2 [==============================] - 0s 6ms/step - loss: 9.6428 - mae: 9.6428\n",
            "Epoch 76/500\n",
            "2/2 [==============================] - 0s 5ms/step - loss: 12.4992 - mae: 12.4992\n",
            "Epoch 77/500\n",
            "2/2 [==============================] - 0s 7ms/step - loss: 16.7745 - mae: 16.7745\n",
            "Epoch 78/500\n",
            "2/2 [==============================] - 0s 7ms/step - loss: 9.0842 - mae: 9.0842\n",
            "Epoch 79/500\n",
            "2/2 [==============================] - 0s 12ms/step - loss: 24.1181 - mae: 24.1181\n",
            "Epoch 80/500\n",
            "2/2 [==============================] - 0s 7ms/step - loss: 26.9282 - mae: 26.9282\n",
            "Epoch 81/500\n",
            "2/2 [==============================] - 0s 8ms/step - loss: 11.7608 - mae: 11.7608\n",
            "Epoch 82/500\n",
            "2/2 [==============================] - 0s 5ms/step - loss: 11.9767 - mae: 11.9767\n",
            "Epoch 83/500\n",
            "2/2 [==============================] - 0s 5ms/step - loss: 17.3577 - mae: 17.3577\n",
            "Epoch 84/500\n",
            "2/2 [==============================] - 0s 6ms/step - loss: 7.2581 - mae: 7.2581\n",
            "Epoch 85/500\n",
            "2/2 [==============================] - 0s 4ms/step - loss: 14.9190 - mae: 14.9190\n",
            "Epoch 86/500\n",
            "2/2 [==============================] - 0s 4ms/step - loss: 15.2505 - mae: 15.2505\n",
            "Epoch 87/500\n",
            "2/2 [==============================] - 0s 4ms/step - loss: 19.0338 - mae: 19.0338\n",
            "Epoch 88/500\n",
            "2/2 [==============================] - 0s 7ms/step - loss: 30.0206 - mae: 30.0206\n",
            "Epoch 89/500\n",
            "2/2 [==============================] - 0s 9ms/step - loss: 10.2104 - mae: 10.2104\n",
            "Epoch 90/500\n",
            "2/2 [==============================] - 0s 7ms/step - loss: 21.6827 - mae: 21.6827\n",
            "Epoch 91/500\n",
            "2/2 [==============================] - 0s 6ms/step - loss: 10.6163 - mae: 10.6163\n",
            "Epoch 92/500\n",
            "2/2 [==============================] - 0s 7ms/step - loss: 18.5380 - mae: 18.5380\n",
            "Epoch 93/500\n",
            "2/2 [==============================] - 0s 4ms/step - loss: 8.1666 - mae: 8.1666\n",
            "Epoch 94/500\n",
            "2/2 [==============================] - 0s 3ms/step - loss: 11.3783 - mae: 11.3783\n",
            "Epoch 95/500\n",
            "2/2 [==============================] - 0s 6ms/step - loss: 25.4611 - mae: 25.4611\n",
            "Epoch 96/500\n",
            "2/2 [==============================] - 0s 8ms/step - loss: 10.9989 - mae: 10.9989\n",
            "Epoch 97/500\n",
            "2/2 [==============================] - 0s 4ms/step - loss: 16.3218 - mae: 16.3218\n",
            "Epoch 98/500\n",
            "2/2 [==============================] - 0s 4ms/step - loss: 6.8418 - mae: 6.8418\n",
            "Epoch 99/500\n",
            "2/2 [==============================] - 0s 5ms/step - loss: 11.6974 - mae: 11.6974\n",
            "Epoch 100/500\n",
            "2/2 [==============================] - 0s 4ms/step - loss: 23.5216 - mae: 23.5216\n",
            "Epoch 101/500\n",
            "2/2 [==============================] - 0s 9ms/step - loss: 21.2270 - mae: 21.2270\n",
            "Epoch 102/500\n",
            "2/2 [==============================] - 0s 9ms/step - loss: 10.7391 - mae: 10.7391\n",
            "Epoch 103/500\n",
            "2/2 [==============================] - 0s 6ms/step - loss: 9.1599 - mae: 9.1599\n",
            "Epoch 104/500\n",
            "2/2 [==============================] - 0s 5ms/step - loss: 23.8180 - mae: 23.8180\n",
            "Epoch 105/500\n",
            "2/2 [==============================] - 0s 7ms/step - loss: 10.8270 - mae: 10.8270\n",
            "Epoch 106/500\n",
            "2/2 [==============================] - 0s 5ms/step - loss: 11.2853 - mae: 11.2853\n",
            "Epoch 107/500\n",
            "2/2 [==============================] - 0s 8ms/step - loss: 21.3942 - mae: 21.3942\n",
            "Epoch 108/500\n",
            "2/2 [==============================] - 0s 5ms/step - loss: 6.5826 - mae: 6.5826\n",
            "Epoch 109/500\n",
            "2/2 [==============================] - 0s 13ms/step - loss: 13.2695 - mae: 13.2695\n",
            "Epoch 110/500\n",
            "2/2 [==============================] - 0s 5ms/step - loss: 7.9937 - mae: 7.9937\n",
            "Epoch 111/500\n",
            "2/2 [==============================] - 0s 6ms/step - loss: 15.7903 - mae: 15.7903\n",
            "Epoch 112/500\n",
            "2/2 [==============================] - 0s 4ms/step - loss: 8.7296 - mae: 8.7296\n",
            "Epoch 113/500\n",
            "2/2 [==============================] - 0s 5ms/step - loss: 22.5993 - mae: 22.5993\n",
            "Epoch 114/500\n",
            "2/2 [==============================] - 0s 10ms/step - loss: 18.9550 - mae: 18.9550\n",
            "Epoch 115/500\n",
            "2/2 [==============================] - 0s 6ms/step - loss: 11.0621 - mae: 11.0621\n",
            "Epoch 116/500\n",
            "2/2 [==============================] - 0s 8ms/step - loss: 23.0421 - mae: 23.0421\n",
            "Epoch 117/500\n",
            "2/2 [==============================] - 0s 4ms/step - loss: 9.5423 - mae: 9.5423\n",
            "Epoch 118/500\n",
            "2/2 [==============================] - 0s 5ms/step - loss: 10.6019 - mae: 10.6019\n",
            "Epoch 119/500\n",
            "2/2 [==============================] - 0s 5ms/step - loss: 8.0335 - mae: 8.0335\n",
            "Epoch 120/500\n",
            "2/2 [==============================] - 0s 5ms/step - loss: 29.3404 - mae: 29.3404\n",
            "Epoch 121/500\n",
            "2/2 [==============================] - 0s 5ms/step - loss: 8.0713 - mae: 8.0713\n",
            "Epoch 122/500\n",
            "2/2 [==============================] - 0s 6ms/step - loss: 28.0207 - mae: 28.0207\n",
            "Epoch 123/500\n",
            "2/2 [==============================] - 0s 7ms/step - loss: 32.5447 - mae: 32.5447\n",
            "Epoch 124/500\n",
            "2/2 [==============================] - 0s 4ms/step - loss: 19.3651 - mae: 19.3651\n",
            "Epoch 125/500\n",
            "2/2 [==============================] - 0s 4ms/step - loss: 9.5209 - mae: 9.5209\n",
            "Epoch 126/500\n",
            "2/2 [==============================] - 0s 12ms/step - loss: 9.5950 - mae: 9.5950\n",
            "Epoch 127/500\n",
            "2/2 [==============================] - 0s 10ms/step - loss: 12.7236 - mae: 12.7236\n",
            "Epoch 128/500\n",
            "2/2 [==============================] - 0s 6ms/step - loss: 12.8185 - mae: 12.8185\n",
            "Epoch 129/500\n",
            "2/2 [==============================] - 0s 5ms/step - loss: 13.9552 - mae: 13.9552\n",
            "Epoch 130/500\n",
            "2/2 [==============================] - 0s 9ms/step - loss: 10.2358 - mae: 10.2358\n",
            "Epoch 131/500\n",
            "2/2 [==============================] - 0s 8ms/step - loss: 21.7269 - mae: 21.7269\n",
            "Epoch 132/500\n",
            "2/2 [==============================] - 0s 6ms/step - loss: 8.2799 - mae: 8.2799\n",
            "Epoch 133/500\n",
            "2/2 [==============================] - 0s 5ms/step - loss: 9.0605 - mae: 9.0605\n",
            "Epoch 134/500\n",
            "2/2 [==============================] - 0s 5ms/step - loss: 16.9195 - mae: 16.9195\n",
            "Epoch 135/500\n",
            "2/2 [==============================] - 0s 7ms/step - loss: 10.6574 - mae: 10.6574\n",
            "Epoch 136/500\n",
            "2/2 [==============================] - 0s 4ms/step - loss: 18.5299 - mae: 18.5299\n",
            "Epoch 137/500\n",
            "2/2 [==============================] - 0s 5ms/step - loss: 23.5279 - mae: 23.5279\n",
            "Epoch 138/500\n",
            "2/2 [==============================] - 0s 12ms/step - loss: 9.2870 - mae: 9.2870\n",
            "Epoch 139/500\n",
            "2/2 [==============================] - 0s 7ms/step - loss: 9.0158 - mae: 9.0158\n",
            "Epoch 140/500\n",
            "2/2 [==============================] - 0s 7ms/step - loss: 16.9912 - mae: 16.9912\n",
            "Epoch 141/500\n",
            "2/2 [==============================] - 0s 7ms/step - loss: 8.3172 - mae: 8.3172\n",
            "Epoch 142/500\n",
            "2/2 [==============================] - 0s 5ms/step - loss: 34.0849 - mae: 34.0849\n",
            "Epoch 143/500\n",
            "2/2 [==============================] - 0s 7ms/step - loss: 23.1303 - mae: 23.1303\n",
            "Epoch 144/500\n",
            "2/2 [==============================] - 0s 4ms/step - loss: 10.4752 - mae: 10.4752\n",
            "Epoch 145/500\n",
            "2/2 [==============================] - 0s 4ms/step - loss: 25.8890 - mae: 25.8890\n",
            "Epoch 146/500\n",
            "2/2 [==============================] - 0s 4ms/step - loss: 9.8394 - mae: 9.8394\n",
            "Epoch 147/500\n",
            "2/2 [==============================] - 0s 3ms/step - loss: 15.0303 - mae: 15.0303\n",
            "Epoch 148/500\n",
            "2/2 [==============================] - 0s 6ms/step - loss: 17.4771 - mae: 17.4771\n",
            "Epoch 149/500\n",
            "2/2 [==============================] - 0s 6ms/step - loss: 8.7543 - mae: 8.7543\n",
            "Epoch 150/500\n",
            "2/2 [==============================] - 0s 8ms/step - loss: 7.7268 - mae: 7.7268\n",
            "Epoch 151/500\n",
            "2/2 [==============================] - 0s 6ms/step - loss: 19.8673 - mae: 19.8673\n",
            "Epoch 152/500\n",
            "2/2 [==============================] - 0s 8ms/step - loss: 10.2323 - mae: 10.2323\n",
            "Epoch 153/500\n",
            "2/2 [==============================] - 0s 7ms/step - loss: 29.2364 - mae: 29.2364\n",
            "Epoch 154/500\n",
            "2/2 [==============================] - 0s 6ms/step - loss: 10.6387 - mae: 10.6387\n",
            "Epoch 155/500\n",
            "2/2 [==============================] - 0s 6ms/step - loss: 15.5299 - mae: 15.5299\n",
            "Epoch 156/500\n",
            "2/2 [==============================] - 0s 5ms/step - loss: 17.1840 - mae: 17.1840\n",
            "Epoch 157/500\n",
            "2/2 [==============================] - 0s 8ms/step - loss: 32.3865 - mae: 32.3865\n",
            "Epoch 158/500\n",
            "2/2 [==============================] - 0s 7ms/step - loss: 10.5850 - mae: 10.5850\n",
            "Epoch 159/500\n",
            "2/2 [==============================] - 0s 5ms/step - loss: 8.8556 - mae: 8.8556\n",
            "Epoch 160/500\n",
            "2/2 [==============================] - 0s 7ms/step - loss: 21.8170 - mae: 21.8170\n",
            "Epoch 161/500\n",
            "2/2 [==============================] - 0s 6ms/step - loss: 11.0665 - mae: 11.0665\n",
            "Epoch 162/500\n",
            "2/2 [==============================] - 0s 9ms/step - loss: 21.3584 - mae: 21.3584\n",
            "Epoch 163/500\n",
            "2/2 [==============================] - 0s 8ms/step - loss: 18.8380 - mae: 18.8380\n",
            "Epoch 164/500\n",
            "2/2 [==============================] - 0s 5ms/step - loss: 12.6809 - mae: 12.6809\n",
            "Epoch 165/500\n",
            "2/2 [==============================] - 0s 8ms/step - loss: 12.7301 - mae: 12.7301\n",
            "Epoch 166/500\n",
            "2/2 [==============================] - 0s 6ms/step - loss: 18.9097 - mae: 18.9097\n",
            "Epoch 167/500\n",
            "2/2 [==============================] - 0s 8ms/step - loss: 26.8002 - mae: 26.8002\n",
            "Epoch 168/500\n",
            "2/2 [==============================] - 0s 6ms/step - loss: 9.9690 - mae: 9.9690\n",
            "Epoch 169/500\n",
            "2/2 [==============================] - 0s 7ms/step - loss: 23.0624 - mae: 23.0624\n",
            "Epoch 170/500\n",
            "2/2 [==============================] - 0s 6ms/step - loss: 10.0790 - mae: 10.0790\n",
            "Epoch 171/500\n",
            "2/2 [==============================] - 0s 7ms/step - loss: 17.8385 - mae: 17.8385\n",
            "Epoch 172/500\n",
            "2/2 [==============================] - 0s 6ms/step - loss: 29.3430 - mae: 29.3430\n",
            "Epoch 173/500\n",
            "2/2 [==============================] - 0s 6ms/step - loss: 16.9333 - mae: 16.9333\n",
            "Epoch 174/500\n",
            "2/2 [==============================] - 0s 6ms/step - loss: 11.1759 - mae: 11.1759\n",
            "Epoch 175/500\n",
            "2/2 [==============================] - 0s 5ms/step - loss: 27.4560 - mae: 27.4560\n",
            "Epoch 176/500\n",
            "2/2 [==============================] - 0s 8ms/step - loss: 8.4253 - mae: 8.4253\n",
            "Epoch 177/500\n",
            "2/2 [==============================] - 0s 4ms/step - loss: 9.3819 - mae: 9.3819\n",
            "Epoch 178/500\n",
            "2/2 [==============================] - 0s 8ms/step - loss: 18.5536 - mae: 18.5536\n",
            "Epoch 179/500\n",
            "2/2 [==============================] - 0s 6ms/step - loss: 10.4197 - mae: 10.4197\n",
            "Epoch 180/500\n",
            "2/2 [==============================] - 0s 6ms/step - loss: 7.9858 - mae: 7.9858\n",
            "Epoch 181/500\n",
            "2/2 [==============================] - 0s 4ms/step - loss: 17.7388 - mae: 17.7388\n",
            "Epoch 182/500\n",
            "2/2 [==============================] - 0s 5ms/step - loss: 11.1779 - mae: 11.1779\n",
            "Epoch 183/500\n",
            "2/2 [==============================] - 0s 4ms/step - loss: 12.3816 - mae: 12.3816\n",
            "Epoch 184/500\n",
            "2/2 [==============================] - 0s 4ms/step - loss: 27.3325 - mae: 27.3325\n",
            "Epoch 185/500\n",
            "2/2 [==============================] - 0s 4ms/step - loss: 7.5639 - mae: 7.5639\n",
            "Epoch 186/500\n",
            "2/2 [==============================] - 0s 6ms/step - loss: 15.9585 - mae: 15.9585\n",
            "Epoch 187/500\n",
            "2/2 [==============================] - 0s 7ms/step - loss: 8.5877 - mae: 8.5877\n",
            "Epoch 188/500\n",
            "2/2 [==============================] - 0s 5ms/step - loss: 28.8364 - mae: 28.8364\n",
            "Epoch 189/500\n",
            "2/2 [==============================] - 0s 5ms/step - loss: 13.1542 - mae: 13.1542\n",
            "Epoch 190/500\n",
            "2/2 [==============================] - 0s 6ms/step - loss: 18.2945 - mae: 18.2945\n",
            "Epoch 191/500\n",
            "2/2 [==============================] - 0s 7ms/step - loss: 13.7197 - mae: 13.7197\n",
            "Epoch 192/500\n",
            "2/2 [==============================] - 0s 6ms/step - loss: 13.7101 - mae: 13.7101\n",
            "Epoch 193/500\n",
            "2/2 [==============================] - 0s 5ms/step - loss: 28.5676 - mae: 28.5676\n",
            "Epoch 194/500\n",
            "2/2 [==============================] - 0s 5ms/step - loss: 7.1045 - mae: 7.1045\n",
            "Epoch 195/500\n",
            "2/2 [==============================] - 0s 5ms/step - loss: 7.0691 - mae: 7.0691\n",
            "Epoch 196/500\n",
            "2/2 [==============================] - 0s 8ms/step - loss: 21.9907 - mae: 21.9907\n",
            "Epoch 197/500\n",
            "2/2 [==============================] - 0s 6ms/step - loss: 20.8804 - mae: 20.8804\n",
            "Epoch 198/500\n",
            "2/2 [==============================] - 0s 5ms/step - loss: 12.4975 - mae: 12.4975\n",
            "Epoch 199/500\n",
            "2/2 [==============================] - 0s 5ms/step - loss: 17.9402 - mae: 17.9402\n",
            "Epoch 200/500\n",
            "2/2 [==============================] - 0s 5ms/step - loss: 13.7786 - mae: 13.7786\n",
            "Epoch 201/500\n",
            "2/2 [==============================] - 0s 4ms/step - loss: 5.4851 - mae: 5.4851\n",
            "Epoch 202/500\n",
            "2/2 [==============================] - 0s 5ms/step - loss: 13.7253 - mae: 13.7253\n",
            "Epoch 203/500\n",
            "2/2 [==============================] - 0s 4ms/step - loss: 9.4354 - mae: 9.4354\n",
            "Epoch 204/500\n",
            "2/2 [==============================] - 0s 6ms/step - loss: 20.9930 - mae: 20.9930\n",
            "Epoch 205/500\n",
            "2/2 [==============================] - 0s 9ms/step - loss: 9.5675 - mae: 9.5675\n",
            "Epoch 206/500\n",
            "2/2 [==============================] - 0s 11ms/step - loss: 11.7406 - mae: 11.7406\n",
            "Epoch 207/500\n",
            "2/2 [==============================] - 0s 6ms/step - loss: 14.3803 - mae: 14.3803\n",
            "Epoch 208/500\n",
            "2/2 [==============================] - 0s 6ms/step - loss: 14.8663 - mae: 14.8663\n",
            "Epoch 209/500\n",
            "2/2 [==============================] - 0s 6ms/step - loss: 14.9664 - mae: 14.9664\n",
            "Epoch 210/500\n",
            "2/2 [==============================] - 0s 5ms/step - loss: 17.8962 - mae: 17.8962\n",
            "Epoch 211/500\n",
            "2/2 [==============================] - 0s 7ms/step - loss: 9.8481 - mae: 9.8481\n",
            "Epoch 212/500\n",
            "2/2 [==============================] - 0s 6ms/step - loss: 18.3214 - mae: 18.3214\n",
            "Epoch 213/500\n",
            "2/2 [==============================] - 0s 7ms/step - loss: 15.0507 - mae: 15.0507\n",
            "Epoch 214/500\n",
            "2/2 [==============================] - 0s 8ms/step - loss: 14.5968 - mae: 14.5968\n",
            "Epoch 215/500\n",
            "2/2 [==============================] - 0s 5ms/step - loss: 23.3135 - mae: 23.3135\n",
            "Epoch 216/500\n",
            "2/2 [==============================] - 0s 5ms/step - loss: 13.3476 - mae: 13.3476\n",
            "Epoch 217/500\n",
            "2/2 [==============================] - 0s 4ms/step - loss: 9.8534 - mae: 9.8534\n",
            "Epoch 218/500\n",
            "2/2 [==============================] - 0s 5ms/step - loss: 12.5663 - mae: 12.5663\n",
            "Epoch 219/500\n",
            "2/2 [==============================] - 0s 5ms/step - loss: 4.9627 - mae: 4.9627\n",
            "Epoch 220/500\n",
            "2/2 [==============================] - 0s 5ms/step - loss: 7.1311 - mae: 7.1311\n",
            "Epoch 221/500\n",
            "2/2 [==============================] - 0s 4ms/step - loss: 35.3967 - mae: 35.3967\n",
            "Epoch 222/500\n",
            "2/2 [==============================] - 0s 10ms/step - loss: 34.7871 - mae: 34.7871\n",
            "Epoch 223/500\n",
            "2/2 [==============================] - 0s 10ms/step - loss: 7.9991 - mae: 7.9991\n",
            "Epoch 224/500\n",
            "2/2 [==============================] - 0s 6ms/step - loss: 14.7184 - mae: 14.7184\n",
            "Epoch 225/500\n",
            "2/2 [==============================] - 0s 10ms/step - loss: 16.7419 - mae: 16.7419\n",
            "Epoch 226/500\n",
            "2/2 [==============================] - 0s 5ms/step - loss: 15.9538 - mae: 15.9538\n",
            "Epoch 227/500\n",
            "2/2 [==============================] - 0s 7ms/step - loss: 16.1909 - mae: 16.1909\n",
            "Epoch 228/500\n",
            "2/2 [==============================] - 0s 6ms/step - loss: 9.3405 - mae: 9.3405\n",
            "Epoch 229/500\n",
            "2/2 [==============================] - 0s 6ms/step - loss: 18.0096 - mae: 18.0096\n",
            "Epoch 230/500\n",
            "2/2 [==============================] - 0s 4ms/step - loss: 15.5847 - mae: 15.5847\n",
            "Epoch 231/500\n",
            "2/2 [==============================] - 0s 5ms/step - loss: 21.1388 - mae: 21.1388\n",
            "Epoch 232/500\n",
            "2/2 [==============================] - 0s 4ms/step - loss: 25.4357 - mae: 25.4357\n",
            "Epoch 233/500\n",
            "2/2 [==============================] - 0s 15ms/step - loss: 16.4460 - mae: 16.4460\n",
            "Epoch 234/500\n",
            "2/2 [==============================] - 0s 6ms/step - loss: 7.3162 - mae: 7.3162\n",
            "Epoch 235/500\n",
            "2/2 [==============================] - 0s 6ms/step - loss: 17.0946 - mae: 17.0946\n",
            "Epoch 236/500\n",
            "2/2 [==============================] - 0s 4ms/step - loss: 7.1769 - mae: 7.1769\n",
            "Epoch 237/500\n",
            "2/2 [==============================] - 0s 5ms/step - loss: 9.2751 - mae: 9.2751\n",
            "Epoch 238/500\n",
            "2/2 [==============================] - 0s 8ms/step - loss: 8.1394 - mae: 8.1394\n",
            "Epoch 239/500\n",
            "2/2 [==============================] - 0s 5ms/step - loss: 17.1630 - mae: 17.1630\n",
            "Epoch 240/500\n",
            "2/2 [==============================] - 0s 5ms/step - loss: 8.9177 - mae: 8.9177\n",
            "Epoch 241/500\n",
            "2/2 [==============================] - 0s 5ms/step - loss: 13.2535 - mae: 13.2535\n",
            "Epoch 242/500\n",
            "2/2 [==============================] - 0s 6ms/step - loss: 8.8315 - mae: 8.8315\n",
            "Epoch 243/500\n",
            "2/2 [==============================] - 0s 4ms/step - loss: 18.9323 - mae: 18.9323\n",
            "Epoch 244/500\n",
            "2/2 [==============================] - 0s 12ms/step - loss: 14.0255 - mae: 14.0255\n",
            "Epoch 245/500\n",
            "2/2 [==============================] - 0s 6ms/step - loss: 14.6582 - mae: 14.6582\n",
            "Epoch 246/500\n",
            "2/2 [==============================] - 0s 5ms/step - loss: 15.7849 - mae: 15.7849\n",
            "Epoch 247/500\n",
            "2/2 [==============================] - 0s 4ms/step - loss: 17.6547 - mae: 17.6547\n",
            "Epoch 248/500\n",
            "2/2 [==============================] - 0s 6ms/step - loss: 13.2122 - mae: 13.2122\n",
            "Epoch 249/500\n",
            "2/2 [==============================] - 0s 4ms/step - loss: 14.4949 - mae: 14.4949\n",
            "Epoch 250/500\n",
            "2/2 [==============================] - 0s 7ms/step - loss: 23.2043 - mae: 23.2043\n",
            "Epoch 251/500\n",
            "2/2 [==============================] - 0s 10ms/step - loss: 9.3270 - mae: 9.3270\n",
            "Epoch 252/500\n",
            "2/2 [==============================] - 0s 6ms/step - loss: 36.7579 - mae: 36.7579\n",
            "Epoch 253/500\n",
            "2/2 [==============================] - 0s 6ms/step - loss: 21.9005 - mae: 21.9005\n",
            "Epoch 254/500\n",
            "2/2 [==============================] - 0s 6ms/step - loss: 7.3009 - mae: 7.3009\n",
            "Epoch 255/500\n",
            "2/2 [==============================] - 0s 6ms/step - loss: 24.7870 - mae: 24.7870\n",
            "Epoch 256/500\n",
            "2/2 [==============================] - 0s 8ms/step - loss: 12.4694 - mae: 12.4694\n",
            "Epoch 257/500\n",
            "2/2 [==============================] - 0s 6ms/step - loss: 11.0469 - mae: 11.0469\n",
            "Epoch 258/500\n",
            "2/2 [==============================] - 0s 4ms/step - loss: 10.9140 - mae: 10.9140\n",
            "Epoch 259/500\n",
            "2/2 [==============================] - 0s 5ms/step - loss: 16.1104 - mae: 16.1104\n",
            "Epoch 260/500\n",
            "2/2 [==============================] - 0s 5ms/step - loss: 24.1760 - mae: 24.1760\n",
            "Epoch 261/500\n",
            "2/2 [==============================] - 0s 4ms/step - loss: 8.7757 - mae: 8.7757\n",
            "Epoch 262/500\n",
            "2/2 [==============================] - 0s 5ms/step - loss: 7.9646 - mae: 7.9646\n",
            "Epoch 263/500\n",
            "2/2 [==============================] - 0s 7ms/step - loss: 7.6991 - mae: 7.6991\n",
            "Epoch 264/500\n",
            "2/2 [==============================] - 0s 5ms/step - loss: 16.5665 - mae: 16.5665\n",
            "Epoch 265/500\n",
            "2/2 [==============================] - 0s 5ms/step - loss: 12.6976 - mae: 12.6976\n",
            "Epoch 266/500\n",
            "2/2 [==============================] - 0s 8ms/step - loss: 14.2440 - mae: 14.2440\n",
            "Epoch 267/500\n",
            "2/2 [==============================] - 0s 7ms/step - loss: 11.3567 - mae: 11.3567\n",
            "Epoch 268/500\n",
            "2/2 [==============================] - 0s 7ms/step - loss: 19.8605 - mae: 19.8605\n",
            "Epoch 269/500\n",
            "2/2 [==============================] - 0s 7ms/step - loss: 38.5442 - mae: 38.5442\n",
            "Epoch 270/500\n",
            "2/2 [==============================] - 0s 5ms/step - loss: 11.4412 - mae: 11.4412\n",
            "Epoch 271/500\n",
            "2/2 [==============================] - 0s 5ms/step - loss: 13.9516 - mae: 13.9516\n",
            "Epoch 272/500\n",
            "2/2 [==============================] - 0s 5ms/step - loss: 27.6475 - mae: 27.6475\n",
            "Epoch 273/500\n",
            "2/2 [==============================] - 0s 5ms/step - loss: 8.3584 - mae: 8.3584\n",
            "Epoch 274/500\n",
            "2/2 [==============================] - 0s 6ms/step - loss: 6.4465 - mae: 6.4465\n",
            "Epoch 275/500\n",
            "2/2 [==============================] - 0s 7ms/step - loss: 35.4985 - mae: 35.4985\n",
            "Epoch 276/500\n",
            "2/2 [==============================] - 0s 9ms/step - loss: 8.0993 - mae: 8.0993\n",
            "Epoch 277/500\n",
            "2/2 [==============================] - 0s 8ms/step - loss: 26.5689 - mae: 26.5689\n",
            "Epoch 278/500\n",
            "2/2 [==============================] - 0s 7ms/step - loss: 11.2297 - mae: 11.2297\n",
            "Epoch 279/500\n",
            "2/2 [==============================] - 0s 6ms/step - loss: 16.0296 - mae: 16.0296\n",
            "Epoch 280/500\n",
            "2/2 [==============================] - 0s 6ms/step - loss: 21.0733 - mae: 21.0733\n",
            "Epoch 281/500\n",
            "2/2 [==============================] - 0s 6ms/step - loss: 18.1871 - mae: 18.1871\n",
            "Epoch 282/500\n",
            "2/2 [==============================] - 0s 4ms/step - loss: 6.9060 - mae: 6.9060\n",
            "Epoch 283/500\n",
            "2/2 [==============================] - 0s 9ms/step - loss: 8.0881 - mae: 8.0881\n",
            "Epoch 284/500\n",
            "2/2 [==============================] - 0s 6ms/step - loss: 24.7325 - mae: 24.7325\n",
            "Epoch 285/500\n",
            "2/2 [==============================] - 0s 7ms/step - loss: 13.5336 - mae: 13.5336\n",
            "Epoch 286/500\n",
            "2/2 [==============================] - 0s 6ms/step - loss: 7.7523 - mae: 7.7523\n",
            "Epoch 287/500\n",
            "2/2 [==============================] - 0s 10ms/step - loss: 23.3891 - mae: 23.3891\n",
            "Epoch 288/500\n",
            "2/2 [==============================] - 0s 7ms/step - loss: 23.5569 - mae: 23.5569\n",
            "Epoch 289/500\n",
            "2/2 [==============================] - 0s 8ms/step - loss: 12.0049 - mae: 12.0049\n",
            "Epoch 290/500\n",
            "2/2 [==============================] - 0s 4ms/step - loss: 16.5748 - mae: 16.5748\n",
            "Epoch 291/500\n",
            "2/2 [==============================] - 0s 10ms/step - loss: 16.8494 - mae: 16.8494\n",
            "Epoch 292/500\n",
            "2/2 [==============================] - 0s 8ms/step - loss: 9.4821 - mae: 9.4821\n",
            "Epoch 293/500\n",
            "2/2 [==============================] - 0s 9ms/step - loss: 15.2907 - mae: 15.2907\n",
            "Epoch 294/500\n",
            "2/2 [==============================] - 0s 7ms/step - loss: 22.7654 - mae: 22.7654\n",
            "Epoch 295/500\n",
            "2/2 [==============================] - 0s 4ms/step - loss: 17.8192 - mae: 17.8192\n",
            "Epoch 296/500\n",
            "2/2 [==============================] - 0s 4ms/step - loss: 6.1181 - mae: 6.1181\n",
            "Epoch 297/500\n",
            "2/2 [==============================] - 0s 4ms/step - loss: 10.9547 - mae: 10.9547\n",
            "Epoch 298/500\n",
            "2/2 [==============================] - 0s 6ms/step - loss: 23.1910 - mae: 23.1910\n",
            "Epoch 299/500\n",
            "2/2 [==============================] - 0s 5ms/step - loss: 17.6491 - mae: 17.6491\n",
            "Epoch 300/500\n",
            "2/2 [==============================] - 0s 9ms/step - loss: 6.9517 - mae: 6.9517\n",
            "Epoch 301/500\n",
            "2/2 [==============================] - 0s 7ms/step - loss: 25.0837 - mae: 25.0837\n",
            "Epoch 302/500\n",
            "2/2 [==============================] - 0s 6ms/step - loss: 8.8597 - mae: 8.8597\n",
            "Epoch 303/500\n",
            "2/2 [==============================] - 0s 6ms/step - loss: 17.6937 - mae: 17.6937\n",
            "Epoch 304/500\n",
            "2/2 [==============================] - 0s 4ms/step - loss: 10.9482 - mae: 10.9482\n",
            "Epoch 305/500\n",
            "2/2 [==============================] - 0s 6ms/step - loss: 12.8650 - mae: 12.8650\n",
            "Epoch 306/500\n",
            "2/2 [==============================] - 0s 7ms/step - loss: 8.3649 - mae: 8.3649\n",
            "Epoch 307/500\n",
            "2/2 [==============================] - 0s 8ms/step - loss: 13.5584 - mae: 13.5584\n",
            "Epoch 308/500\n",
            "2/2 [==============================] - 0s 5ms/step - loss: 7.4068 - mae: 7.4068\n",
            "Epoch 309/500\n",
            "2/2 [==============================] - 0s 5ms/step - loss: 9.4292 - mae: 9.4292\n",
            "Epoch 310/500\n",
            "2/2 [==============================] - 0s 7ms/step - loss: 10.6691 - mae: 10.6691\n",
            "Epoch 311/500\n",
            "2/2 [==============================] - 0s 6ms/step - loss: 13.2790 - mae: 13.2790\n",
            "Epoch 312/500\n",
            "2/2 [==============================] - 0s 5ms/step - loss: 29.9861 - mae: 29.9861\n",
            "Epoch 313/500\n",
            "2/2 [==============================] - 0s 7ms/step - loss: 7.5991 - mae: 7.5991\n",
            "Epoch 314/500\n",
            "2/2 [==============================] - 0s 6ms/step - loss: 9.9072 - mae: 9.9072\n",
            "Epoch 315/500\n",
            "2/2 [==============================] - 0s 5ms/step - loss: 23.7745 - mae: 23.7745\n",
            "Epoch 316/500\n",
            "2/2 [==============================] - 0s 5ms/step - loss: 16.3786 - mae: 16.3786\n",
            "Epoch 317/500\n",
            "2/2 [==============================] - 0s 4ms/step - loss: 21.0521 - mae: 21.0521\n",
            "Epoch 318/500\n",
            "2/2 [==============================] - 0s 4ms/step - loss: 7.9169 - mae: 7.9169\n",
            "Epoch 319/500\n",
            "2/2 [==============================] - 0s 6ms/step - loss: 17.9587 - mae: 17.9587\n",
            "Epoch 320/500\n",
            "2/2 [==============================] - 0s 6ms/step - loss: 10.5206 - mae: 10.5206\n",
            "Epoch 321/500\n",
            "2/2 [==============================] - 0s 7ms/step - loss: 6.9287 - mae: 6.9287\n",
            "Epoch 322/500\n",
            "2/2 [==============================] - 0s 7ms/step - loss: 9.2196 - mae: 9.2196\n",
            "Epoch 323/500\n",
            "2/2 [==============================] - 0s 6ms/step - loss: 17.8696 - mae: 17.8696\n",
            "Epoch 324/500\n",
            "2/2 [==============================] - 0s 5ms/step - loss: 15.9570 - mae: 15.9570\n",
            "Epoch 325/500\n",
            "2/2 [==============================] - 0s 6ms/step - loss: 17.6409 - mae: 17.6409\n",
            "Epoch 326/500\n",
            "2/2 [==============================] - 0s 7ms/step - loss: 23.8548 - mae: 23.8548\n",
            "Epoch 327/500\n",
            "2/2 [==============================] - 0s 6ms/step - loss: 10.2394 - mae: 10.2394\n",
            "Epoch 328/500\n",
            "2/2 [==============================] - 0s 6ms/step - loss: 13.1479 - mae: 13.1479\n",
            "Epoch 329/500\n",
            "2/2 [==============================] - 0s 6ms/step - loss: 16.0114 - mae: 16.0114\n",
            "Epoch 330/500\n",
            "2/2 [==============================] - 0s 8ms/step - loss: 14.3408 - mae: 14.3408\n",
            "Epoch 331/500\n",
            "2/2 [==============================] - 0s 6ms/step - loss: 25.7953 - mae: 25.7953\n",
            "Epoch 332/500\n",
            "2/2 [==============================] - 0s 8ms/step - loss: 16.9094 - mae: 16.9094\n",
            "Epoch 333/500\n",
            "2/2 [==============================] - 0s 6ms/step - loss: 10.5373 - mae: 10.5373\n",
            "Epoch 334/500\n",
            "2/2 [==============================] - 0s 5ms/step - loss: 7.4717 - mae: 7.4717\n",
            "Epoch 335/500\n",
            "2/2 [==============================] - 0s 6ms/step - loss: 13.0783 - mae: 13.0783\n",
            "Epoch 336/500\n",
            "2/2 [==============================] - 0s 5ms/step - loss: 32.5640 - mae: 32.5640\n",
            "Epoch 337/500\n",
            "2/2 [==============================] - 0s 11ms/step - loss: 11.1147 - mae: 11.1147\n",
            "Epoch 338/500\n",
            "2/2 [==============================] - 0s 10ms/step - loss: 20.1211 - mae: 20.1211\n",
            "Epoch 339/500\n",
            "2/2 [==============================] - 0s 6ms/step - loss: 33.8439 - mae: 33.8439\n",
            "Epoch 340/500\n",
            "2/2 [==============================] - 0s 6ms/step - loss: 8.6100 - mae: 8.6100\n",
            "Epoch 341/500\n",
            "2/2 [==============================] - 0s 5ms/step - loss: 21.5673 - mae: 21.5673\n",
            "Epoch 342/500\n",
            "2/2 [==============================] - 0s 7ms/step - loss: 14.0551 - mae: 14.0551\n",
            "Epoch 343/500\n",
            "2/2 [==============================] - 0s 7ms/step - loss: 11.5925 - mae: 11.5925\n",
            "Epoch 344/500\n",
            "2/2 [==============================] - 0s 7ms/step - loss: 10.6729 - mae: 10.6729\n",
            "Epoch 345/500\n",
            "2/2 [==============================] - 0s 7ms/step - loss: 30.8492 - mae: 30.8492\n",
            "Epoch 346/500\n",
            "2/2 [==============================] - 0s 5ms/step - loss: 10.6032 - mae: 10.6032\n",
            "Epoch 347/500\n",
            "2/2 [==============================] - 0s 6ms/step - loss: 25.4821 - mae: 25.4821\n",
            "Epoch 348/500\n",
            "2/2 [==============================] - 0s 4ms/step - loss: 13.4757 - mae: 13.4757\n",
            "Epoch 349/500\n",
            "2/2 [==============================] - 0s 5ms/step - loss: 12.9631 - mae: 12.9631\n",
            "Epoch 350/500\n",
            "2/2 [==============================] - 0s 10ms/step - loss: 15.3725 - mae: 15.3725\n",
            "Epoch 351/500\n",
            "2/2 [==============================] - 0s 5ms/step - loss: 32.8311 - mae: 32.8311\n",
            "Epoch 352/500\n",
            "2/2 [==============================] - 0s 4ms/step - loss: 13.8980 - mae: 13.8980\n",
            "Epoch 353/500\n",
            "2/2 [==============================] - 0s 6ms/step - loss: 15.8956 - mae: 15.8956\n",
            "Epoch 354/500\n",
            "2/2 [==============================] - 0s 6ms/step - loss: 19.0353 - mae: 19.0353\n",
            "Epoch 355/500\n",
            "2/2 [==============================] - 0s 9ms/step - loss: 34.2709 - mae: 34.2709\n",
            "Epoch 356/500\n",
            "2/2 [==============================] - 0s 5ms/step - loss: 8.2846 - mae: 8.2846\n",
            "Epoch 357/500\n",
            "2/2 [==============================] - 0s 9ms/step - loss: 21.8068 - mae: 21.8068\n",
            "Epoch 358/500\n",
            "2/2 [==============================] - 0s 8ms/step - loss: 19.9382 - mae: 19.9382\n",
            "Epoch 359/500\n",
            "2/2 [==============================] - 0s 7ms/step - loss: 11.0636 - mae: 11.0636\n",
            "Epoch 360/500\n",
            "2/2 [==============================] - 0s 10ms/step - loss: 20.3049 - mae: 20.3049\n",
            "Epoch 361/500\n",
            "2/2 [==============================] - 0s 8ms/step - loss: 10.9606 - mae: 10.9606\n",
            "Epoch 362/500\n",
            "2/2 [==============================] - 0s 7ms/step - loss: 6.8085 - mae: 6.8085\n",
            "Epoch 363/500\n",
            "2/2 [==============================] - 0s 6ms/step - loss: 23.9261 - mae: 23.9261\n",
            "Epoch 364/500\n",
            "2/2 [==============================] - 0s 6ms/step - loss: 29.6642 - mae: 29.6642\n",
            "Epoch 365/500\n",
            "2/2 [==============================] - 0s 7ms/step - loss: 8.3166 - mae: 8.3166\n",
            "Epoch 366/500\n",
            "2/2 [==============================] - 0s 7ms/step - loss: 6.0893 - mae: 6.0893\n",
            "Epoch 367/500\n",
            "2/2 [==============================] - 0s 5ms/step - loss: 34.8060 - mae: 34.8060\n",
            "Epoch 368/500\n",
            "2/2 [==============================] - 0s 7ms/step - loss: 7.3815 - mae: 7.3815\n",
            "Epoch 369/500\n",
            "2/2 [==============================] - 0s 5ms/step - loss: 9.1942 - mae: 9.1942\n",
            "Epoch 370/500\n",
            "2/2 [==============================] - 0s 5ms/step - loss: 10.8945 - mae: 10.8945\n",
            "Epoch 371/500\n",
            "2/2 [==============================] - 0s 8ms/step - loss: 8.9595 - mae: 8.9595\n",
            "Epoch 372/500\n",
            "2/2 [==============================] - 0s 8ms/step - loss: 7.6988 - mae: 7.6988\n",
            "Epoch 373/500\n",
            "2/2 [==============================] - 0s 4ms/step - loss: 25.0736 - mae: 25.0736\n",
            "Epoch 374/500\n",
            "2/2 [==============================] - 0s 4ms/step - loss: 13.1866 - mae: 13.1866\n",
            "Epoch 375/500\n",
            "2/2 [==============================] - 0s 6ms/step - loss: 11.8659 - mae: 11.8659\n",
            "Epoch 376/500\n",
            "2/2 [==============================] - 0s 5ms/step - loss: 14.1438 - mae: 14.1438\n",
            "Epoch 377/500\n",
            "2/2 [==============================] - 0s 6ms/step - loss: 15.7258 - mae: 15.7258\n",
            "Epoch 378/500\n",
            "2/2 [==============================] - 0s 5ms/step - loss: 17.0551 - mae: 17.0551\n",
            "Epoch 379/500\n",
            "2/2 [==============================] - 0s 7ms/step - loss: 19.3658 - mae: 19.3658\n",
            "Epoch 380/500\n",
            "2/2 [==============================] - 0s 6ms/step - loss: 15.7217 - mae: 15.7217\n",
            "Epoch 381/500\n",
            "2/2 [==============================] - 0s 8ms/step - loss: 11.4688 - mae: 11.4688\n",
            "Epoch 382/500\n",
            "2/2 [==============================] - 0s 6ms/step - loss: 16.3444 - mae: 16.3444\n",
            "Epoch 383/500\n",
            "2/2 [==============================] - 0s 7ms/step - loss: 22.1063 - mae: 22.1063\n",
            "Epoch 384/500\n",
            "2/2 [==============================] - 0s 7ms/step - loss: 7.7375 - mae: 7.7375\n",
            "Epoch 385/500\n",
            "2/2 [==============================] - 0s 7ms/step - loss: 10.6167 - mae: 10.6167\n",
            "Epoch 386/500\n",
            "2/2 [==============================] - 0s 6ms/step - loss: 19.1034 - mae: 19.1034\n",
            "Epoch 387/500\n",
            "2/2 [==============================] - 0s 7ms/step - loss: 26.4706 - mae: 26.4706\n",
            "Epoch 388/500\n",
            "2/2 [==============================] - 0s 7ms/step - loss: 10.0923 - mae: 10.0923\n",
            "Epoch 389/500\n",
            "2/2 [==============================] - 0s 8ms/step - loss: 5.1682 - mae: 5.1682\n",
            "Epoch 390/500\n",
            "2/2 [==============================] - 0s 5ms/step - loss: 18.8072 - mae: 18.8072\n",
            "Epoch 391/500\n",
            "2/2 [==============================] - 0s 4ms/step - loss: 9.3349 - mae: 9.3349\n",
            "Epoch 392/500\n",
            "2/2 [==============================] - 0s 5ms/step - loss: 14.4063 - mae: 14.4063\n",
            "Epoch 393/500\n",
            "2/2 [==============================] - 0s 4ms/step - loss: 15.4127 - mae: 15.4127\n",
            "Epoch 394/500\n",
            "2/2 [==============================] - 0s 7ms/step - loss: 14.7485 - mae: 14.7485\n",
            "Epoch 395/500\n",
            "2/2 [==============================] - 0s 6ms/step - loss: 24.9817 - mae: 24.9817\n",
            "Epoch 396/500\n",
            "2/2 [==============================] - 0s 5ms/step - loss: 19.1298 - mae: 19.1298\n",
            "Epoch 397/500\n",
            "2/2 [==============================] - 0s 6ms/step - loss: 11.5827 - mae: 11.5827\n",
            "Epoch 398/500\n",
            "2/2 [==============================] - 0s 9ms/step - loss: 19.2345 - mae: 19.2345\n",
            "Epoch 399/500\n",
            "2/2 [==============================] - 0s 5ms/step - loss: 25.9112 - mae: 25.9112\n",
            "Epoch 400/500\n",
            "2/2 [==============================] - 0s 9ms/step - loss: 15.5756 - mae: 15.5756\n",
            "Epoch 401/500\n",
            "2/2 [==============================] - 0s 6ms/step - loss: 14.6657 - mae: 14.6657\n",
            "Epoch 402/500\n",
            "2/2 [==============================] - 0s 6ms/step - loss: 24.2877 - mae: 24.2877\n",
            "Epoch 403/500\n",
            "2/2 [==============================] - 0s 7ms/step - loss: 16.2564 - mae: 16.2564\n",
            "Epoch 404/500\n",
            "2/2 [==============================] - 0s 4ms/step - loss: 10.4269 - mae: 10.4269\n",
            "Epoch 405/500\n",
            "2/2 [==============================] - 0s 4ms/step - loss: 6.3934 - mae: 6.3934\n",
            "Epoch 406/500\n",
            "2/2 [==============================] - 0s 7ms/step - loss: 17.7308 - mae: 17.7308\n",
            "Epoch 407/500\n",
            "2/2 [==============================] - 0s 4ms/step - loss: 11.0365 - mae: 11.0365\n",
            "Epoch 408/500\n",
            "2/2 [==============================] - 0s 7ms/step - loss: 21.0967 - mae: 21.0967\n",
            "Epoch 409/500\n",
            "2/2 [==============================] - 0s 10ms/step - loss: 30.2429 - mae: 30.2429\n",
            "Epoch 410/500\n",
            "2/2 [==============================] - 0s 5ms/step - loss: 9.8528 - mae: 9.8528\n",
            "Epoch 411/500\n",
            "2/2 [==============================] - 0s 6ms/step - loss: 14.7238 - mae: 14.7238\n",
            "Epoch 412/500\n",
            "2/2 [==============================] - 0s 10ms/step - loss: 21.4778 - mae: 21.4778\n",
            "Epoch 413/500\n",
            "2/2 [==============================] - 0s 6ms/step - loss: 13.2823 - mae: 13.2823\n",
            "Epoch 414/500\n",
            "2/2 [==============================] - 0s 9ms/step - loss: 7.8217 - mae: 7.8217\n",
            "Epoch 415/500\n",
            "2/2 [==============================] - 0s 8ms/step - loss: 12.2113 - mae: 12.2113\n",
            "Epoch 416/500\n",
            "2/2 [==============================] - 0s 7ms/step - loss: 25.9044 - mae: 25.9044\n",
            "Epoch 417/500\n",
            "2/2 [==============================] - 0s 7ms/step - loss: 14.9615 - mae: 14.9615\n",
            "Epoch 418/500\n",
            "2/2 [==============================] - 0s 6ms/step - loss: 12.8096 - mae: 12.8096\n",
            "Epoch 419/500\n",
            "2/2 [==============================] - 0s 6ms/step - loss: 15.8756 - mae: 15.8756\n",
            "Epoch 420/500\n",
            "2/2 [==============================] - 0s 5ms/step - loss: 24.7327 - mae: 24.7327\n",
            "Epoch 421/500\n",
            "2/2 [==============================] - 0s 5ms/step - loss: 17.4140 - mae: 17.4140\n",
            "Epoch 422/500\n",
            "2/2 [==============================] - 0s 5ms/step - loss: 7.8230 - mae: 7.8230\n",
            "Epoch 423/500\n",
            "2/2 [==============================] - 0s 6ms/step - loss: 25.3643 - mae: 25.3643\n",
            "Epoch 424/500\n",
            "2/2 [==============================] - 0s 7ms/step - loss: 15.1329 - mae: 15.1329\n",
            "Epoch 425/500\n",
            "2/2 [==============================] - 0s 5ms/step - loss: 7.1745 - mae: 7.1745\n",
            "Epoch 426/500\n",
            "2/2 [==============================] - 0s 7ms/step - loss: 20.3654 - mae: 20.3654\n",
            "Epoch 427/500\n",
            "2/2 [==============================] - 0s 7ms/step - loss: 6.3382 - mae: 6.3382\n",
            "Epoch 428/500\n",
            "2/2 [==============================] - 0s 6ms/step - loss: 13.0168 - mae: 13.0168\n",
            "Epoch 429/500\n",
            "2/2 [==============================] - 0s 7ms/step - loss: 10.8046 - mae: 10.8046\n",
            "Epoch 430/500\n",
            "2/2 [==============================] - 0s 6ms/step - loss: 11.4191 - mae: 11.4191\n",
            "Epoch 431/500\n",
            "2/2 [==============================] - 0s 6ms/step - loss: 10.6321 - mae: 10.6321\n",
            "Epoch 432/500\n",
            "2/2 [==============================] - 0s 6ms/step - loss: 11.4784 - mae: 11.4784\n",
            "Epoch 433/500\n",
            "2/2 [==============================] - 0s 5ms/step - loss: 11.3833 - mae: 11.3833\n",
            "Epoch 434/500\n",
            "2/2 [==============================] - 0s 5ms/step - loss: 30.3933 - mae: 30.3933\n",
            "Epoch 435/500\n",
            "2/2 [==============================] - 0s 6ms/step - loss: 10.5036 - mae: 10.5036\n",
            "Epoch 436/500\n",
            "2/2 [==============================] - 0s 5ms/step - loss: 28.8757 - mae: 28.8757\n",
            "Epoch 437/500\n",
            "2/2 [==============================] - 0s 8ms/step - loss: 8.5853 - mae: 8.5853\n",
            "Epoch 438/500\n",
            "2/2 [==============================] - 0s 5ms/step - loss: 12.7370 - mae: 12.7370\n",
            "Epoch 439/500\n",
            "2/2 [==============================] - 0s 5ms/step - loss: 33.6729 - mae: 33.6729\n",
            "Epoch 440/500\n",
            "2/2 [==============================] - 0s 5ms/step - loss: 15.0923 - mae: 15.0923\n",
            "Epoch 441/500\n",
            "2/2 [==============================] - 0s 5ms/step - loss: 17.4788 - mae: 17.4788\n",
            "Epoch 442/500\n",
            "2/2 [==============================] - 0s 7ms/step - loss: 22.3000 - mae: 22.3000\n",
            "Epoch 443/500\n",
            "2/2 [==============================] - 0s 5ms/step - loss: 23.5968 - mae: 23.5968\n",
            "Epoch 444/500\n",
            "2/2 [==============================] - 0s 5ms/step - loss: 11.0105 - mae: 11.0105\n",
            "Epoch 445/500\n",
            "2/2 [==============================] - 0s 10ms/step - loss: 14.9155 - mae: 14.9155\n",
            "Epoch 446/500\n",
            "2/2 [==============================] - 0s 5ms/step - loss: 17.9953 - mae: 17.9953\n",
            "Epoch 447/500\n",
            "2/2 [==============================] - 0s 4ms/step - loss: 5.4516 - mae: 5.4516\n",
            "Epoch 448/500\n",
            "2/2 [==============================] - 0s 6ms/step - loss: 10.0514 - mae: 10.0514\n",
            "Epoch 449/500\n",
            "2/2 [==============================] - 0s 5ms/step - loss: 14.0043 - mae: 14.0043\n",
            "Epoch 450/500\n",
            "2/2 [==============================] - 0s 7ms/step - loss: 16.7778 - mae: 16.7778\n",
            "Epoch 451/500\n",
            "2/2 [==============================] - 0s 8ms/step - loss: 14.2938 - mae: 14.2938\n",
            "Epoch 452/500\n",
            "2/2 [==============================] - 0s 6ms/step - loss: 30.6198 - mae: 30.6198\n",
            "Epoch 453/500\n",
            "2/2 [==============================] - 0s 7ms/step - loss: 7.6544 - mae: 7.6544\n",
            "Epoch 454/500\n",
            "2/2 [==============================] - 0s 6ms/step - loss: 28.1439 - mae: 28.1439\n",
            "Epoch 455/500\n",
            "2/2 [==============================] - 0s 5ms/step - loss: 8.0008 - mae: 8.0008\n",
            "Epoch 456/500\n",
            "2/2 [==============================] - 0s 9ms/step - loss: 10.3952 - mae: 10.3952\n",
            "Epoch 457/500\n",
            "2/2 [==============================] - 0s 10ms/step - loss: 15.0261 - mae: 15.0261\n",
            "Epoch 458/500\n",
            "2/2 [==============================] - 0s 11ms/step - loss: 16.5666 - mae: 16.5666\n",
            "Epoch 459/500\n",
            "2/2 [==============================] - 0s 4ms/step - loss: 26.8599 - mae: 26.8599\n",
            "Epoch 460/500\n",
            "2/2 [==============================] - 0s 4ms/step - loss: 12.4777 - mae: 12.4777\n",
            "Epoch 461/500\n",
            "2/2 [==============================] - 0s 4ms/step - loss: 12.4823 - mae: 12.4823\n",
            "Epoch 462/500\n",
            "2/2 [==============================] - 0s 7ms/step - loss: 13.3202 - mae: 13.3202\n",
            "Epoch 463/500\n",
            "2/2 [==============================] - 0s 16ms/step - loss: 29.5557 - mae: 29.5557\n",
            "Epoch 464/500\n",
            "2/2 [==============================] - 0s 4ms/step - loss: 3.4668 - mae: 3.4668\n",
            "Epoch 465/500\n",
            "2/2 [==============================] - 0s 7ms/step - loss: 15.2165 - mae: 15.2165\n",
            "Epoch 466/500\n",
            "2/2 [==============================] - 0s 7ms/step - loss: 20.8389 - mae: 20.8389\n",
            "Epoch 467/500\n",
            "2/2 [==============================] - 0s 4ms/step - loss: 30.4947 - mae: 30.4947\n",
            "Epoch 468/500\n",
            "2/2 [==============================] - 0s 6ms/step - loss: 11.0529 - mae: 11.0529\n",
            "Epoch 469/500\n",
            "2/2 [==============================] - 0s 8ms/step - loss: 12.8270 - mae: 12.8270\n",
            "Epoch 470/500\n",
            "2/2 [==============================] - 0s 11ms/step - loss: 3.2395 - mae: 3.2395\n",
            "Epoch 471/500\n",
            "2/2 [==============================] - 0s 6ms/step - loss: 16.7026 - mae: 16.7026\n",
            "Epoch 472/500\n",
            "2/2 [==============================] - 0s 8ms/step - loss: 13.3935 - mae: 13.3935\n",
            "Epoch 473/500\n",
            "2/2 [==============================] - 0s 5ms/step - loss: 15.2830 - mae: 15.2830\n",
            "Epoch 474/500\n",
            "2/2 [==============================] - 0s 5ms/step - loss: 11.7510 - mae: 11.7510\n",
            "Epoch 475/500\n",
            "2/2 [==============================] - 0s 5ms/step - loss: 16.4177 - mae: 16.4177\n",
            "Epoch 476/500\n",
            "2/2 [==============================] - 0s 7ms/step - loss: 13.8811 - mae: 13.8811\n",
            "Epoch 477/500\n",
            "2/2 [==============================] - 0s 5ms/step - loss: 30.6756 - mae: 30.6756\n",
            "Epoch 478/500\n",
            "2/2 [==============================] - 0s 6ms/step - loss: 8.5967 - mae: 8.5967\n",
            "Epoch 479/500\n",
            "2/2 [==============================] - 0s 6ms/step - loss: 10.7438 - mae: 10.7438\n",
            "Epoch 480/500\n",
            "2/2 [==============================] - 0s 7ms/step - loss: 17.9112 - mae: 17.9112\n",
            "Epoch 481/500\n",
            "2/2 [==============================] - 0s 6ms/step - loss: 15.8145 - mae: 15.8145\n",
            "Epoch 482/500\n",
            "2/2 [==============================] - 0s 5ms/step - loss: 21.3166 - mae: 21.3166\n",
            "Epoch 483/500\n",
            "2/2 [==============================] - 0s 9ms/step - loss: 25.3604 - mae: 25.3604\n",
            "Epoch 484/500\n",
            "2/2 [==============================] - 0s 5ms/step - loss: 23.9561 - mae: 23.9561\n",
            "Epoch 485/500\n",
            "2/2 [==============================] - 0s 6ms/step - loss: 5.7696 - mae: 5.7696\n",
            "Epoch 486/500\n",
            "2/2 [==============================] - 0s 6ms/step - loss: 19.9704 - mae: 19.9704\n",
            "Epoch 487/500\n",
            "2/2 [==============================] - 0s 5ms/step - loss: 14.0457 - mae: 14.0457\n",
            "Epoch 488/500\n",
            "2/2 [==============================] - 0s 6ms/step - loss: 30.6161 - mae: 30.6161\n",
            "Epoch 489/500\n",
            "2/2 [==============================] - 0s 6ms/step - loss: 11.9522 - mae: 11.9522\n",
            "Epoch 490/500\n",
            "2/2 [==============================] - 0s 6ms/step - loss: 12.7411 - mae: 12.7411\n",
            "Epoch 491/500\n",
            "2/2 [==============================] - 0s 6ms/step - loss: 23.6260 - mae: 23.6260\n",
            "Epoch 492/500\n",
            "2/2 [==============================] - 0s 7ms/step - loss: 20.5076 - mae: 20.5076\n",
            "Epoch 493/500\n",
            "2/2 [==============================] - 0s 5ms/step - loss: 4.9887 - mae: 4.9887\n",
            "Epoch 494/500\n",
            "2/2 [==============================] - 0s 6ms/step - loss: 12.7727 - mae: 12.7727\n",
            "Epoch 495/500\n",
            "2/2 [==============================] - 0s 6ms/step - loss: 13.3891 - mae: 13.3891\n",
            "Epoch 496/500\n",
            "2/2 [==============================] - 0s 5ms/step - loss: 12.6812 - mae: 12.6812\n",
            "Epoch 497/500\n",
            "2/2 [==============================] - 0s 4ms/step - loss: 17.6344 - mae: 17.6344\n",
            "Epoch 498/500\n",
            "2/2 [==============================] - 0s 5ms/step - loss: 23.5292 - mae: 23.5292\n",
            "Epoch 499/500\n",
            "2/2 [==============================] - 0s 5ms/step - loss: 9.3474 - mae: 9.3474\n",
            "Epoch 500/500\n",
            "2/2 [==============================] - 0s 3ms/step - loss: 14.6353 - mae: 14.6353\n"
          ]
        },
        {
          "output_type": "execute_result",
          "data": {
            "text/plain": [
              "<keras.callbacks.History at 0x7ff9e1745290>"
            ]
          },
          "metadata": {},
          "execution_count": 82
        }
      ]
    },
    {
      "cell_type": "code",
      "source": [
        "#Make and plot predictions for model_ \n",
        "y_preds_3 = model_3.predict(X_test)\n",
        "plot_predictions(predictions=y_preds_3)"
      ],
      "metadata": {
        "colab": {
          "base_uri": "https://localhost:8080/",
          "height": 428
        },
        "id": "b7cpPvPd9VwW",
        "outputId": "7733ecb7-8a90-468b-cc17-2bb813d9ef12"
      },
      "execution_count": null,
      "outputs": [
        {
          "output_type": "display_data",
          "data": {
            "text/plain": [
              "<Figure size 720x504 with 1 Axes>"
            ],
            "image/png": "[encoded data removed]"
          },
          "metadata": {
            "needs_background": "light"
          }
        }
      ]
    },
    {
      "cell_type": "code",
      "source": [
        "#Calculate model_1 evaluation metrics \n",
        "mae_3 = mae(y_test, y_preds_3)\n",
        "mse_3 = mse(y_test, y_preds_3)\n",
        "mae_3, mse_3"
      ],
      "metadata": {
        "colab": {
          "base_uri": "https://localhost:8080/"
        },
        "id": "M1WGCvIc9kLd",
        "outputId": "6d7c29f8-36ce-4bc0-8f59-2cfe2dbd8da4"
      },
      "execution_count": null,
      "outputs": [
        {
          "output_type": "execute_result",
          "data": {
            "text/plain": [
              "(<tf.Tensor: shape=(), dtype=float32, numpy=68.72518>,\n",
              " <tf.Tensor: shape=(), dtype=float32, numpy=4809.651>)"
            ]
          },
          "metadata": {},
          "execution_count": 84
        }
      ]
    },
    {
      "cell_type": "markdown",
      "source": [
        "** Note ** You want to start with small experiments (small models) and make sure they work and then increase complexity when needed  "
      ],
      "metadata": {
        "id": "NRxapZJi94ie"
      }
    },
    {
      "cell_type": "markdown",
      "source": [
        "### Comparing the results of our experiments \n",
        "We've run a few experiments, let's compare the results. "
      ],
      "metadata": {
        "id": "IwKkgi86-UTF"
      }
    },
    {
      "cell_type": "code",
      "source": [
        "# let's compare our model's results using a pandas DataFrAME \n",
        "import pandas as pd\n",
        "\n",
        "model_results = [[\"model_1\", mae_1.numpy(), mse_1.numpy()],\n",
        "                 [\"model_1\", mae_2.numpy(), mse_2.numpy()],\n",
        "                 [\"model_1\", mae_3.numpy(), mse_3.numpy()]]\n",
        "all_results = pd.DataFrame (model_results, columns=[\"model\", \"mae\", \"mse\"])"
      ],
      "metadata": {
        "id": "BaMgWkfZ9v65"
      },
      "execution_count": null,
      "outputs": []
    },
    {
      "cell_type": "code",
      "source": [
        "all_results"
      ],
      "metadata": {
        "colab": {
          "base_uri": "https://localhost:8080/",
          "height": 143
        },
        "id": "rrm_LVk2RN1f",
        "outputId": "a520d487-6b57-4e07-847b-b013c1a9e5b2"
      },
      "execution_count": null,
      "outputs": [
        {
          "output_type": "execute_result",
          "data": {
            "text/plain": [
              "     model        mae          mse\n",
              "0  model_1  18.745327   353.573364\n",
              "1  model_1   2.979044    11.618595\n",
              "2  model_1  68.725182  4809.650879"
            ],
            "text/html": [
              "\n",
              "  <div id=\"df-880f01f4-75a6-4d2f-a5ae-25278eba87dd\">\n",
              "    <div class=\"colab-df-container\">\n",
              "      <div>\n",
              "<style scoped>\n",
              "    .dataframe tbody tr th:only-of-type {\n",
              "        vertical-align: middle;\n",
              "    }\n",
              "\n",
              "    .dataframe tbody tr th {\n",
              "        vertical-align: top;\n",
              "    }\n",
              "\n",
              "    .dataframe thead th {\n",
              "        text-align: right;\n",
              "    }\n",
              "</style>\n",
              "<table border=\"1\" class=\"dataframe\">\n",
              "  <thead>\n",
              "    <tr style=\"text-align: right;\">\n",
              "      <th></th>\n",
              "      <th>model</th>\n",
              "      <th>mae</th>\n",
              "      <th>mse</th>\n",
              "    </tr>\n",
              "  </thead>\n",
              "  <tbody>\n",
              "    <tr>\n",
              "      <th>0</th>\n",
              "      <td>model_1</td>\n",
              "      <td>18.745327</td>\n",
              "      <td>353.573364</td>\n",
              "    </tr>\n",
              "    <tr>\n",
              "      <th>1</th>\n",
              "      <td>model_1</td>\n",
              "      <td>2.979044</td>\n",
              "      <td>11.618595</td>\n",
              "    </tr>\n",
              "    <tr>\n",
              "      <th>2</th>\n",
              "      <td>model_1</td>\n",
              "      <td>68.725182</td>\n",
              "      <td>4809.650879</td>\n",
              "    </tr>\n",
              "  </tbody>\n",
              "</table>\n",
              "</div>\n",
              "      <button class=\"colab-df-convert\" onclick=\"convertToInteractive('df-880f01f4-75a6-4d2f-a5ae-25278eba87dd')\"\n",
              "              title=\"Convert this dataframe to an interactive table.\"\n",
              "              style=\"display:none;\">\n",
              "        \n",
              "  <svg xmlns=\"http://www.w3.org/2000/svg\" height=\"24px\"viewBox=\"0 0 24 24\"\n",
              "       width=\"24px\">\n",
              "    <path d=\"M0 0h24v24H0V0z\" fill=\"none\"/>\n",
              "    <path d=\"M18.56 5.44l.94 2.06.94-2.06 2.06-.94-2.06-.94-.94-2.06-.94 2.06-2.06.94zm-11 1L8.5 8.5l.94-2.06 2.06-.94-2.06-.94L8.5 2.5l-.94 2.06-2.06.94zm10 10l.94 2.06.94-2.06 2.06-.94-2.06-.94-.94-2.06-.94 2.06-2.06.94z\"/><path d=\"M17.41 7.96l-1.37-1.37c-.4-.4-.92-.59-1.43-.59-.52 0-1.04.2-1.43.59L10.3 9.45l-7.72 7.72c-.78.78-.78 2.05 0 2.83L4 21.41c.39.39.9.59 1.41.59.51 0 1.02-.2 1.41-.59l7.78-7.78 2.81-2.81c.8-.78.8-2.07 0-2.86zM5.41 20L4 18.59l7.72-7.72 1.47 1.35L5.41 20z\"/>\n",
              "  </svg>\n",
              "      </button>\n",
              "      \n",
              "  <style>\n",
              "    .colab-df-container {\n",
              "      display:flex;\n",
              "      flex-wrap:wrap;\n",
              "      gap: 12px;\n",
              "    }\n",
              "\n",
              "    .colab-df-convert {\n",
              "      background-color: #E8F0FE;\n",
              "      border: none;\n",
              "      border-radius: 50%;\n",
              "      cursor: pointer;\n",
              "      display: none;\n",
              "      fill: #1967D2;\n",
              "      height: 32px;\n",
              "      padding: 0 0 0 0;\n",
              "      width: 32px;\n",
              "    }\n",
              "\n",
              "    .colab-df-convert:hover {\n",
              "      background-color: #E2EBFA;\n",
              "      box-shadow: 0px 1px 2px rgba(60, 64, 67, 0.3), 0px 1px 3px 1px rgba(60, 64, 67, 0.15);\n",
              "      fill: #174EA6;\n",
              "    }\n",
              "\n",
              "    [theme=dark] .colab-df-convert {\n",
              "      background-color: #3B4455;\n",
              "      fill: #D2E3FC;\n",
              "    }\n",
              "\n",
              "    [theme=dark] .colab-df-convert:hover {\n",
              "      background-color: #434B5C;\n",
              "      box-shadow: 0px 1px 3px 1px rgba(0, 0, 0, 0.15);\n",
              "      filter: drop-shadow(0px 1px 2px rgba(0, 0, 0, 0.3));\n",
              "      fill: #FFFFFF;\n",
              "    }\n",
              "  </style>\n",
              "\n",
              "      <script>\n",
              "        const buttonEl =\n",
              "          document.querySelector('#df-880f01f4-75a6-4d2f-a5ae-25278eba87dd button.colab-df-convert');\n",
              "        buttonEl.style.display =\n",
              "          google.colab.kernel.accessAllowed ? 'block' : 'none';\n",
              "\n",
              "        async function convertToInteractive(key) {\n",
              "          const element = document.querySelector('#df-880f01f4-75a6-4d2f-a5ae-25278eba87dd');\n",
              "          const dataTable =\n",
              "            await google.colab.kernel.invokeFunction('convertToInteractive',\n",
              "                                                     [key], {});\n",
              "          if (!dataTable) return;\n",
              "\n",
              "          const docLinkHtml = 'Like what you see? Visit the ' +\n",
              "            '<a target=\"_blank\" href=https://colab.research.google.com/notebooks/data_table.ipynb>data table notebook</a>'\n",
              "            + ' to learn more about interactive tables.';\n",
              "          element.innerHTML = '';\n",
              "          dataTable['output_type'] = 'display_data';\n",
              "          await google.colab.output.renderOutput(dataTable, element);\n",
              "          const docLink = document.createElement('div');\n",
              "          docLink.innerHTML = docLinkHtml;\n",
              "          element.appendChild(docLink);\n",
              "        }\n",
              "      </script>\n",
              "    </div>\n",
              "  </div>\n",
              "  "
            ]
          },
          "metadata": {},
          "execution_count": 89
        }
      ]
    },
    {
      "cell_type": "code",
      "source": [
        "model_2.summary()"
      ],
      "metadata": {
        "colab": {
          "base_uri": "https://localhost:8080/"
        },
        "id": "V_2e_UvYRiLZ",
        "outputId": "89e8d265-5181-4c76-d8d8-e493db054ae2"
      },
      "execution_count": null,
      "outputs": [
        {
          "output_type": "stream",
          "name": "stdout",
          "text": [
            "Model: \"sequential_14\"\n",
            "_________________________________________________________________\n",
            " Layer (type)                Output Shape              Param #   \n",
            "=================================================================\n",
            " dense_7 (Dense)             (None, 2)                 4         \n",
            "                                                                 \n",
            " dense_8 (Dense)             (None, 1)                 3         \n",
            "                                                                 \n",
            "=================================================================\n",
            "Total params: 7\n",
            "Trainable params: 7\n",
            "Non-trainable params: 0\n",
            "_________________________________________________________________\n"
          ]
        }
      ]
    },
    {
      "cell_type": "markdown",
      "source": [
        "##Tracking yourr experiments \n",
        "One really good habit in machine learning modelling is to trakc the results of your experiments. \n",
        "And when doing so, it can be tedious if you're running lots of ecperiments. \n",
        "Lyckily there are tools to help us ! \n",
        "**Resource** As you build more models, you'll want to look into using:\n",
        "* TensorBoard - a component of the TensorFlow ibrary to help track modelling experiments\n",
        "* Weights and biases - "
      ],
      "metadata": {
        "id": "L7ROavzQRqlO"
      }
    },
    {
      "cell_type": "markdown",
      "source": [
        "### Saving our models\n",
        "Saving our modes so we can use in an app or mobile app\n",
        "There are two main forms to save a model\n",
        "1. The SavedMOdel \n",
        "2. The HDF5 form "
      ],
      "metadata": {
        "id": "pK_guxzvTg3O"
      }
    },
    {
      "cell_type": "code",
      "source": [
        "#Save model using the SavedModel format \n",
        "model_2.save(\"best_model_SaveModel_format\")"
      ],
      "metadata": {
        "colab": {
          "base_uri": "https://localhost:8080/"
        },
        "id": "NGgQtnJYT-Bd",
        "outputId": "2fd3e801-8404-485c-d0c1-310b8397b7f3"
      },
      "execution_count": null,
      "outputs": [
        {
          "output_type": "stream",
          "name": "stdout",
          "text": [
            "INFO:tensorflow:Assets written to: best_model_SaveModel_format/assets\n"
          ]
        }
      ]
    },
    {
      "cell_type": "code",
      "source": [
        "#Save model using the HFF5 format \n",
        "model_2.save(\"best_model_SaveModel_format.h5\")"
      ],
      "metadata": {
        "id": "W0jJmrhrUnPZ"
      },
      "execution_count": null,
      "outputs": []
    },
    {
      "cell_type": "markdown",
      "source": [
        "### A larger example"
      ],
      "metadata": {
        "id": "XzDFQUuRVLgA"
      }
    },
    {
      "cell_type": "code",
      "source": [
        "#Import the required libraries \n",
        "import tensorflow as tf \n",
        "import pandas as pd \n",
        "import matplotlib.pyplot as plt \n"
      ],
      "metadata": {
        "id": "0SlCEwwLM-PK"
      },
      "execution_count": null,
      "outputs": []
    },
    {
      "cell_type": "code",
      "source": [
        "#Read in the insurance csv  dataset \n",
        "insurance = pd.read_csv(\"https://raw.githubusercontent.com/stedy/Machine-Learning-with-R-datasets/master/insurance.csv\")\n",
        "insurance \n"
      ],
      "metadata": {
        "colab": {
          "base_uri": "https://localhost:8080/",
          "height": 424
        },
        "id": "7ROcu3HkNG6c",
        "outputId": "2ec47452-6fec-42be-c74f-96f09cd94f94"
      },
      "execution_count": null,
      "outputs": [
        {
          "output_type": "execute_result",
          "data": {
            "text/plain": [
              "      age     sex     bmi  children smoker     region      charges\n",
              "0      19  female  27.900         0    yes  southwest  16884.92400\n",
              "1      18    male  33.770         1     no  southeast   1725.55230\n",
              "2      28    male  33.000         3     no  southeast   4449.46200\n",
              "3      33    male  22.705         0     no  northwest  21984.47061\n",
              "4      32    male  28.880         0     no  northwest   3866.85520\n",
              "...   ...     ...     ...       ...    ...        ...          ...\n",
              "1333   50    male  30.970         3     no  northwest  10600.54830\n",
              "1334   18  female  31.920         0     no  northeast   2205.98080\n",
              "1335   18  female  36.850         0     no  southeast   1629.83350\n",
              "1336   21  female  25.800         0     no  southwest   2007.94500\n",
              "1337   61  female  29.070         0    yes  northwest  29141.36030\n",
              "\n",
              "[1338 rows x 7 columns]"
            ],
            "text/html": [
              "\n",
              "  <div id=\"df-fad1d1a6-7b78-4d49-9f0b-9b4b0231a396\">\n",
              "    <div class=\"colab-df-container\">\n",
              "      <div>\n",
              "<style scoped>\n",
              "    .dataframe tbody tr th:only-of-type {\n",
              "        vertical-align: middle;\n",
              "    }\n",
              "\n",
              "    .dataframe tbody tr th {\n",
              "        vertical-align: top;\n",
              "    }\n",
              "\n",
              "    .dataframe thead th {\n",
              "        text-align: right;\n",
              "    }\n",
              "</style>\n",
              "<table border=\"1\" class=\"dataframe\">\n",
              "  <thead>\n",
              "    <tr style=\"text-align: right;\">\n",
              "      <th></th>\n",
              "      <th>age</th>\n",
              "      <th>sex</th>\n",
              "      <th>bmi</th>\n",
              "      <th>children</th>\n",
              "      <th>smoker</th>\n",
              "      <th>region</th>\n",
              "      <th>charges</th>\n",
              "    </tr>\n",
              "  </thead>\n",
              "  <tbody>\n",
              "    <tr>\n",
              "      <th>0</th>\n",
              "      <td>19</td>\n",
              "      <td>female</td>\n",
              "      <td>27.900</td>\n",
              "      <td>0</td>\n",
              "      <td>yes</td>\n",
              "      <td>southwest</td>\n",
              "      <td>16884.92400</td>\n",
              "    </tr>\n",
              "    <tr>\n",
              "      <th>1</th>\n",
              "      <td>18</td>\n",
              "      <td>male</td>\n",
              "      <td>33.770</td>\n",
              "      <td>1</td>\n",
              "      <td>no</td>\n",
              "      <td>southeast</td>\n",
              "      <td>1725.55230</td>\n",
              "    </tr>\n",
              "    <tr>\n",
              "      <th>2</th>\n",
              "      <td>28</td>\n",
              "      <td>male</td>\n",
              "      <td>33.000</td>\n",
              "      <td>3</td>\n",
              "      <td>no</td>\n",
              "      <td>southeast</td>\n",
              "      <td>4449.46200</td>\n",
              "    </tr>\n",
              "    <tr>\n",
              "      <th>3</th>\n",
              "      <td>33</td>\n",
              "      <td>male</td>\n",
              "      <td>22.705</td>\n",
              "      <td>0</td>\n",
              "      <td>no</td>\n",
              "      <td>northwest</td>\n",
              "      <td>21984.47061</td>\n",
              "    </tr>\n",
              "    <tr>\n",
              "      <th>4</th>\n",
              "      <td>32</td>\n",
              "      <td>male</td>\n",
              "      <td>28.880</td>\n",
              "      <td>0</td>\n",
              "      <td>no</td>\n",
              "      <td>northwest</td>\n",
              "      <td>3866.85520</td>\n",
              "    </tr>\n",
              "    <tr>\n",
              "      <th>...</th>\n",
              "      <td>...</td>\n",
              "      <td>...</td>\n",
              "      <td>...</td>\n",
              "      <td>...</td>\n",
              "      <td>...</td>\n",
              "      <td>...</td>\n",
              "      <td>...</td>\n",
              "    </tr>\n",
              "    <tr>\n",
              "      <th>1333</th>\n",
              "      <td>50</td>\n",
              "      <td>male</td>\n",
              "      <td>30.970</td>\n",
              "      <td>3</td>\n",
              "      <td>no</td>\n",
              "      <td>northwest</td>\n",
              "      <td>10600.54830</td>\n",
              "    </tr>\n",
              "    <tr>\n",
              "      <th>1334</th>\n",
              "      <td>18</td>\n",
              "      <td>female</td>\n",
              "      <td>31.920</td>\n",
              "      <td>0</td>\n",
              "      <td>no</td>\n",
              "      <td>northeast</td>\n",
              "      <td>2205.98080</td>\n",
              "    </tr>\n",
              "    <tr>\n",
              "      <th>1335</th>\n",
              "      <td>18</td>\n",
              "      <td>female</td>\n",
              "      <td>36.850</td>\n",
              "      <td>0</td>\n",
              "      <td>no</td>\n",
              "      <td>southeast</td>\n",
              "      <td>1629.83350</td>\n",
              "    </tr>\n",
              "    <tr>\n",
              "      <th>1336</th>\n",
              "      <td>21</td>\n",
              "      <td>female</td>\n",
              "      <td>25.800</td>\n",
              "      <td>0</td>\n",
              "      <td>no</td>\n",
              "      <td>southwest</td>\n",
              "      <td>2007.94500</td>\n",
              "    </tr>\n",
              "    <tr>\n",
              "      <th>1337</th>\n",
              "      <td>61</td>\n",
              "      <td>female</td>\n",
              "      <td>29.070</td>\n",
              "      <td>0</td>\n",
              "      <td>yes</td>\n",
              "      <td>northwest</td>\n",
              "      <td>29141.36030</td>\n",
              "    </tr>\n",
              "  </tbody>\n",
              "</table>\n",
              "<p>1338 rows × 7 columns</p>\n",
              "</div>\n",
              "      <button class=\"colab-df-convert\" onclick=\"convertToInteractive('df-fad1d1a6-7b78-4d49-9f0b-9b4b0231a396')\"\n",
              "              title=\"Convert this dataframe to an interactive table.\"\n",
              "              style=\"display:none;\">\n",
              "        \n",
              "  <svg xmlns=\"http://www.w3.org/2000/svg\" height=\"24px\"viewBox=\"0 0 24 24\"\n",
              "       width=\"24px\">\n",
              "    <path d=\"M0 0h24v24H0V0z\" fill=\"none\"/>\n",
              "    <path d=\"M18.56 5.44l.94 2.06.94-2.06 2.06-.94-2.06-.94-.94-2.06-.94 2.06-2.06.94zm-11 1L8.5 8.5l.94-2.06 2.06-.94-2.06-.94L8.5 2.5l-.94 2.06-2.06.94zm10 10l.94 2.06.94-2.06 2.06-.94-2.06-.94-.94-2.06-.94 2.06-2.06.94z\"/><path d=\"M17.41 7.96l-1.37-1.37c-.4-.4-.92-.59-1.43-.59-.52 0-1.04.2-1.43.59L10.3 9.45l-7.72 7.72c-.78.78-.78 2.05 0 2.83L4 21.41c.39.39.9.59 1.41.59.51 0 1.02-.2 1.41-.59l7.78-7.78 2.81-2.81c.8-.78.8-2.07 0-2.86zM5.41 20L4 18.59l7.72-7.72 1.47 1.35L5.41 20z\"/>\n",
              "  </svg>\n",
              "      </button>\n",
              "      \n",
              "  <style>\n",
              "    .colab-df-container {\n",
              "      display:flex;\n",
              "      flex-wrap:wrap;\n",
              "      gap: 12px;\n",
              "    }\n",
              "\n",
              "    .colab-df-convert {\n",
              "      background-color: #E8F0FE;\n",
              "      border: none;\n",
              "      border-radius: 50%;\n",
              "      cursor: pointer;\n",
              "      display: none;\n",
              "      fill: #1967D2;\n",
              "      height: 32px;\n",
              "      padding: 0 0 0 0;\n",
              "      width: 32px;\n",
              "    }\n",
              "\n",
              "    .colab-df-convert:hover {\n",
              "      background-color: #E2EBFA;\n",
              "      box-shadow: 0px 1px 2px rgba(60, 64, 67, 0.3), 0px 1px 3px 1px rgba(60, 64, 67, 0.15);\n",
              "      fill: #174EA6;\n",
              "    }\n",
              "\n",
              "    [theme=dark] .colab-df-convert {\n",
              "      background-color: #3B4455;\n",
              "      fill: #D2E3FC;\n",
              "    }\n",
              "\n",
              "    [theme=dark] .colab-df-convert:hover {\n",
              "      background-color: #434B5C;\n",
              "      box-shadow: 0px 1px 3px 1px rgba(0, 0, 0, 0.15);\n",
              "      filter: drop-shadow(0px 1px 2px rgba(0, 0, 0, 0.3));\n",
              "      fill: #FFFFFF;\n",
              "    }\n",
              "  </style>\n",
              "\n",
              "      <script>\n",
              "        const buttonEl =\n",
              "          document.querySelector('#df-fad1d1a6-7b78-4d49-9f0b-9b4b0231a396 button.colab-df-convert');\n",
              "        buttonEl.style.display =\n",
              "          google.colab.kernel.accessAllowed ? 'block' : 'none';\n",
              "\n",
              "        async function convertToInteractive(key) {\n",
              "          const element = document.querySelector('#df-fad1d1a6-7b78-4d49-9f0b-9b4b0231a396');\n",
              "          const dataTable =\n",
              "            await google.colab.kernel.invokeFunction('convertToInteractive',\n",
              "                                                     [key], {});\n",
              "          if (!dataTable) return;\n",
              "\n",
              "          const docLinkHtml = 'Like what you see? Visit the ' +\n",
              "            '<a target=\"_blank\" href=https://colab.research.google.com/notebooks/data_table.ipynb>data table notebook</a>'\n",
              "            + ' to learn more about interactive tables.';\n",
              "          element.innerHTML = '';\n",
              "          dataTable['output_type'] = 'display_data';\n",
              "          await google.colab.output.renderOutput(dataTable, element);\n",
              "          const docLink = document.createElement('div');\n",
              "          docLink.innerHTML = docLinkHtml;\n",
              "          element.appendChild(docLink);\n",
              "        }\n",
              "      </script>\n",
              "    </div>\n",
              "  </div>\n",
              "  "
            ]
          },
          "metadata": {},
          "execution_count": 2
        }
      ]
    },
    {
      "cell_type": "code",
      "source": [
        "#et's try one hot encode our DataFrame it's al numbers \n",
        "insurance_one_hot = pd.get_dummies(insurance)\n",
        "insurance_one_hot.head()"
      ],
      "metadata": {
        "colab": {
          "base_uri": "https://localhost:8080/",
          "height": 206
        },
        "id": "m1mn5RfxNRsl",
        "outputId": "ae81a568-4f26-48e9-d8f3-f9116cbcc9ac"
      },
      "execution_count": null,
      "outputs": [
        {
          "output_type": "execute_result",
          "data": {
            "text/plain": [
              "   age     bmi  children      charges  sex_female  sex_male  smoker_no  \\\n",
              "0   19  27.900         0  16884.92400           1         0          0   \n",
              "1   18  33.770         1   1725.55230           0         1          1   \n",
              "2   28  33.000         3   4449.46200           0         1          1   \n",
              "3   33  22.705         0  21984.47061           0         1          1   \n",
              "4   32  28.880         0   3866.85520           0         1          1   \n",
              "\n",
              "   smoker_yes  region_northeast  region_northwest  region_southeast  \\\n",
              "0           1                 0                 0                 0   \n",
              "1           0                 0                 0                 1   \n",
              "2           0                 0                 0                 1   \n",
              "3           0                 0                 1                 0   \n",
              "4           0                 0                 1                 0   \n",
              "\n",
              "   region_southwest  \n",
              "0                 1  \n",
              "1                 0  \n",
              "2                 0  \n",
              "3                 0  \n",
              "4                 0  "
            ],
            "text/html": [
              "\n",
              "  <div id=\"df-1312096a-926e-4855-a5ef-ae5ea57bca63\">\n",
              "    <div class=\"colab-df-container\">\n",
              "      <div>\n",
              "<style scoped>\n",
              "    .dataframe tbody tr th:only-of-type {\n",
              "        vertical-align: middle;\n",
              "    }\n",
              "\n",
              "    .dataframe tbody tr th {\n",
              "        vertical-align: top;\n",
              "    }\n",
              "\n",
              "    .dataframe thead th {\n",
              "        text-align: right;\n",
              "    }\n",
              "</style>\n",
              "<table border=\"1\" class=\"dataframe\">\n",
              "  <thead>\n",
              "    <tr style=\"text-align: right;\">\n",
              "      <th></th>\n",
              "      <th>age</th>\n",
              "      <th>bmi</th>\n",
              "      <th>children</th>\n",
              "      <th>charges</th>\n",
              "      <th>sex_female</th>\n",
              "      <th>sex_male</th>\n",
              "      <th>smoker_no</th>\n",
              "      <th>smoker_yes</th>\n",
              "      <th>region_northeast</th>\n",
              "      <th>region_northwest</th>\n",
              "      <th>region_southeast</th>\n",
              "      <th>region_southwest</th>\n",
              "    </tr>\n",
              "  </thead>\n",
              "  <tbody>\n",
              "    <tr>\n",
              "      <th>0</th>\n",
              "      <td>19</td>\n",
              "      <td>27.900</td>\n",
              "      <td>0</td>\n",
              "      <td>16884.92400</td>\n",
              "      <td>1</td>\n",
              "      <td>0</td>\n",
              "      <td>0</td>\n",
              "      <td>1</td>\n",
              "      <td>0</td>\n",
              "      <td>0</td>\n",
              "      <td>0</td>\n",
              "      <td>1</td>\n",
              "    </tr>\n",
              "    <tr>\n",
              "      <th>1</th>\n",
              "      <td>18</td>\n",
              "      <td>33.770</td>\n",
              "      <td>1</td>\n",
              "      <td>1725.55230</td>\n",
              "      <td>0</td>\n",
              "      <td>1</td>\n",
              "      <td>1</td>\n",
              "      <td>0</td>\n",
              "      <td>0</td>\n",
              "      <td>0</td>\n",
              "      <td>1</td>\n",
              "      <td>0</td>\n",
              "    </tr>\n",
              "    <tr>\n",
              "      <th>2</th>\n",
              "      <td>28</td>\n",
              "      <td>33.000</td>\n",
              "      <td>3</td>\n",
              "      <td>4449.46200</td>\n",
              "      <td>0</td>\n",
              "      <td>1</td>\n",
              "      <td>1</td>\n",
              "      <td>0</td>\n",
              "      <td>0</td>\n",
              "      <td>0</td>\n",
              "      <td>1</td>\n",
              "      <td>0</td>\n",
              "    </tr>\n",
              "    <tr>\n",
              "      <th>3</th>\n",
              "      <td>33</td>\n",
              "      <td>22.705</td>\n",
              "      <td>0</td>\n",
              "      <td>21984.47061</td>\n",
              "      <td>0</td>\n",
              "      <td>1</td>\n",
              "      <td>1</td>\n",
              "      <td>0</td>\n",
              "      <td>0</td>\n",
              "      <td>1</td>\n",
              "      <td>0</td>\n",
              "      <td>0</td>\n",
              "    </tr>\n",
              "    <tr>\n",
              "      <th>4</th>\n",
              "      <td>32</td>\n",
              "      <td>28.880</td>\n",
              "      <td>0</td>\n",
              "      <td>3866.85520</td>\n",
              "      <td>0</td>\n",
              "      <td>1</td>\n",
              "      <td>1</td>\n",
              "      <td>0</td>\n",
              "      <td>0</td>\n",
              "      <td>1</td>\n",
              "      <td>0</td>\n",
              "      <td>0</td>\n",
              "    </tr>\n",
              "  </tbody>\n",
              "</table>\n",
              "</div>\n",
              "      <button class=\"colab-df-convert\" onclick=\"convertToInteractive('df-1312096a-926e-4855-a5ef-ae5ea57bca63')\"\n",
              "              title=\"Convert this dataframe to an interactive table.\"\n",
              "              style=\"display:none;\">\n",
              "        \n",
              "  <svg xmlns=\"http://www.w3.org/2000/svg\" height=\"24px\"viewBox=\"0 0 24 24\"\n",
              "       width=\"24px\">\n",
              "    <path d=\"M0 0h24v24H0V0z\" fill=\"none\"/>\n",
              "    <path d=\"M18.56 5.44l.94 2.06.94-2.06 2.06-.94-2.06-.94-.94-2.06-.94 2.06-2.06.94zm-11 1L8.5 8.5l.94-2.06 2.06-.94-2.06-.94L8.5 2.5l-.94 2.06-2.06.94zm10 10l.94 2.06.94-2.06 2.06-.94-2.06-.94-.94-2.06-.94 2.06-2.06.94z\"/><path d=\"M17.41 7.96l-1.37-1.37c-.4-.4-.92-.59-1.43-.59-.52 0-1.04.2-1.43.59L10.3 9.45l-7.72 7.72c-.78.78-.78 2.05 0 2.83L4 21.41c.39.39.9.59 1.41.59.51 0 1.02-.2 1.41-.59l7.78-7.78 2.81-2.81c.8-.78.8-2.07 0-2.86zM5.41 20L4 18.59l7.72-7.72 1.47 1.35L5.41 20z\"/>\n",
              "  </svg>\n",
              "      </button>\n",
              "      \n",
              "  <style>\n",
              "    .colab-df-container {\n",
              "      display:flex;\n",
              "      flex-wrap:wrap;\n",
              "      gap: 12px;\n",
              "    }\n",
              "\n",
              "    .colab-df-convert {\n",
              "      background-color: #E8F0FE;\n",
              "      border: none;\n",
              "      border-radius: 50%;\n",
              "      cursor: pointer;\n",
              "      display: none;\n",
              "      fill: #1967D2;\n",
              "      height: 32px;\n",
              "      padding: 0 0 0 0;\n",
              "      width: 32px;\n",
              "    }\n",
              "\n",
              "    .colab-df-convert:hover {\n",
              "      background-color: #E2EBFA;\n",
              "      box-shadow: 0px 1px 2px rgba(60, 64, 67, 0.3), 0px 1px 3px 1px rgba(60, 64, 67, 0.15);\n",
              "      fill: #174EA6;\n",
              "    }\n",
              "\n",
              "    [theme=dark] .colab-df-convert {\n",
              "      background-color: #3B4455;\n",
              "      fill: #D2E3FC;\n",
              "    }\n",
              "\n",
              "    [theme=dark] .colab-df-convert:hover {\n",
              "      background-color: #434B5C;\n",
              "      box-shadow: 0px 1px 3px 1px rgba(0, 0, 0, 0.15);\n",
              "      filter: drop-shadow(0px 1px 2px rgba(0, 0, 0, 0.3));\n",
              "      fill: #FFFFFF;\n",
              "    }\n",
              "  </style>\n",
              "\n",
              "      <script>\n",
              "        const buttonEl =\n",
              "          document.querySelector('#df-1312096a-926e-4855-a5ef-ae5ea57bca63 button.colab-df-convert');\n",
              "        buttonEl.style.display =\n",
              "          google.colab.kernel.accessAllowed ? 'block' : 'none';\n",
              "\n",
              "        async function convertToInteractive(key) {\n",
              "          const element = document.querySelector('#df-1312096a-926e-4855-a5ef-ae5ea57bca63');\n",
              "          const dataTable =\n",
              "            await google.colab.kernel.invokeFunction('convertToInteractive',\n",
              "                                                     [key], {});\n",
              "          if (!dataTable) return;\n",
              "\n",
              "          const docLinkHtml = 'Like what you see? Visit the ' +\n",
              "            '<a target=\"_blank\" href=https://colab.research.google.com/notebooks/data_table.ipynb>data table notebook</a>'\n",
              "            + ' to learn more about interactive tables.';\n",
              "          element.innerHTML = '';\n",
              "          dataTable['output_type'] = 'display_data';\n",
              "          await google.colab.output.renderOutput(dataTable, element);\n",
              "          const docLink = document.createElement('div');\n",
              "          docLink.innerHTML = docLinkHtml;\n",
              "          element.appendChild(docLink);\n",
              "        }\n",
              "      </script>\n",
              "    </div>\n",
              "  </div>\n",
              "  "
            ]
          },
          "metadata": {},
          "execution_count": 3
        }
      ]
    },
    {
      "cell_type": "code",
      "source": [
        "#Create X & y values features and labels) \n",
        "X = insurance_one_hot.drop(\"charges\", axis = 1)\n",
        "y = insurance_one_hot[\"charges\"]\n",
        "\n"
      ],
      "metadata": {
        "id": "pI26ugeoN7jV"
      },
      "execution_count": null,
      "outputs": []
    },
    {
      "cell_type": "code",
      "source": [
        "#Create training and test sets (spllit arraysor matrixes into random train data )\n",
        "from sklearn.model_selection import train_test_split\n",
        "X_train, X_test, y_train, y_test = train_test_split (X,y, test_size = 0.2, random_state=42)\n",
        "len(X), len(X_train), len(X_test)\n",
        "X_train.shape"
      ],
      "metadata": {
        "colab": {
          "base_uri": "https://localhost:8080/"
        },
        "id": "rglTI3tma5la",
        "outputId": "9ff0667d-c736-48e2-beff-170219d76564"
      },
      "execution_count": null,
      "outputs": [
        {
          "output_type": "execute_result",
          "data": {
            "text/plain": [
              "(1070, 11)"
            ]
          },
          "metadata": {},
          "execution_count": 5
        }
      ]
    },
    {
      "cell_type": "code",
      "source": [
        "#Build a neural network (sort of like model_2 above)\n",
        "tf.random.set_seed(42)\n",
        "\n",
        "#1. Create a model \n",
        "insurance_model = tf.keras.Sequential([\n",
        "  tf.keras.layers.Dense(10, input_shape =(11,)),\n",
        "  tf.keras.layers.Dense(1)                                                                           \n",
        "])\n",
        "\n",
        "#2. Compile the model \n",
        "insurance_model.compile(loss=tf.keras.losses.mae,\n",
        "                        optimizer=tf.keras.optimizers.SGD(),\n",
        "                        metrics=[\"mae\"])\n",
        "#Fit the model\n",
        "insurance_model.fit(X_train, y_train, epochs=100)"
      ],
      "metadata": {
        "colab": {
          "base_uri": "https://localhost:8080/"
        },
        "id": "rM2CwNB57v8y",
        "outputId": "a4992c48-fbb6-4c10-9bd8-23a8061ecb9b"
      },
      "execution_count": null,
      "outputs": [
        {
          "output_type": "stream",
          "name": "stdout",
          "text": [
            "Epoch 1/100\n",
            "34/34 [==============================] - 1s 2ms/step - loss: 8637.1006 - mae: 8637.1006\n",
            "Epoch 2/100\n",
            "34/34 [==============================] - 0s 1ms/step - loss: 7886.7759 - mae: 7886.7759\n",
            "Epoch 3/100\n",
            "34/34 [==============================] - 0s 2ms/step - loss: 7558.1470 - mae: 7558.1470\n",
            "Epoch 4/100\n",
            "34/34 [==============================] - 0s 2ms/step - loss: 7792.0225 - mae: 7792.0225\n",
            "Epoch 5/100\n",
            "34/34 [==============================] - 0s 1ms/step - loss: 7748.3887 - mae: 7748.3887\n",
            "Epoch 6/100\n",
            "34/34 [==============================] - 0s 2ms/step - loss: 7595.3940 - mae: 7595.3940\n",
            "Epoch 7/100\n",
            "34/34 [==============================] - 0s 1ms/step - loss: 7589.9844 - mae: 7589.9844\n",
            "Epoch 8/100\n",
            "34/34 [==============================] - 0s 1ms/step - loss: 7698.5576 - mae: 7698.5576\n",
            "Epoch 9/100\n",
            "34/34 [==============================] - 0s 1ms/step - loss: 7496.7778 - mae: 7496.7778\n",
            "Epoch 10/100\n",
            "34/34 [==============================] - 0s 2ms/step - loss: 7493.1743 - mae: 7493.1743\n",
            "Epoch 11/100\n",
            "34/34 [==============================] - 0s 1ms/step - loss: 7769.7305 - mae: 7769.7305\n",
            "Epoch 12/100\n",
            "34/34 [==============================] - 0s 2ms/step - loss: 7706.9028 - mae: 7706.9028\n",
            "Epoch 13/100\n",
            "34/34 [==============================] - 0s 2ms/step - loss: 7687.7231 - mae: 7687.7231\n",
            "Epoch 14/100\n",
            "34/34 [==============================] - 0s 1ms/step - loss: 7689.9004 - mae: 7689.9004\n",
            "Epoch 15/100\n",
            "34/34 [==============================] - 0s 1ms/step - loss: 7393.5322 - mae: 7393.5322\n",
            "Epoch 16/100\n",
            "34/34 [==============================] - 0s 2ms/step - loss: 7780.6987 - mae: 7780.6987\n",
            "Epoch 17/100\n",
            "34/34 [==============================] - 0s 1ms/step - loss: 7578.5098 - mae: 7578.5098\n",
            "Epoch 18/100\n",
            "34/34 [==============================] - 0s 1ms/step - loss: 7750.8354 - mae: 7750.8354\n",
            "Epoch 19/100\n",
            "34/34 [==============================] - 0s 1ms/step - loss: 7739.2144 - mae: 7739.2144\n",
            "Epoch 20/100\n",
            "34/34 [==============================] - 0s 1ms/step - loss: 7875.0654 - mae: 7875.0654\n",
            "Epoch 21/100\n",
            "34/34 [==============================] - 0s 1ms/step - loss: 7466.6768 - mae: 7466.6768\n",
            "Epoch 22/100\n",
            "34/34 [==============================] - 0s 2ms/step - loss: 7941.2329 - mae: 7941.2329\n",
            "Epoch 23/100\n",
            "34/34 [==============================] - 0s 1ms/step - loss: 7640.2734 - mae: 7640.2734\n",
            "Epoch 24/100\n",
            "34/34 [==============================] - 0s 1ms/step - loss: 7539.2671 - mae: 7539.2671\n",
            "Epoch 25/100\n",
            "34/34 [==============================] - 0s 1ms/step - loss: 7619.9653 - mae: 7619.9653\n",
            "Epoch 26/100\n",
            "34/34 [==============================] - 0s 2ms/step - loss: 7644.1714 - mae: 7644.1714\n",
            "Epoch 27/100\n",
            "34/34 [==============================] - 0s 1ms/step - loss: 7709.0371 - mae: 7709.0371\n",
            "Epoch 28/100\n",
            "34/34 [==============================] - 0s 1ms/step - loss: 7366.8662 - mae: 7366.8662\n",
            "Epoch 29/100\n",
            "34/34 [==============================] - 0s 1ms/step - loss: 7444.3154 - mae: 7444.3154\n",
            "Epoch 30/100\n",
            "34/34 [==============================] - 0s 1ms/step - loss: 7616.4082 - mae: 7616.4082\n",
            "Epoch 31/100\n",
            "34/34 [==============================] - 0s 1ms/step - loss: 7686.3848 - mae: 7686.3848\n",
            "Epoch 32/100\n",
            "34/34 [==============================] - 0s 1ms/step - loss: 7548.0977 - mae: 7548.0977\n",
            "Epoch 33/100\n",
            "34/34 [==============================] - 0s 1ms/step - loss: 7501.5532 - mae: 7501.5532\n",
            "Epoch 34/100\n",
            "34/34 [==============================] - 0s 2ms/step - loss: 7363.4160 - mae: 7363.4160\n",
            "Epoch 35/100\n",
            "34/34 [==============================] - 0s 2ms/step - loss: 7295.4478 - mae: 7295.4478\n",
            "Epoch 36/100\n",
            "34/34 [==============================] - 0s 1ms/step - loss: 7569.8804 - mae: 7569.8804\n",
            "Epoch 37/100\n",
            "34/34 [==============================] - 0s 2ms/step - loss: 7548.1997 - mae: 7548.1997\n",
            "Epoch 38/100\n",
            "34/34 [==============================] - 0s 2ms/step - loss: 7424.3975 - mae: 7424.3975\n",
            "Epoch 39/100\n",
            "34/34 [==============================] - 0s 2ms/step - loss: 7529.7739 - mae: 7529.7739\n",
            "Epoch 40/100\n",
            "34/34 [==============================] - 0s 2ms/step - loss: 7467.3232 - mae: 7467.3232\n",
            "Epoch 41/100\n",
            "34/34 [==============================] - 0s 2ms/step - loss: 7635.9292 - mae: 7635.9292\n",
            "Epoch 42/100\n",
            "34/34 [==============================] - 0s 2ms/step - loss: 7536.8398 - mae: 7536.8398\n",
            "Epoch 43/100\n",
            "34/34 [==============================] - 0s 1ms/step - loss: 7616.5859 - mae: 7616.5859\n",
            "Epoch 44/100\n",
            "34/34 [==============================] - 0s 1ms/step - loss: 7439.4941 - mae: 7439.4941\n",
            "Epoch 45/100\n",
            "34/34 [==============================] - 0s 1ms/step - loss: 7538.0142 - mae: 7538.0142\n",
            "Epoch 46/100\n",
            "34/34 [==============================] - 0s 2ms/step - loss: 7415.1470 - mae: 7415.1470\n",
            "Epoch 47/100\n",
            "34/34 [==============================] - 0s 1ms/step - loss: 7420.6938 - mae: 7420.6938\n",
            "Epoch 48/100\n",
            "34/34 [==============================] - 0s 1ms/step - loss: 7509.9839 - mae: 7509.9839\n",
            "Epoch 49/100\n",
            "34/34 [==============================] - 0s 2ms/step - loss: 7541.1133 - mae: 7541.1133\n",
            "Epoch 50/100\n",
            "34/34 [==============================] - 0s 1ms/step - loss: 7467.8643 - mae: 7467.8643\n",
            "Epoch 51/100\n",
            "34/34 [==============================] - 0s 1ms/step - loss: 7389.3560 - mae: 7389.3560\n",
            "Epoch 52/100\n",
            "34/34 [==============================] - 0s 2ms/step - loss: 7499.7759 - mae: 7499.7759\n",
            "Epoch 53/100\n",
            "34/34 [==============================] - 0s 2ms/step - loss: 7523.9282 - mae: 7523.9282\n",
            "Epoch 54/100\n",
            "34/34 [==============================] - 0s 2ms/step - loss: 7243.3115 - mae: 7243.3115\n",
            "Epoch 55/100\n",
            "34/34 [==============================] - 0s 2ms/step - loss: 7429.5864 - mae: 7429.5864\n",
            "Epoch 56/100\n",
            "34/34 [==============================] - 0s 1ms/step - loss: 7313.3999 - mae: 7313.3999\n",
            "Epoch 57/100\n",
            "34/34 [==============================] - 0s 1ms/step - loss: 7526.3877 - mae: 7526.3877\n",
            "Epoch 58/100\n",
            "34/34 [==============================] - 0s 1ms/step - loss: 7542.2666 - mae: 7542.2666\n",
            "Epoch 59/100\n",
            "34/34 [==============================] - 0s 2ms/step - loss: 7576.9277 - mae: 7576.9277\n",
            "Epoch 60/100\n",
            "34/34 [==============================] - 0s 2ms/step - loss: 7546.4058 - mae: 7546.4058\n",
            "Epoch 61/100\n",
            "34/34 [==============================] - 0s 1ms/step - loss: 7351.2271 - mae: 7351.2271\n",
            "Epoch 62/100\n",
            "34/34 [==============================] - 0s 1ms/step - loss: 7302.1436 - mae: 7302.1436\n",
            "Epoch 63/100\n",
            "34/34 [==============================] - 0s 1ms/step - loss: 7393.0874 - mae: 7393.0874\n",
            "Epoch 64/100\n",
            "34/34 [==============================] - 0s 2ms/step - loss: 7442.2881 - mae: 7442.2881\n",
            "Epoch 65/100\n",
            "34/34 [==============================] - 0s 2ms/step - loss: 7492.6782 - mae: 7492.6782\n",
            "Epoch 66/100\n",
            "34/34 [==============================] - 0s 1ms/step - loss: 7561.9165 - mae: 7561.9165\n",
            "Epoch 67/100\n",
            "34/34 [==============================] - 0s 2ms/step - loss: 7340.5137 - mae: 7340.5137\n",
            "Epoch 68/100\n",
            "34/34 [==============================] - 0s 1ms/step - loss: 7496.0840 - mae: 7496.0840\n",
            "Epoch 69/100\n",
            "34/34 [==============================] - 0s 2ms/step - loss: 7617.0303 - mae: 7617.0303\n",
            "Epoch 70/100\n",
            "34/34 [==============================] - 0s 2ms/step - loss: 7641.1948 - mae: 7641.1948\n",
            "Epoch 71/100\n",
            "34/34 [==============================] - 0s 1ms/step - loss: 7084.2744 - mae: 7084.2744\n",
            "Epoch 72/100\n",
            "34/34 [==============================] - 0s 1ms/step - loss: 7240.4902 - mae: 7240.4902\n",
            "Epoch 73/100\n",
            "34/34 [==============================] - 0s 1ms/step - loss: 7283.4888 - mae: 7283.4888\n",
            "Epoch 74/100\n",
            "34/34 [==============================] - 0s 1ms/step - loss: 7335.5088 - mae: 7335.5088\n",
            "Epoch 75/100\n",
            "34/34 [==============================] - 0s 1ms/step - loss: 7275.6396 - mae: 7275.6396\n",
            "Epoch 76/100\n",
            "34/34 [==============================] - 0s 1ms/step - loss: 7313.1860 - mae: 7313.1860\n",
            "Epoch 77/100\n",
            "34/34 [==============================] - 0s 2ms/step - loss: 7485.7588 - mae: 7485.7588\n",
            "Epoch 78/100\n",
            "34/34 [==============================] - 0s 1ms/step - loss: 7352.2803 - mae: 7352.2803\n",
            "Epoch 79/100\n",
            "34/34 [==============================] - 0s 1ms/step - loss: 7520.5703 - mae: 7520.5703\n",
            "Epoch 80/100\n",
            "34/34 [==============================] - 0s 1ms/step - loss: 7279.3779 - mae: 7279.3779\n",
            "Epoch 81/100\n",
            "34/34 [==============================] - 0s 2ms/step - loss: 7273.8477 - mae: 7273.8477\n",
            "Epoch 82/100\n",
            "34/34 [==============================] - 0s 2ms/step - loss: 7176.5215 - mae: 7176.5215\n",
            "Epoch 83/100\n",
            "34/34 [==============================] - 0s 2ms/step - loss: 7425.6289 - mae: 7425.6289\n",
            "Epoch 84/100\n",
            "34/34 [==============================] - 0s 1ms/step - loss: 7403.1294 - mae: 7403.1294\n",
            "Epoch 85/100\n",
            "34/34 [==============================] - 0s 2ms/step - loss: 7356.0088 - mae: 7356.0088\n",
            "Epoch 86/100\n",
            "34/34 [==============================] - 0s 2ms/step - loss: 7484.7266 - mae: 7484.7266\n",
            "Epoch 87/100\n",
            "34/34 [==============================] - 0s 2ms/step - loss: 7217.6074 - mae: 7217.6074\n",
            "Epoch 88/100\n",
            "34/34 [==============================] - 0s 1ms/step - loss: 7261.0000 - mae: 7261.0000\n",
            "Epoch 89/100\n",
            "34/34 [==============================] - 0s 1ms/step - loss: 7134.1562 - mae: 7134.1562\n",
            "Epoch 90/100\n",
            "34/34 [==============================] - 0s 1ms/step - loss: 7083.4355 - mae: 7083.4355\n",
            "Epoch 91/100\n",
            "34/34 [==============================] - 0s 2ms/step - loss: 7254.1782 - mae: 7254.1782\n",
            "Epoch 92/100\n",
            "34/34 [==============================] - 0s 1ms/step - loss: 7268.7461 - mae: 7268.7461\n",
            "Epoch 93/100\n",
            "34/34 [==============================] - 0s 1ms/step - loss: 7470.5215 - mae: 7470.5215\n",
            "Epoch 94/100\n",
            "34/34 [==============================] - 0s 2ms/step - loss: 7210.9536 - mae: 7210.9536\n",
            "Epoch 95/100\n",
            "34/34 [==============================] - 0s 1ms/step - loss: 7395.6816 - mae: 7395.6816\n",
            "Epoch 96/100\n",
            "34/34 [==============================] - 0s 1ms/step - loss: 7328.0884 - mae: 7328.0884\n",
            "Epoch 97/100\n",
            "34/34 [==============================] - 0s 2ms/step - loss: 7230.4380 - mae: 7230.4380\n",
            "Epoch 98/100\n",
            "34/34 [==============================] - 0s 1ms/step - loss: 7261.3936 - mae: 7261.3936\n",
            "Epoch 99/100\n",
            "34/34 [==============================] - 0s 1ms/step - loss: 7342.5684 - mae: 7342.5684\n",
            "Epoch 100/100\n",
            "34/34 [==============================] - 0s 1ms/step - loss: 7106.1714 - mae: 7106.1714\n"
          ]
        },
        {
          "output_type": "execute_result",
          "data": {
            "text/plain": [
              "<keras.callbacks.History at 0x7f11b9b1e710>"
            ]
          },
          "metadata": {},
          "execution_count": 6
        }
      ]
    },
    {
      "cell_type": "code",
      "source": [
        "#Check the results of the insurance on the test data \n",
        "insurance_model.evaluate(X_test, y_test)"
      ],
      "metadata": {
        "colab": {
          "base_uri": "https://localhost:8080/"
        },
        "id": "evx7hGi69dpL",
        "outputId": "ebd50ffd-9dfc-42ad-944c-9d570ac3fd9a"
      },
      "execution_count": null,
      "outputs": [
        {
          "output_type": "stream",
          "name": "stdout",
          "text": [
            "9/9 [==============================] - 0s 2ms/step - loss: 7023.3291 - mae: 7023.3291\n"
          ]
        },
        {
          "output_type": "execute_result",
          "data": {
            "text/plain": [
              "[7023.3291015625, 7023.3291015625]"
            ]
          },
          "metadata": {},
          "execution_count": 7
        }
      ]
    },
    {
      "cell_type": "code",
      "source": [
        "y_train.median(), y_train.mean()"
      ],
      "metadata": {
        "colab": {
          "base_uri": "https://localhost:8080/"
        },
        "id": "31cgzh8M92aO",
        "outputId": "be4866a6-8298-49ee-c04e-0e8968f2ffe1"
      },
      "execution_count": null,
      "outputs": [
        {
          "output_type": "execute_result",
          "data": {
            "text/plain": [
              "(9575.4421, 13346.089736364489)"
            ]
          },
          "metadata": {},
          "execution_count": 8
        }
      ]
    },
    {
      "cell_type": "markdown",
      "source": [
        "Improve the model, we'll run two experiments:\n",
        "1. Add extra layer with more hidden units \n",
        "2. Train for longer \n",
        "3. Change the learning rate "
      ],
      "metadata": {
        "id": "RHKOSJW29_FL"
      }
    },
    {
      "cell_type": "code",
      "source": [
        "#Set random seed \n",
        "tf.random.set_seed(42)\n",
        "\n",
        "#1. Create the model \n",
        "insurance_model_2 = tf.keras.Sequential([\n",
        "  #tf.keras.layers.Dense(20),\n",
        "  tf.keras.layers.Dense(2),\n",
        "  tf.keras.layers.Dense(1)\n",
        "])\n",
        "\n",
        "#2. Compile the model \n",
        "insurance_model_2.compile(loss = tf.keras.losses.mae,\n",
        "                          optimizer = tf.keras.optimizers.Adam(learning_rate= 0.5),\n",
        "                          metrics=[\"mae\"])\n",
        "#3. Fit the model \n",
        "history = insurance_model_2.fit(X_train, y_train, epochs=200, verbose=1)"
      ],
      "metadata": {
        "colab": {
          "base_uri": "https://localhost:8080/",
          "height": 363
        },
        "id": "sPnpdxxIeZ-9",
        "outputId": "72a2ac17-553c-4104-a476-cb351958344f"
      },
      "execution_count": null,
      "outputs": [
        {
          "output_type": "error",
          "ename": "ValueError",
          "evalue": "ignored",
          "traceback": [
            "\u001b[0;31m---------------------------------------------------------------------------\u001b[0m",
            "\u001b[0;31mValueError\u001b[0m                                Traceback (most recent call last)",
            "\u001b[0;32m<ipython-input-71-b43a16ea04c0>\u001b[0m in \u001b[0;36m<module>\u001b[0;34m()\u001b[0m\n\u001b[1;32m     14\u001b[0m                           metrics=[\"mae\"])\n\u001b[1;32m     15\u001b[0m \u001b[0;31m#3. Fit the model\u001b[0m\u001b[0;34m\u001b[0m\u001b[0;34m\u001b[0m\u001b[0;34m\u001b[0m\u001b[0m\n\u001b[0;32m---> 16\u001b[0;31m \u001b[0mhistory\u001b[0m \u001b[0;34m=\u001b[0m \u001b[0minsurance_model_2\u001b[0m\u001b[0;34m.\u001b[0m\u001b[0mfit\u001b[0m\u001b[0;34m(\u001b[0m\u001b[0mX_train\u001b[0m\u001b[0;34m,\u001b[0m \u001b[0my_train\u001b[0m\u001b[0;34m,\u001b[0m \u001b[0mepochs\u001b[0m\u001b[0;34m=\u001b[0m\u001b[0;36m200\u001b[0m\u001b[0;34m,\u001b[0m \u001b[0mverbose\u001b[0m\u001b[0;34m=\u001b[0m\u001b[0;36m1\u001b[0m\u001b[0;34m)\u001b[0m\u001b[0;34m\u001b[0m\u001b[0;34m\u001b[0m\u001b[0m\n\u001b[0m",
            "\u001b[0;32m/usr/local/lib/python3.7/dist-packages/keras/utils/traceback_utils.py\u001b[0m in \u001b[0;36merror_handler\u001b[0;34m(*args, **kwargs)\u001b[0m\n\u001b[1;32m     65\u001b[0m     \u001b[0;32mexcept\u001b[0m \u001b[0mException\u001b[0m \u001b[0;32mas\u001b[0m \u001b[0me\u001b[0m\u001b[0;34m:\u001b[0m  \u001b[0;31m# pylint: disable=broad-except\u001b[0m\u001b[0;34m\u001b[0m\u001b[0;34m\u001b[0m\u001b[0m\n\u001b[1;32m     66\u001b[0m       \u001b[0mfiltered_tb\u001b[0m \u001b[0;34m=\u001b[0m \u001b[0m_process_traceback_frames\u001b[0m\u001b[0;34m(\u001b[0m\u001b[0me\u001b[0m\u001b[0;34m.\u001b[0m\u001b[0m__traceback__\u001b[0m\u001b[0;34m)\u001b[0m\u001b[0;34m\u001b[0m\u001b[0;34m\u001b[0m\u001b[0m\n\u001b[0;32m---> 67\u001b[0;31m       \u001b[0;32mraise\u001b[0m \u001b[0me\u001b[0m\u001b[0;34m.\u001b[0m\u001b[0mwith_traceback\u001b[0m\u001b[0;34m(\u001b[0m\u001b[0mfiltered_tb\u001b[0m\u001b[0;34m)\u001b[0m \u001b[0;32mfrom\u001b[0m \u001b[0;32mNone\u001b[0m\u001b[0;34m\u001b[0m\u001b[0;34m\u001b[0m\u001b[0m\n\u001b[0m\u001b[1;32m     68\u001b[0m     \u001b[0;32mfinally\u001b[0m\u001b[0;34m:\u001b[0m\u001b[0;34m\u001b[0m\u001b[0;34m\u001b[0m\u001b[0m\n\u001b[1;32m     69\u001b[0m       \u001b[0;32mdel\u001b[0m \u001b[0mfiltered_tb\u001b[0m\u001b[0;34m\u001b[0m\u001b[0;34m\u001b[0m\u001b[0m\n",
            "\u001b[0;32m/usr/local/lib/python3.7/dist-packages/tensorflow/python/framework/constant_op.py\u001b[0m in \u001b[0;36mconvert_to_eager_tensor\u001b[0;34m(value, ctx, dtype)\u001b[0m\n\u001b[1;32m    100\u001b[0m       \u001b[0mdtype\u001b[0m \u001b[0;34m=\u001b[0m \u001b[0mdtypes\u001b[0m\u001b[0;34m.\u001b[0m\u001b[0mas_dtype\u001b[0m\u001b[0;34m(\u001b[0m\u001b[0mdtype\u001b[0m\u001b[0;34m)\u001b[0m\u001b[0;34m.\u001b[0m\u001b[0mas_datatype_enum\u001b[0m\u001b[0;34m\u001b[0m\u001b[0;34m\u001b[0m\u001b[0m\n\u001b[1;32m    101\u001b[0m   \u001b[0mctx\u001b[0m\u001b[0;34m.\u001b[0m\u001b[0mensure_initialized\u001b[0m\u001b[0;34m(\u001b[0m\u001b[0;34m)\u001b[0m\u001b[0;34m\u001b[0m\u001b[0;34m\u001b[0m\u001b[0m\n\u001b[0;32m--> 102\u001b[0;31m   \u001b[0;32mreturn\u001b[0m \u001b[0mops\u001b[0m\u001b[0;34m.\u001b[0m\u001b[0mEagerTensor\u001b[0m\u001b[0;34m(\u001b[0m\u001b[0mvalue\u001b[0m\u001b[0;34m,\u001b[0m \u001b[0mctx\u001b[0m\u001b[0;34m.\u001b[0m\u001b[0mdevice_name\u001b[0m\u001b[0;34m,\u001b[0m \u001b[0mdtype\u001b[0m\u001b[0;34m)\u001b[0m\u001b[0;34m\u001b[0m\u001b[0;34m\u001b[0m\u001b[0m\n\u001b[0m\u001b[1;32m    103\u001b[0m \u001b[0;34m\u001b[0m\u001b[0m\n\u001b[1;32m    104\u001b[0m \u001b[0;34m\u001b[0m\u001b[0m\n",
            "\u001b[0;31mValueError\u001b[0m: Failed to convert a NumPy array to a Tensor (Unsupported object type int)."
          ]
        }
      ]
    },
    {
      "cell_type": "code",
      "source": [
        "#Evaluate the model \n",
        "insurance_model_2.evaluate(X_test, y_test)"
      ],
      "metadata": {
        "colab": {
          "base_uri": "https://localhost:8080/"
        },
        "id": "oBTRBFBPfd2O",
        "outputId": "47e2be08-4018-477f-eebb-b31958c0a83d"
      },
      "execution_count": null,
      "outputs": [
        {
          "output_type": "stream",
          "name": "stdout",
          "text": [
            "9/9 [==============================] - 0s 2ms/step - loss: 3278.8901 - mae: 3278.8901\n"
          ]
        },
        {
          "output_type": "execute_result",
          "data": {
            "text/plain": [
              "[3278.89013671875, 3278.89013671875]"
            ]
          },
          "metadata": {},
          "execution_count": 23
        }
      ]
    },
    {
      "cell_type": "code",
      "source": [
        "#Plot history (also known as a loss curve or a training curve)\n",
        "pd.DataFrame(history.history).plot()\n",
        "plt.ylabel(\"loss\")\n",
        "plt.xlabel(\"epochs\")"
      ],
      "metadata": {
        "colab": {
          "base_uri": "https://localhost:8080/",
          "height": 296
        },
        "id": "Jbrs6dt5gURL",
        "outputId": "f16127da-035c-419f-df7f-141240209ff6"
      },
      "execution_count": null,
      "outputs": [
        {
          "output_type": "execute_result",
          "data": {
            "text/plain": [
              "Text(0.5, 0, 'epochs')"
            ]
          },
          "metadata": {},
          "execution_count": 26
        },
        {
          "output_type": "display_data",
          "data": {
            "text/plain": [
              "<Figure size 432x288 with 1 Axes>"
            ],
            "image/png": "[encoded data removed]"
          },
          "metadata": {
            "needs_background": "light"
          }
        }
      ]
    },
    {
      "cell_type": "markdown",
      "source": [
        "To know how much time we need to train a model we can check the tool of tesnor flow called Earlystopping Callback, which is a TensorFlow component you can add to your model to stop improving a certain metric. \n",
        "\n",
        "\n"
      ],
      "metadata": {
        "id": "oCJ0z5bekOoO"
      }
    },
    {
      "cell_type": "markdown",
      "source": [
        "### Preprocessing data (normalization and standarization) \n",
        "In terms or scaling, neural networks tend to prefer normalization. \n",
        "If you're not user in which to use you can try both and look which performs better. \n"
      ],
      "metadata": {
        "id": "SbV4EWv5inDI"
      }
    },
    {
      "cell_type": "code",
      "source": [
        "import pandas as pd \n",
        "import matplotlib.pyplot as plt \n",
        "import numpy as np \n",
        "import tensorflow as tf \n",
        "\n",
        "#Read in the insurance csv  dataset \n",
        "insurance = pd.read_csv(\"https://raw.githubusercontent.com/stedy/Machine-Learning-with-R-datasets/master/insurance.csv\")\n",
        "insurance "
      ],
      "metadata": {
        "colab": {
          "base_uri": "https://localhost:8080/",
          "height": 424
        },
        "id": "4Pz86sIK1_mT",
        "outputId": "e99c5bc7-0b0e-4671-aa8e-a6fcad85d60e"
      },
      "execution_count": null,
      "outputs": [
        {
          "output_type": "execute_result",
          "data": {
            "text/plain": [
              "      age     sex     bmi  children smoker     region      charges\n",
              "0      19  female  27.900         0    yes  southwest  16884.92400\n",
              "1      18    male  33.770         1     no  southeast   1725.55230\n",
              "2      28    male  33.000         3     no  southeast   4449.46200\n",
              "3      33    male  22.705         0     no  northwest  21984.47061\n",
              "4      32    male  28.880         0     no  northwest   3866.85520\n",
              "...   ...     ...     ...       ...    ...        ...          ...\n",
              "1333   50    male  30.970         3     no  northwest  10600.54830\n",
              "1334   18  female  31.920         0     no  northeast   2205.98080\n",
              "1335   18  female  36.850         0     no  southeast   1629.83350\n",
              "1336   21  female  25.800         0     no  southwest   2007.94500\n",
              "1337   61  female  29.070         0    yes  northwest  29141.36030\n",
              "\n",
              "[1338 rows x 7 columns]"
            ],
            "text/html": [
              "\n",
              "  <div id=\"df-daefae98-cd70-4360-b688-1ec2fbc97b75\">\n",
              "    <div class=\"colab-df-container\">\n",
              "      <div>\n",
              "<style scoped>\n",
              "    .dataframe tbody tr th:only-of-type {\n",
              "        vertical-align: middle;\n",
              "    }\n",
              "\n",
              "    .dataframe tbody tr th {\n",
              "        vertical-align: top;\n",
              "    }\n",
              "\n",
              "    .dataframe thead th {\n",
              "        text-align: right;\n",
              "    }\n",
              "</style>\n",
              "<table border=\"1\" class=\"dataframe\">\n",
              "  <thead>\n",
              "    <tr style=\"text-align: right;\">\n",
              "      <th></th>\n",
              "      <th>age</th>\n",
              "      <th>sex</th>\n",
              "      <th>bmi</th>\n",
              "      <th>children</th>\n",
              "      <th>smoker</th>\n",
              "      <th>region</th>\n",
              "      <th>charges</th>\n",
              "    </tr>\n",
              "  </thead>\n",
              "  <tbody>\n",
              "    <tr>\n",
              "      <th>0</th>\n",
              "      <td>19</td>\n",
              "      <td>female</td>\n",
              "      <td>27.900</td>\n",
              "      <td>0</td>\n",
              "      <td>yes</td>\n",
              "      <td>southwest</td>\n",
              "      <td>16884.92400</td>\n",
              "    </tr>\n",
              "    <tr>\n",
              "      <th>1</th>\n",
              "      <td>18</td>\n",
              "      <td>male</td>\n",
              "      <td>33.770</td>\n",
              "      <td>1</td>\n",
              "      <td>no</td>\n",
              "      <td>southeast</td>\n",
              "      <td>1725.55230</td>\n",
              "    </tr>\n",
              "    <tr>\n",
              "      <th>2</th>\n",
              "      <td>28</td>\n",
              "      <td>male</td>\n",
              "      <td>33.000</td>\n",
              "      <td>3</td>\n",
              "      <td>no</td>\n",
              "      <td>southeast</td>\n",
              "      <td>4449.46200</td>\n",
              "    </tr>\n",
              "    <tr>\n",
              "      <th>3</th>\n",
              "      <td>33</td>\n",
              "      <td>male</td>\n",
              "      <td>22.705</td>\n",
              "      <td>0</td>\n",
              "      <td>no</td>\n",
              "      <td>northwest</td>\n",
              "      <td>21984.47061</td>\n",
              "    </tr>\n",
              "    <tr>\n",
              "      <th>4</th>\n",
              "      <td>32</td>\n",
              "      <td>male</td>\n",
              "      <td>28.880</td>\n",
              "      <td>0</td>\n",
              "      <td>no</td>\n",
              "      <td>northwest</td>\n",
              "      <td>3866.85520</td>\n",
              "    </tr>\n",
              "    <tr>\n",
              "      <th>...</th>\n",
              "      <td>...</td>\n",
              "      <td>...</td>\n",
              "      <td>...</td>\n",
              "      <td>...</td>\n",
              "      <td>...</td>\n",
              "      <td>...</td>\n",
              "      <td>...</td>\n",
              "    </tr>\n",
              "    <tr>\n",
              "      <th>1333</th>\n",
              "      <td>50</td>\n",
              "      <td>male</td>\n",
              "      <td>30.970</td>\n",
              "      <td>3</td>\n",
              "      <td>no</td>\n",
              "      <td>northwest</td>\n",
              "      <td>10600.54830</td>\n",
              "    </tr>\n",
              "    <tr>\n",
              "      <th>1334</th>\n",
              "      <td>18</td>\n",
              "      <td>female</td>\n",
              "      <td>31.920</td>\n",
              "      <td>0</td>\n",
              "      <td>no</td>\n",
              "      <td>northeast</td>\n",
              "      <td>2205.98080</td>\n",
              "    </tr>\n",
              "    <tr>\n",
              "      <th>1335</th>\n",
              "      <td>18</td>\n",
              "      <td>female</td>\n",
              "      <td>36.850</td>\n",
              "      <td>0</td>\n",
              "      <td>no</td>\n",
              "      <td>southeast</td>\n",
              "      <td>1629.83350</td>\n",
              "    </tr>\n",
              "    <tr>\n",
              "      <th>1336</th>\n",
              "      <td>21</td>\n",
              "      <td>female</td>\n",
              "      <td>25.800</td>\n",
              "      <td>0</td>\n",
              "      <td>no</td>\n",
              "      <td>southwest</td>\n",
              "      <td>2007.94500</td>\n",
              "    </tr>\n",
              "    <tr>\n",
              "      <th>1337</th>\n",
              "      <td>61</td>\n",
              "      <td>female</td>\n",
              "      <td>29.070</td>\n",
              "      <td>0</td>\n",
              "      <td>yes</td>\n",
              "      <td>northwest</td>\n",
              "      <td>29141.36030</td>\n",
              "    </tr>\n",
              "  </tbody>\n",
              "</table>\n",
              "<p>1338 rows × 7 columns</p>\n",
              "</div>\n",
              "      <button class=\"colab-df-convert\" onclick=\"convertToInteractive('df-daefae98-cd70-4360-b688-1ec2fbc97b75')\"\n",
              "              title=\"Convert this dataframe to an interactive table.\"\n",
              "              style=\"display:none;\">\n",
              "        \n",
              "  <svg xmlns=\"http://www.w3.org/2000/svg\" height=\"24px\"viewBox=\"0 0 24 24\"\n",
              "       width=\"24px\">\n",
              "    <path d=\"M0 0h24v24H0V0z\" fill=\"none\"/>\n",
              "    <path d=\"M18.56 5.44l.94 2.06.94-2.06 2.06-.94-2.06-.94-.94-2.06-.94 2.06-2.06.94zm-11 1L8.5 8.5l.94-2.06 2.06-.94-2.06-.94L8.5 2.5l-.94 2.06-2.06.94zm10 10l.94 2.06.94-2.06 2.06-.94-2.06-.94-.94-2.06-.94 2.06-2.06.94z\"/><path d=\"M17.41 7.96l-1.37-1.37c-.4-.4-.92-.59-1.43-.59-.52 0-1.04.2-1.43.59L10.3 9.45l-7.72 7.72c-.78.78-.78 2.05 0 2.83L4 21.41c.39.39.9.59 1.41.59.51 0 1.02-.2 1.41-.59l7.78-7.78 2.81-2.81c.8-.78.8-2.07 0-2.86zM5.41 20L4 18.59l7.72-7.72 1.47 1.35L5.41 20z\"/>\n",
              "  </svg>\n",
              "      </button>\n",
              "      \n",
              "  <style>\n",
              "    .colab-df-container {\n",
              "      display:flex;\n",
              "      flex-wrap:wrap;\n",
              "      gap: 12px;\n",
              "    }\n",
              "\n",
              "    .colab-df-convert {\n",
              "      background-color: #E8F0FE;\n",
              "      border: none;\n",
              "      border-radius: 50%;\n",
              "      cursor: pointer;\n",
              "      display: none;\n",
              "      fill: #1967D2;\n",
              "      height: 32px;\n",
              "      padding: 0 0 0 0;\n",
              "      width: 32px;\n",
              "    }\n",
              "\n",
              "    .colab-df-convert:hover {\n",
              "      background-color: #E2EBFA;\n",
              "      box-shadow: 0px 1px 2px rgba(60, 64, 67, 0.3), 0px 1px 3px 1px rgba(60, 64, 67, 0.15);\n",
              "      fill: #174EA6;\n",
              "    }\n",
              "\n",
              "    [theme=dark] .colab-df-convert {\n",
              "      background-color: #3B4455;\n",
              "      fill: #D2E3FC;\n",
              "    }\n",
              "\n",
              "    [theme=dark] .colab-df-convert:hover {\n",
              "      background-color: #434B5C;\n",
              "      box-shadow: 0px 1px 3px 1px rgba(0, 0, 0, 0.15);\n",
              "      filter: drop-shadow(0px 1px 2px rgba(0, 0, 0, 0.3));\n",
              "      fill: #FFFFFF;\n",
              "    }\n",
              "  </style>\n",
              "\n",
              "      <script>\n",
              "        const buttonEl =\n",
              "          document.querySelector('#df-daefae98-cd70-4360-b688-1ec2fbc97b75 button.colab-df-convert');\n",
              "        buttonEl.style.display =\n",
              "          google.colab.kernel.accessAllowed ? 'block' : 'none';\n",
              "\n",
              "        async function convertToInteractive(key) {\n",
              "          const element = document.querySelector('#df-daefae98-cd70-4360-b688-1ec2fbc97b75');\n",
              "          const dataTable =\n",
              "            await google.colab.kernel.invokeFunction('convertToInteractive',\n",
              "                                                     [key], {});\n",
              "          if (!dataTable) return;\n",
              "\n",
              "          const docLinkHtml = 'Like what you see? Visit the ' +\n",
              "            '<a target=\"_blank\" href=https://colab.research.google.com/notebooks/data_table.ipynb>data table notebook</a>'\n",
              "            + ' to learn more about interactive tables.';\n",
              "          element.innerHTML = '';\n",
              "          dataTable['output_type'] = 'display_data';\n",
              "          await google.colab.output.renderOutput(dataTable, element);\n",
              "          const docLink = document.createElement('div');\n",
              "          docLink.innerHTML = docLinkHtml;\n",
              "          element.appendChild(docLink);\n",
              "        }\n",
              "      </script>\n",
              "    </div>\n",
              "  </div>\n",
              "  "
            ]
          },
          "metadata": {},
          "execution_count": 1
        }
      ]
    },
    {
      "cell_type": "markdown",
      "source": [
        "To prepare our data, we can borrow a few classes from Scikit-Learn"
      ],
      "metadata": {
        "id": "VZTu8Y9-urO7"
      }
    },
    {
      "cell_type": "code",
      "source": [
        "from sklearn.compose import make_column_transformer\n",
        "from sklearn.preprocessing import MinMaxScaler, OneHotEncoder\n",
        "from sklearn.model_selection import train_test_split\n",
        "\n",
        "#We can use MinMaxScaler or StandardScaler\n",
        "\n",
        "#Create a column transformer \n",
        "ct= make_column_transformer(\n",
        "    (MinMaxScaler(), [\"age\", \"bmi\", \"children\"]), #turn all values in these columns between 0 and 1\n",
        "    (OneHotEncoder(handle_unknown=\"ignore\"), [\"sex\",\"smoker\",\"region\"])\n",
        ")\n",
        "\n",
        "#Create X and y values \n",
        "X = insurance.drop(\"charges\", axis=1)\n",
        "y = insurance[\"charges\"]\n",
        "\n",
        "#Build our train and test sets \n",
        "X_train, X_test, y_train, y_test = train_test_split(X, y, test_size=0.2, random_state=42)\n",
        "\n",
        "#Fit the column transformer to our training data \n",
        "ct.fit(X_train)\n",
        "\n",
        "#Transform training and test data with normalization (MinMaxScaler) and OneHotEncoder\n",
        "X_train_normal = ct.transform(X_train)\n",
        "X_test_normal= ct.transform(X_test)"
      ],
      "metadata": {
        "id": "dPsCwlgW2x_Q"
      },
      "execution_count": null,
      "outputs": []
    },
    {
      "cell_type": "code",
      "source": [
        "#Original X data \n",
        "X_train.loc[0]"
      ],
      "metadata": {
        "colab": {
          "base_uri": "https://localhost:8080/"
        },
        "id": "2y00pp0K5iAB",
        "outputId": "45c7ceaa-0672-473b-9fc4-fb3ab94bfc06"
      },
      "execution_count": null,
      "outputs": [
        {
          "output_type": "execute_result",
          "data": {
            "text/plain": [
              "age                19\n",
              "sex            female\n",
              "bmi              27.9\n",
              "children            0\n",
              "smoker            yes\n",
              "region      southwest\n",
              "Name: 0, dtype: object"
            ]
          },
          "metadata": {},
          "execution_count": 62
        }
      ]
    },
    {
      "cell_type": "code",
      "source": [
        "#Modified data\n",
        "X_train.shape,X_train_normal.shape"
      ],
      "metadata": {
        "colab": {
          "base_uri": "https://localhost:8080/"
        },
        "id": "TbYmo9385wtO",
        "outputId": "eed07fbd-f3ed-4643-fa52-7c700f93e1cd"
      },
      "execution_count": null,
      "outputs": [
        {
          "output_type": "execute_result",
          "data": {
            "text/plain": [
              "((1070, 6), (1070, 11))"
            ]
          },
          "metadata": {},
          "execution_count": 70
        }
      ]
    },
    {
      "cell_type": "code",
      "source": [
        "#Build a neural network model to fit on nour normalized data \n",
        "\n",
        "#1. Create the model \n",
        "insurance_model_4 = tf.keras.Sequential([\n",
        "                                         tf.keras.layers.Dense(100),\n",
        "                                         tf.keras.layers.Dense(10),\n",
        "                                         tf.keras.layers.Dense(1)\n",
        "])\n",
        "\n",
        "#2. Compile the model \n",
        "insurance_model_4.compile(loss=tf.keras.losses.mae,\n",
        "                          optimizer=tf.keras.optimizers.Adam(),\n",
        "                          metrics=[\"mae\"])\n",
        "\n",
        "#Fit the model \n",
        "insurance_model_4.fit(X_train_normal, y_train, epochs=100)"
      ],
      "metadata": {
        "colab": {
          "base_uri": "https://localhost:8080/"
        },
        "id": "EcueZbDe7N8E",
        "outputId": "05a75de1-b2a6-401d-fc02-f812fc681179"
      },
      "execution_count": null,
      "outputs": [
        {
          "output_type": "stream",
          "name": "stdout",
          "text": [
            "Epoch 1/100\n",
            "34/34 [==============================] - 1s 2ms/step - loss: 13343.7764 - mae: 13343.7764\n",
            "Epoch 2/100\n",
            "34/34 [==============================] - 0s 2ms/step - loss: 13335.9307 - mae: 13335.9307\n",
            "Epoch 3/100\n",
            "34/34 [==============================] - 0s 2ms/step - loss: 13316.4561 - mae: 13316.4561\n",
            "Epoch 4/100\n",
            "34/34 [==============================] - 0s 2ms/step - loss: 13275.1865 - mae: 13275.1865\n",
            "Epoch 5/100\n",
            "34/34 [==============================] - 0s 2ms/step - loss: 13200.8271 - mae: 13200.8271\n",
            "Epoch 6/100\n",
            "34/34 [==============================] - 0s 2ms/step - loss: 13082.1299 - mae: 13082.1299\n",
            "Epoch 7/100\n",
            "34/34 [==============================] - 0s 2ms/step - loss: 12908.8281 - mae: 12908.8281\n",
            "Epoch 8/100\n",
            "34/34 [==============================] - 0s 2ms/step - loss: 12670.5059 - mae: 12670.5059\n",
            "Epoch 9/100\n",
            "34/34 [==============================] - 0s 2ms/step - loss: 12357.3486 - mae: 12357.3486\n",
            "Epoch 10/100\n",
            "34/34 [==============================] - 0s 2ms/step - loss: 11963.1162 - mae: 11963.1162\n",
            "Epoch 11/100\n",
            "34/34 [==============================] - 0s 2ms/step - loss: 11494.5156 - mae: 11494.5156\n",
            "Epoch 12/100\n",
            "34/34 [==============================] - 0s 2ms/step - loss: 10994.7939 - mae: 10994.7939\n",
            "Epoch 13/100\n",
            "34/34 [==============================] - 0s 2ms/step - loss: 10496.6182 - mae: 10496.6182\n",
            "Epoch 14/100\n",
            "34/34 [==============================] - 0s 2ms/step - loss: 10005.3154 - mae: 10005.3154\n",
            "Epoch 15/100\n",
            "34/34 [==============================] - 0s 2ms/step - loss: 9529.8389 - mae: 9529.8389\n",
            "Epoch 16/100\n",
            "34/34 [==============================] - 0s 2ms/step - loss: 9113.4131 - mae: 9113.4131\n",
            "Epoch 17/100\n",
            "34/34 [==============================] - 0s 2ms/step - loss: 8762.1963 - mae: 8762.1963\n",
            "Epoch 18/100\n",
            "34/34 [==============================] - 0s 2ms/step - loss: 8479.0117 - mae: 8479.0117\n",
            "Epoch 19/100\n",
            "34/34 [==============================] - 0s 2ms/step - loss: 8263.2598 - mae: 8263.2598\n",
            "Epoch 20/100\n",
            "34/34 [==============================] - 0s 2ms/step - loss: 8107.9878 - mae: 8107.9878\n",
            "Epoch 21/100\n",
            "34/34 [==============================] - 0s 2ms/step - loss: 8001.3643 - mae: 8001.3643\n",
            "Epoch 22/100\n",
            "34/34 [==============================] - 0s 2ms/step - loss: 7925.1440 - mae: 7925.1440\n",
            "Epoch 23/100\n",
            "34/34 [==============================] - 0s 2ms/step - loss: 7867.4395 - mae: 7867.4395\n",
            "Epoch 24/100\n",
            "34/34 [==============================] - 0s 2ms/step - loss: 7817.7803 - mae: 7817.7803\n",
            "Epoch 25/100\n",
            "34/34 [==============================] - 0s 2ms/step - loss: 7773.3110 - mae: 7773.3110\n",
            "Epoch 26/100\n",
            "34/34 [==============================] - 0s 2ms/step - loss: 7728.9839 - mae: 7728.9839\n",
            "Epoch 27/100\n",
            "34/34 [==============================] - 0s 2ms/step - loss: 7686.7988 - mae: 7686.7988\n",
            "Epoch 28/100\n",
            "34/34 [==============================] - 0s 2ms/step - loss: 7643.3545 - mae: 7643.3545\n",
            "Epoch 29/100\n",
            "34/34 [==============================] - 0s 2ms/step - loss: 7601.9126 - mae: 7601.9126\n",
            "Epoch 30/100\n",
            "34/34 [==============================] - 0s 2ms/step - loss: 7558.8843 - mae: 7558.8843\n",
            "Epoch 31/100\n",
            "34/34 [==============================] - 0s 2ms/step - loss: 7516.3569 - mae: 7516.3569\n",
            "Epoch 32/100\n",
            "34/34 [==============================] - 0s 2ms/step - loss: 7472.9927 - mae: 7472.9927\n",
            "Epoch 33/100\n",
            "34/34 [==============================] - 0s 2ms/step - loss: 7427.9224 - mae: 7427.9224\n",
            "Epoch 34/100\n",
            "34/34 [==============================] - 0s 2ms/step - loss: 7381.8193 - mae: 7381.8193\n",
            "Epoch 35/100\n",
            "34/34 [==============================] - 0s 2ms/step - loss: 7335.2881 - mae: 7335.2881\n",
            "Epoch 36/100\n",
            "34/34 [==============================] - 0s 2ms/step - loss: 7288.1108 - mae: 7288.1108\n",
            "Epoch 37/100\n",
            "34/34 [==============================] - 0s 2ms/step - loss: 7238.7329 - mae: 7238.7329\n",
            "Epoch 38/100\n",
            "34/34 [==============================] - 0s 2ms/step - loss: 7188.4858 - mae: 7188.4858\n",
            "Epoch 39/100\n",
            "34/34 [==============================] - 0s 2ms/step - loss: 7135.8579 - mae: 7135.8579\n",
            "Epoch 40/100\n",
            "34/34 [==============================] - 0s 2ms/step - loss: 7082.3481 - mae: 7082.3481\n",
            "Epoch 41/100\n",
            "34/34 [==============================] - 0s 2ms/step - loss: 7025.8813 - mae: 7025.8813\n",
            "Epoch 42/100\n",
            "34/34 [==============================] - 0s 2ms/step - loss: 6969.7573 - mae: 6969.7573\n",
            "Epoch 43/100\n",
            "34/34 [==============================] - 0s 2ms/step - loss: 6909.5532 - mae: 6909.5532\n",
            "Epoch 44/100\n",
            "34/34 [==============================] - 0s 2ms/step - loss: 6847.8999 - mae: 6847.8999\n",
            "Epoch 45/100\n",
            "34/34 [==============================] - 0s 2ms/step - loss: 6783.2520 - mae: 6783.2520\n",
            "Epoch 46/100\n",
            "34/34 [==============================] - 0s 2ms/step - loss: 6715.9990 - mae: 6715.9990\n",
            "Epoch 47/100\n",
            "34/34 [==============================] - 0s 2ms/step - loss: 6650.2764 - mae: 6650.2764\n",
            "Epoch 48/100\n",
            "34/34 [==============================] - 0s 2ms/step - loss: 6572.8438 - mae: 6572.8438\n",
            "Epoch 49/100\n",
            "34/34 [==============================] - 0s 2ms/step - loss: 6494.8853 - mae: 6494.8853\n",
            "Epoch 50/100\n",
            "34/34 [==============================] - 0s 2ms/step - loss: 6414.3491 - mae: 6414.3491\n",
            "Epoch 51/100\n",
            "34/34 [==============================] - 0s 2ms/step - loss: 6330.2793 - mae: 6330.2793\n",
            "Epoch 52/100\n",
            "34/34 [==============================] - 0s 2ms/step - loss: 6243.5967 - mae: 6243.5967\n",
            "Epoch 53/100\n",
            "34/34 [==============================] - 0s 2ms/step - loss: 6150.2036 - mae: 6150.2036\n",
            "Epoch 54/100\n",
            "34/34 [==============================] - 0s 2ms/step - loss: 6054.0781 - mae: 6054.0781\n",
            "Epoch 55/100\n",
            "34/34 [==============================] - 0s 2ms/step - loss: 5954.3315 - mae: 5954.3315\n",
            "Epoch 56/100\n",
            "34/34 [==============================] - 0s 2ms/step - loss: 5849.5220 - mae: 5849.5220\n",
            "Epoch 57/100\n",
            "34/34 [==============================] - 0s 2ms/step - loss: 5739.0039 - mae: 5739.0039\n",
            "Epoch 58/100\n",
            "34/34 [==============================] - 0s 2ms/step - loss: 5626.5815 - mae: 5626.5815\n",
            "Epoch 59/100\n",
            "34/34 [==============================] - 0s 2ms/step - loss: 5511.2725 - mae: 5511.2725\n",
            "Epoch 60/100\n",
            "34/34 [==============================] - 0s 2ms/step - loss: 5389.9888 - mae: 5389.9888\n",
            "Epoch 61/100\n",
            "34/34 [==============================] - 0s 2ms/step - loss: 5266.3403 - mae: 5266.3403\n",
            "Epoch 62/100\n",
            "34/34 [==============================] - 0s 2ms/step - loss: 5139.7310 - mae: 5139.7310\n",
            "Epoch 63/100\n",
            "34/34 [==============================] - 0s 2ms/step - loss: 5011.3022 - mae: 5011.3022\n",
            "Epoch 64/100\n",
            "34/34 [==============================] - 0s 2ms/step - loss: 4877.8442 - mae: 4877.8442\n",
            "Epoch 65/100\n",
            "34/34 [==============================] - 0s 2ms/step - loss: 4747.7134 - mae: 4747.7134\n",
            "Epoch 66/100\n",
            "34/34 [==============================] - 0s 2ms/step - loss: 4619.3623 - mae: 4619.3623\n",
            "Epoch 67/100\n",
            "34/34 [==============================] - 0s 2ms/step - loss: 4495.4292 - mae: 4495.4292\n",
            "Epoch 68/100\n",
            "34/34 [==============================] - 0s 2ms/step - loss: 4378.5542 - mae: 4378.5542\n",
            "Epoch 69/100\n",
            "34/34 [==============================] - 0s 2ms/step - loss: 4271.8398 - mae: 4271.8398\n",
            "Epoch 70/100\n",
            "34/34 [==============================] - 0s 2ms/step - loss: 4168.3711 - mae: 4168.3711\n",
            "Epoch 71/100\n",
            "34/34 [==============================] - 0s 2ms/step - loss: 4073.4529 - mae: 4073.4529\n",
            "Epoch 72/100\n",
            "34/34 [==============================] - 0s 2ms/step - loss: 3990.3630 - mae: 3990.3630\n",
            "Epoch 73/100\n",
            "34/34 [==============================] - 0s 2ms/step - loss: 3915.6201 - mae: 3915.6201\n",
            "Epoch 74/100\n",
            "34/34 [==============================] - 0s 2ms/step - loss: 3855.0872 - mae: 3855.0872\n",
            "Epoch 75/100\n",
            "34/34 [==============================] - 0s 2ms/step - loss: 3803.0596 - mae: 3803.0596\n",
            "Epoch 76/100\n",
            "34/34 [==============================] - 0s 2ms/step - loss: 3764.8594 - mae: 3764.8594\n",
            "Epoch 77/100\n",
            "34/34 [==============================] - 0s 2ms/step - loss: 3735.4248 - mae: 3735.4248\n",
            "Epoch 78/100\n",
            "34/34 [==============================] - 0s 2ms/step - loss: 3712.7000 - mae: 3712.7000\n",
            "Epoch 79/100\n",
            "34/34 [==============================] - 0s 2ms/step - loss: 3698.8384 - mae: 3698.8384\n",
            "Epoch 80/100\n",
            "34/34 [==============================] - 0s 2ms/step - loss: 3687.5637 - mae: 3687.5637\n",
            "Epoch 81/100\n",
            "34/34 [==============================] - 0s 2ms/step - loss: 3678.9490 - mae: 3678.9490\n",
            "Epoch 82/100\n",
            "34/34 [==============================] - 0s 2ms/step - loss: 3673.8413 - mae: 3673.8413\n",
            "Epoch 83/100\n",
            "34/34 [==============================] - 0s 2ms/step - loss: 3668.3601 - mae: 3668.3601\n",
            "Epoch 84/100\n",
            "34/34 [==============================] - 0s 2ms/step - loss: 3667.0994 - mae: 3667.0994\n",
            "Epoch 85/100\n",
            "34/34 [==============================] - 0s 2ms/step - loss: 3662.2878 - mae: 3662.2878\n",
            "Epoch 86/100\n",
            "34/34 [==============================] - 0s 2ms/step - loss: 3660.4451 - mae: 3660.4451\n",
            "Epoch 87/100\n",
            "34/34 [==============================] - 0s 2ms/step - loss: 3658.5732 - mae: 3658.5732\n",
            "Epoch 88/100\n",
            "34/34 [==============================] - 0s 2ms/step - loss: 3658.1199 - mae: 3658.1199\n",
            "Epoch 89/100\n",
            "34/34 [==============================] - 0s 2ms/step - loss: 3655.4163 - mae: 3655.4163\n",
            "Epoch 90/100\n",
            "34/34 [==============================] - 0s 2ms/step - loss: 3654.4065 - mae: 3654.4065\n",
            "Epoch 91/100\n",
            "34/34 [==============================] - 0s 2ms/step - loss: 3649.1953 - mae: 3649.1953\n",
            "Epoch 92/100\n",
            "34/34 [==============================] - 0s 2ms/step - loss: 3649.3826 - mae: 3649.3826\n",
            "Epoch 93/100\n",
            "34/34 [==============================] - 0s 2ms/step - loss: 3647.7483 - mae: 3647.7483\n",
            "Epoch 94/100\n",
            "34/34 [==============================] - 0s 3ms/step - loss: 3645.5190 - mae: 3645.5190\n",
            "Epoch 95/100\n",
            "34/34 [==============================] - 0s 2ms/step - loss: 3644.9248 - mae: 3644.9248\n",
            "Epoch 96/100\n",
            "34/34 [==============================] - 0s 2ms/step - loss: 3642.4404 - mae: 3642.4404\n",
            "Epoch 97/100\n",
            "34/34 [==============================] - 0s 2ms/step - loss: 3641.3997 - mae: 3641.3997\n",
            "Epoch 98/100\n",
            "34/34 [==============================] - 0s 2ms/step - loss: 3638.6887 - mae: 3638.6887\n",
            "Epoch 99/100\n",
            "34/34 [==============================] - 0s 2ms/step - loss: 3637.4333 - mae: 3637.4333\n",
            "Epoch 100/100\n",
            "34/34 [==============================] - 0s 2ms/step - loss: 3638.2307 - mae: 3638.2307\n"
          ]
        },
        {
          "output_type": "execute_result",
          "data": {
            "text/plain": [
              "<keras.callbacks.History at 0x7f393391c250>"
            ]
          },
          "metadata": {},
          "execution_count": 3
        }
      ]
    },
    {
      "cell_type": "code",
      "source": [
        "#Evaluate our insurance model trained on normalized data \n",
        "insurance_model_4.evaluate(X_test_normal, y_test)"
      ],
      "metadata": {
        "colab": {
          "base_uri": "https://localhost:8080/"
        },
        "id": "XdJglAYC8uSJ",
        "outputId": "d26bd4c8-0541-46e1-e692-d473b41d06b3"
      },
      "execution_count": null,
      "outputs": [
        {
          "output_type": "stream",
          "name": "stdout",
          "text": [
            "9/9 [==============================] - 0s 2ms/step - loss: 3443.3657 - mae: 3443.3657\n"
          ]
        },
        {
          "output_type": "execute_result",
          "data": {
            "text/plain": [
              "[3443.36572265625, 3443.36572265625]"
            ]
          },
          "metadata": {},
          "execution_count": 4
        }
      ]
    },
    {
      "cell_type": "code",
      "source": [
        "X[\"age\"].plot(kind=\"hist\")"
      ],
      "metadata": {
        "colab": {
          "base_uri": "https://localhost:8080/",
          "height": 282
        },
        "id": "GO0ucnw9vU7r",
        "outputId": "d2cc7dab-2fa8-4623-9ad1-3175e7d035d2"
      },
      "execution_count": null,
      "outputs": [
        {
          "output_type": "execute_result",
          "data": {
            "text/plain": [
              "<matplotlib.axes._subplots.AxesSubplot at 0x7f11b833e750>"
            ]
          },
          "metadata": {},
          "execution_count": 50
        },
        {
          "output_type": "display_data",
          "data": {
            "text/plain": [
              "<Figure size 432x288 with 1 Axes>"
            ],
            "image/png": "[encoded data removed]"
          },
          "metadata": {
            "needs_background": "light"
          }
        }
      ]
    },
    {
      "cell_type": "code",
      "source": [
        "X[\"children\"].value_counts()"
      ],
      "metadata": {
        "colab": {
          "base_uri": "https://localhost:8080/"
        },
        "id": "d5Cc3XeYvlUk",
        "outputId": "ca31edd5-8e1c-421d-96ae-11fd0af0ad1e"
      },
      "execution_count": null,
      "outputs": [
        {
          "output_type": "execute_result",
          "data": {
            "text/plain": [
              "0    574\n",
              "1    324\n",
              "2    240\n",
              "3    157\n",
              "4     25\n",
              "5     18\n",
              "Name: children, dtype: int64"
            ]
          },
          "metadata": {},
          "execution_count": 53
        }
      ]
    },
    {
      "cell_type": "code",
      "source": [
        ""
      ],
      "metadata": {
        "id": "uYma53A9vrMF"
      },
      "execution_count": null,
      "outputs": []
    }
  ],
  "metadata": {
    "colab": {
      "name": "01_neural_network_regression_with_tensorflow.ipynb",
      "provenance": [],
      "collapsed_sections": []
    },
    "kernelspec": {
      "display_name": "Python 3",
      "name": "python3"
    },
    "language_info": {
      "name": "python"
    }
  },
  "nbformat": 4,
  "nbformat_minor": 0
}